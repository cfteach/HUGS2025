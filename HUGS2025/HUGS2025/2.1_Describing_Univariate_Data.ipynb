{
 "cells": [
  {
   "cell_type": "markdown",
   "metadata": {
    "tags": []
   },
   "source": [
    "## DATA 201\n",
    "## Describing Univariate Data with Statistics and Plots"
   ]
  },
  {
   "cell_type": "markdown",
   "metadata": {},
   "source": [
    "Before building a model or doing any analysis, it's important to understand the data you are working with.  This includes things such as understanding what was measured, how the data was collected, being able to produce useful summaries of the data, and determine if there are any potential problems/mistakes in the data.\n",
    "\n",
    "Additionally, these things are also useful when you are trying to interpret the results of someone else's analysis.  \n",
    "\n",
    "You should ALWAYS, ALWAYS look at your data. Don't assume that any method you are trying to use automatically works for the type of data you have.  "
   ]
  },
  {
   "cell_type": "code",
   "execution_count": 1,
   "metadata": {},
   "outputs": [],
   "source": [
    "#data source: Times Higher Education/Wall Street Journal via Kaggle: \n",
    "#https://www.kaggle.com/datasets/mylesoneill/world-university-rankings\n",
    "#methodology"
   ]
  },
  {
   "cell_type": "code",
   "execution_count": 2,
   "metadata": {
    "tags": []
   },
   "outputs": [],
   "source": [
    "import pandas as pd"
   ]
  },
  {
   "cell_type": "code",
   "execution_count": 3,
   "metadata": {
    "tags": []
   },
   "outputs": [],
   "source": [
    "college = pd.read_csv('./data/timesData.csv')"
   ]
  },
  {
   "cell_type": "code",
   "execution_count": 4,
   "metadata": {
    "tags": []
   },
   "outputs": [
    {
     "data": {
      "text/html": [
       "<div>\n",
       "<style scoped>\n",
       "    .dataframe tbody tr th:only-of-type {\n",
       "        vertical-align: middle;\n",
       "    }\n",
       "\n",
       "    .dataframe tbody tr th {\n",
       "        vertical-align: top;\n",
       "    }\n",
       "\n",
       "    .dataframe thead th {\n",
       "        text-align: right;\n",
       "    }\n",
       "</style>\n",
       "<table border=\"1\" class=\"dataframe\">\n",
       "  <thead>\n",
       "    <tr style=\"text-align: right;\">\n",
       "      <th></th>\n",
       "      <th>world_rank</th>\n",
       "      <th>university_name</th>\n",
       "      <th>country</th>\n",
       "      <th>teaching</th>\n",
       "      <th>international</th>\n",
       "      <th>research</th>\n",
       "      <th>citations</th>\n",
       "      <th>income</th>\n",
       "      <th>total_score</th>\n",
       "      <th>num_students</th>\n",
       "      <th>student_staff_ratio</th>\n",
       "      <th>international_students</th>\n",
       "      <th>female_male_ratio</th>\n",
       "      <th>year</th>\n",
       "    </tr>\n",
       "  </thead>\n",
       "  <tbody>\n",
       "    <tr>\n",
       "      <th>2600</th>\n",
       "      <td>601-800</td>\n",
       "      <td>Yokohama City University</td>\n",
       "      <td>Japan</td>\n",
       "      <td>24.0</td>\n",
       "      <td>16.1</td>\n",
       "      <td>10.2</td>\n",
       "      <td>36.4</td>\n",
       "      <td>37.9</td>\n",
       "      <td>-</td>\n",
       "      <td>4,122</td>\n",
       "      <td>3.7</td>\n",
       "      <td>3%</td>\n",
       "      <td>NaN</td>\n",
       "      <td>2016</td>\n",
       "    </tr>\n",
       "    <tr>\n",
       "      <th>2601</th>\n",
       "      <td>601-800</td>\n",
       "      <td>Yokohama National University</td>\n",
       "      <td>Japan</td>\n",
       "      <td>20.1</td>\n",
       "      <td>23.3</td>\n",
       "      <td>16.0</td>\n",
       "      <td>13.5</td>\n",
       "      <td>40.4</td>\n",
       "      <td>-</td>\n",
       "      <td>10,117</td>\n",
       "      <td>12.1</td>\n",
       "      <td>8%</td>\n",
       "      <td>28 : 72</td>\n",
       "      <td>2016</td>\n",
       "    </tr>\n",
       "    <tr>\n",
       "      <th>2602</th>\n",
       "      <td>601-800</td>\n",
       "      <td>Yuan Ze University</td>\n",
       "      <td>Taiwan</td>\n",
       "      <td>16.2</td>\n",
       "      <td>17.7</td>\n",
       "      <td>18.3</td>\n",
       "      <td>28.6</td>\n",
       "      <td>39.8</td>\n",
       "      <td>-</td>\n",
       "      <td>8,663</td>\n",
       "      <td>20.6</td>\n",
       "      <td>4%</td>\n",
       "      <td>43 : 57</td>\n",
       "      <td>2016</td>\n",
       "    </tr>\n",
       "  </tbody>\n",
       "</table>\n",
       "</div>"
      ],
      "text/plain": [
       "     world_rank               university_name country  teaching international  \\\n",
       "2600    601-800      Yokohama City University   Japan      24.0          16.1   \n",
       "2601    601-800  Yokohama National University   Japan      20.1          23.3   \n",
       "2602    601-800            Yuan Ze University  Taiwan      16.2          17.7   \n",
       "\n",
       "      research  citations income total_score num_students  \\\n",
       "2600      10.2       36.4   37.9           -        4,122   \n",
       "2601      16.0       13.5   40.4           -       10,117   \n",
       "2602      18.3       28.6   39.8           -        8,663   \n",
       "\n",
       "      student_staff_ratio international_students female_male_ratio  year  \n",
       "2600                  3.7                     3%               NaN  2016  \n",
       "2601                 12.1                     8%           28 : 72  2016  \n",
       "2602                 20.6                     4%           43 : 57  2016  "
      ]
     },
     "execution_count": 4,
     "metadata": {},
     "output_type": "execute_result"
    }
   ],
   "source": [
    "college.tail(3)"
   ]
  },
  {
   "cell_type": "code",
   "execution_count": 5,
   "metadata": {
    "tags": []
   },
   "outputs": [],
   "source": [
    "college.set_index('university_name', inplace = True)"
   ]
  },
  {
   "cell_type": "code",
   "execution_count": 6,
   "metadata": {
    "tags": []
   },
   "outputs": [
    {
     "data": {
      "text/html": [
       "<div>\n",
       "<style scoped>\n",
       "    .dataframe tbody tr th:only-of-type {\n",
       "        vertical-align: middle;\n",
       "    }\n",
       "\n",
       "    .dataframe tbody tr th {\n",
       "        vertical-align: top;\n",
       "    }\n",
       "\n",
       "    .dataframe thead th {\n",
       "        text-align: right;\n",
       "    }\n",
       "</style>\n",
       "<table border=\"1\" class=\"dataframe\">\n",
       "  <thead>\n",
       "    <tr style=\"text-align: right;\">\n",
       "      <th></th>\n",
       "      <th>world_rank</th>\n",
       "      <th>country</th>\n",
       "      <th>teaching</th>\n",
       "      <th>international</th>\n",
       "      <th>research</th>\n",
       "      <th>citations</th>\n",
       "      <th>income</th>\n",
       "      <th>total_score</th>\n",
       "      <th>num_students</th>\n",
       "      <th>student_staff_ratio</th>\n",
       "      <th>international_students</th>\n",
       "      <th>female_male_ratio</th>\n",
       "      <th>year</th>\n",
       "    </tr>\n",
       "    <tr>\n",
       "      <th>university_name</th>\n",
       "      <th></th>\n",
       "      <th></th>\n",
       "      <th></th>\n",
       "      <th></th>\n",
       "      <th></th>\n",
       "      <th></th>\n",
       "      <th></th>\n",
       "      <th></th>\n",
       "      <th></th>\n",
       "      <th></th>\n",
       "      <th></th>\n",
       "      <th></th>\n",
       "      <th></th>\n",
       "    </tr>\n",
       "  </thead>\n",
       "  <tbody>\n",
       "    <tr>\n",
       "      <th>Harvard University</th>\n",
       "      <td>1</td>\n",
       "      <td>United States of America</td>\n",
       "      <td>99.7</td>\n",
       "      <td>72.4</td>\n",
       "      <td>98.7</td>\n",
       "      <td>98.8</td>\n",
       "      <td>34.5</td>\n",
       "      <td>96.1</td>\n",
       "      <td>20,152</td>\n",
       "      <td>8.9</td>\n",
       "      <td>25%</td>\n",
       "      <td>NaN</td>\n",
       "      <td>2011</td>\n",
       "    </tr>\n",
       "    <tr>\n",
       "      <th>California Institute of Technology</th>\n",
       "      <td>2</td>\n",
       "      <td>United States of America</td>\n",
       "      <td>97.7</td>\n",
       "      <td>54.6</td>\n",
       "      <td>98.0</td>\n",
       "      <td>99.9</td>\n",
       "      <td>83.7</td>\n",
       "      <td>96.0</td>\n",
       "      <td>2,243</td>\n",
       "      <td>6.9</td>\n",
       "      <td>27%</td>\n",
       "      <td>33 : 67</td>\n",
       "      <td>2011</td>\n",
       "    </tr>\n",
       "    <tr>\n",
       "      <th>Massachusetts Institute of Technology</th>\n",
       "      <td>3</td>\n",
       "      <td>United States of America</td>\n",
       "      <td>97.8</td>\n",
       "      <td>82.3</td>\n",
       "      <td>91.4</td>\n",
       "      <td>99.9</td>\n",
       "      <td>87.5</td>\n",
       "      <td>95.6</td>\n",
       "      <td>11,074</td>\n",
       "      <td>9.0</td>\n",
       "      <td>33%</td>\n",
       "      <td>37 : 63</td>\n",
       "      <td>2011</td>\n",
       "    </tr>\n",
       "    <tr>\n",
       "      <th>Stanford University</th>\n",
       "      <td>4</td>\n",
       "      <td>United States of America</td>\n",
       "      <td>98.3</td>\n",
       "      <td>29.5</td>\n",
       "      <td>98.1</td>\n",
       "      <td>99.2</td>\n",
       "      <td>64.3</td>\n",
       "      <td>94.3</td>\n",
       "      <td>15,596</td>\n",
       "      <td>7.8</td>\n",
       "      <td>22%</td>\n",
       "      <td>42 : 58</td>\n",
       "      <td>2011</td>\n",
       "    </tr>\n",
       "    <tr>\n",
       "      <th>Princeton University</th>\n",
       "      <td>5</td>\n",
       "      <td>United States of America</td>\n",
       "      <td>90.9</td>\n",
       "      <td>70.3</td>\n",
       "      <td>95.4</td>\n",
       "      <td>99.9</td>\n",
       "      <td>-</td>\n",
       "      <td>94.2</td>\n",
       "      <td>7,929</td>\n",
       "      <td>8.4</td>\n",
       "      <td>27%</td>\n",
       "      <td>45 : 55</td>\n",
       "      <td>2011</td>\n",
       "    </tr>\n",
       "  </tbody>\n",
       "</table>\n",
       "</div>"
      ],
      "text/plain": [
       "                                      world_rank                   country  \\\n",
       "university_name                                                              \n",
       "Harvard University                             1  United States of America   \n",
       "California Institute of Technology             2  United States of America   \n",
       "Massachusetts Institute of Technology          3  United States of America   \n",
       "Stanford University                            4  United States of America   \n",
       "Princeton University                           5  United States of America   \n",
       "\n",
       "                                       teaching international  research  \\\n",
       "university_name                                                           \n",
       "Harvard University                         99.7          72.4      98.7   \n",
       "California Institute of Technology         97.7          54.6      98.0   \n",
       "Massachusetts Institute of Technology      97.8          82.3      91.4   \n",
       "Stanford University                        98.3          29.5      98.1   \n",
       "Princeton University                       90.9          70.3      95.4   \n",
       "\n",
       "                                       citations income total_score  \\\n",
       "university_name                                                       \n",
       "Harvard University                          98.8   34.5        96.1   \n",
       "California Institute of Technology          99.9   83.7        96.0   \n",
       "Massachusetts Institute of Technology       99.9   87.5        95.6   \n",
       "Stanford University                         99.2   64.3        94.3   \n",
       "Princeton University                        99.9      -        94.2   \n",
       "\n",
       "                                      num_students  student_staff_ratio  \\\n",
       "university_name                                                           \n",
       "Harvard University                          20,152                  8.9   \n",
       "California Institute of Technology           2,243                  6.9   \n",
       "Massachusetts Institute of Technology       11,074                  9.0   \n",
       "Stanford University                         15,596                  7.8   \n",
       "Princeton University                         7,929                  8.4   \n",
       "\n",
       "                                      international_students  \\\n",
       "university_name                                                \n",
       "Harvard University                                       25%   \n",
       "California Institute of Technology                       27%   \n",
       "Massachusetts Institute of Technology                    33%   \n",
       "Stanford University                                      22%   \n",
       "Princeton University                                     27%   \n",
       "\n",
       "                                      female_male_ratio  year  \n",
       "university_name                                                \n",
       "Harvard University                                  NaN  2011  \n",
       "California Institute of Technology              33 : 67  2011  \n",
       "Massachusetts Institute of Technology           37 : 63  2011  \n",
       "Stanford University                             42 : 58  2011  \n",
       "Princeton University                            45 : 55  2011  "
      ]
     },
     "execution_count": 6,
     "metadata": {},
     "output_type": "execute_result"
    }
   ],
   "source": [
    "college.head()"
   ]
  },
  {
   "cell_type": "code",
   "execution_count": 7,
   "metadata": {},
   "outputs": [
    {
     "data": {
      "text/plain": [
       "country\n",
       "United States of America     659\n",
       "United Kingdom               300\n",
       "Germany                      152\n",
       "Australia                    117\n",
       "Canada                       108\n",
       "                            ... \n",
       "Unted Kingdom                  1\n",
       "Cyprus                         1\n",
       "Unisted States of America      1\n",
       "Luxembourg                     1\n",
       "Lithuania                      1\n",
       "Name: count, Length: 72, dtype: int64"
      ]
     },
     "execution_count": 7,
     "metadata": {},
     "output_type": "execute_result"
    }
   ],
   "source": [
    "college['country'].value_counts()"
   ]
  },
  {
   "cell_type": "code",
   "execution_count": 8,
   "metadata": {},
   "outputs": [
    {
     "data": {
      "text/html": [
       "<div>\n",
       "<style scoped>\n",
       "    .dataframe tbody tr th:only-of-type {\n",
       "        vertical-align: middle;\n",
       "    }\n",
       "\n",
       "    .dataframe tbody tr th {\n",
       "        vertical-align: top;\n",
       "    }\n",
       "\n",
       "    .dataframe thead th {\n",
       "        text-align: right;\n",
       "    }\n",
       "</style>\n",
       "<table border=\"1\" class=\"dataframe\">\n",
       "  <thead>\n",
       "    <tr style=\"text-align: right;\">\n",
       "      <th></th>\n",
       "      <th>world_rank</th>\n",
       "      <th>country</th>\n",
       "      <th>teaching</th>\n",
       "      <th>international</th>\n",
       "      <th>research</th>\n",
       "      <th>citations</th>\n",
       "      <th>income</th>\n",
       "      <th>total_score</th>\n",
       "      <th>num_students</th>\n",
       "      <th>student_staff_ratio</th>\n",
       "      <th>international_students</th>\n",
       "      <th>female_male_ratio</th>\n",
       "      <th>year</th>\n",
       "    </tr>\n",
       "    <tr>\n",
       "      <th>university_name</th>\n",
       "      <th></th>\n",
       "      <th></th>\n",
       "      <th></th>\n",
       "      <th></th>\n",
       "      <th></th>\n",
       "      <th></th>\n",
       "      <th></th>\n",
       "      <th></th>\n",
       "      <th></th>\n",
       "      <th></th>\n",
       "      <th></th>\n",
       "      <th></th>\n",
       "      <th></th>\n",
       "    </tr>\n",
       "  </thead>\n",
       "  <tbody>\n",
       "    <tr>\n",
       "      <th>William &amp; Mary</th>\n",
       "      <td>75</td>\n",
       "      <td>United States of America</td>\n",
       "      <td>53.1</td>\n",
       "      <td>20.9</td>\n",
       "      <td>36.1</td>\n",
       "      <td>95.6</td>\n",
       "      <td>-</td>\n",
       "      <td>60.4</td>\n",
       "      <td>7,867</td>\n",
       "      <td>11.8</td>\n",
       "      <td>7%</td>\n",
       "      <td>54 : 46</td>\n",
       "      <td>2011</td>\n",
       "    </tr>\n",
       "    <tr>\n",
       "      <th>University of Maryland, College Park</th>\n",
       "      <td>98</td>\n",
       "      <td>United States of America</td>\n",
       "      <td>45.4</td>\n",
       "      <td>35.4</td>\n",
       "      <td>48.6</td>\n",
       "      <td>79.2</td>\n",
       "      <td>-</td>\n",
       "      <td>57.2</td>\n",
       "      <td>31,331</td>\n",
       "      <td>8.4</td>\n",
       "      <td>9%</td>\n",
       "      <td>48 : 52</td>\n",
       "      <td>2011</td>\n",
       "    </tr>\n",
       "    <tr>\n",
       "      <th>Queen Mary University of London</th>\n",
       "      <td>120</td>\n",
       "      <td>United Kingdom</td>\n",
       "      <td>39.7</td>\n",
       "      <td>91.0</td>\n",
       "      <td>44.1</td>\n",
       "      <td>73.5</td>\n",
       "      <td>38.9</td>\n",
       "      <td>54.6</td>\n",
       "      <td>14,260</td>\n",
       "      <td>14.0</td>\n",
       "      <td>40%</td>\n",
       "      <td>52 : 48</td>\n",
       "      <td>2011</td>\n",
       "    </tr>\n",
       "    <tr>\n",
       "      <th>University of Maryland, College Park</th>\n",
       "      <td>94</td>\n",
       "      <td>United States of America</td>\n",
       "      <td>41.1</td>\n",
       "      <td>35.3</td>\n",
       "      <td>43.6</td>\n",
       "      <td>85.8</td>\n",
       "      <td>28.5</td>\n",
       "      <td>54.5</td>\n",
       "      <td>31,331</td>\n",
       "      <td>8.4</td>\n",
       "      <td>9%</td>\n",
       "      <td>48 : 52</td>\n",
       "      <td>2012</td>\n",
       "    </tr>\n",
       "    <tr>\n",
       "      <th>Queen Mary University of London</th>\n",
       "      <td>127</td>\n",
       "      <td>United Kingdom</td>\n",
       "      <td>29.0</td>\n",
       "      <td>88.8</td>\n",
       "      <td>28.6</td>\n",
       "      <td>83.7</td>\n",
       "      <td>36.6</td>\n",
       "      <td>49.9</td>\n",
       "      <td>14,260</td>\n",
       "      <td>14.0</td>\n",
       "      <td>40%</td>\n",
       "      <td>52 : 48</td>\n",
       "      <td>2012</td>\n",
       "    </tr>\n",
       "    <tr>\n",
       "      <th>William &amp; Mary</th>\n",
       "      <td>146</td>\n",
       "      <td>United States of America</td>\n",
       "      <td>40.0</td>\n",
       "      <td>19.7</td>\n",
       "      <td>18.9</td>\n",
       "      <td>90.7</td>\n",
       "      <td>27.0</td>\n",
       "      <td>47.0</td>\n",
       "      <td>7,867</td>\n",
       "      <td>11.8</td>\n",
       "      <td>7%</td>\n",
       "      <td>54 : 46</td>\n",
       "      <td>2012</td>\n",
       "    </tr>\n",
       "    <tr>\n",
       "      <th>University of Maryland, Baltimore County</th>\n",
       "      <td>301-350</td>\n",
       "      <td>United States of America</td>\n",
       "      <td>17.6</td>\n",
       "      <td>18.6</td>\n",
       "      <td>14.5</td>\n",
       "      <td>52.8</td>\n",
       "      <td>29.9</td>\n",
       "      <td>-</td>\n",
       "      <td>13,908</td>\n",
       "      <td>18.1</td>\n",
       "      <td>7%</td>\n",
       "      <td>46 : 54</td>\n",
       "      <td>2012</td>\n",
       "    </tr>\n",
       "    <tr>\n",
       "      <th>University of Maryland, College Park</th>\n",
       "      <td>97</td>\n",
       "      <td>United States of America</td>\n",
       "      <td>44.9</td>\n",
       "      <td>40.4</td>\n",
       "      <td>51.4</td>\n",
       "      <td>83.9</td>\n",
       "      <td>32.1</td>\n",
       "      <td>57.9</td>\n",
       "      <td>31,331</td>\n",
       "      <td>8.4</td>\n",
       "      <td>9%</td>\n",
       "      <td>48 : 52</td>\n",
       "      <td>2013</td>\n",
       "    </tr>\n",
       "    <tr>\n",
       "      <th>Queen Mary University of London</th>\n",
       "      <td>145</td>\n",
       "      <td>United Kingdom</td>\n",
       "      <td>33.1</td>\n",
       "      <td>87.0</td>\n",
       "      <td>30.0</td>\n",
       "      <td>85.4</td>\n",
       "      <td>42.7</td>\n",
       "      <td>52.1</td>\n",
       "      <td>14,260</td>\n",
       "      <td>14.0</td>\n",
       "      <td>40%</td>\n",
       "      <td>52 : 48</td>\n",
       "      <td>2013</td>\n",
       "    </tr>\n",
       "    <tr>\n",
       "      <th>William &amp; Mary</th>\n",
       "      <td>184</td>\n",
       "      <td>United States of America</td>\n",
       "      <td>41.3</td>\n",
       "      <td>25.8</td>\n",
       "      <td>22.6</td>\n",
       "      <td>87.1</td>\n",
       "      <td>29.9</td>\n",
       "      <td>48.0</td>\n",
       "      <td>7,867</td>\n",
       "      <td>11.8</td>\n",
       "      <td>7%</td>\n",
       "      <td>54 : 46</td>\n",
       "      <td>2013</td>\n",
       "    </tr>\n",
       "    <tr>\n",
       "      <th>University of Maryland, Baltimore County</th>\n",
       "      <td>301-350</td>\n",
       "      <td>United States of America</td>\n",
       "      <td>19.4</td>\n",
       "      <td>32.6</td>\n",
       "      <td>16.4</td>\n",
       "      <td>65.2</td>\n",
       "      <td>32.6</td>\n",
       "      <td>-</td>\n",
       "      <td>13,908</td>\n",
       "      <td>18.1</td>\n",
       "      <td>7%</td>\n",
       "      <td>46 : 54</td>\n",
       "      <td>2013</td>\n",
       "    </tr>\n",
       "    <tr>\n",
       "      <th>University of Maryland, College Park</th>\n",
       "      <td>108</td>\n",
       "      <td>United States of America</td>\n",
       "      <td>39.0</td>\n",
       "      <td>42.4</td>\n",
       "      <td>37.2</td>\n",
       "      <td>84.4</td>\n",
       "      <td>32.1</td>\n",
       "      <td>52.2</td>\n",
       "      <td>31,331</td>\n",
       "      <td>8.4</td>\n",
       "      <td>9%</td>\n",
       "      <td>48 : 52</td>\n",
       "      <td>2014</td>\n",
       "    </tr>\n",
       "    <tr>\n",
       "      <th>Queen Mary University of London</th>\n",
       "      <td>114</td>\n",
       "      <td>United Kingdom</td>\n",
       "      <td>31.0</td>\n",
       "      <td>88.0</td>\n",
       "      <td>29.2</td>\n",
       "      <td>87.0</td>\n",
       "      <td>37.7</td>\n",
       "      <td>51.7</td>\n",
       "      <td>14,260</td>\n",
       "      <td>14.0</td>\n",
       "      <td>40%</td>\n",
       "      <td>52 : 48</td>\n",
       "      <td>2014</td>\n",
       "    </tr>\n",
       "    <tr>\n",
       "      <th>William &amp; Mary</th>\n",
       "      <td>201-225</td>\n",
       "      <td>United States of America</td>\n",
       "      <td>37.2</td>\n",
       "      <td>26.0</td>\n",
       "      <td>18.5</td>\n",
       "      <td>73.6</td>\n",
       "      <td>31.9</td>\n",
       "      <td>-</td>\n",
       "      <td>7,867</td>\n",
       "      <td>11.8</td>\n",
       "      <td>7%</td>\n",
       "      <td>54 : 46</td>\n",
       "      <td>2014</td>\n",
       "    </tr>\n",
       "    <tr>\n",
       "      <th>University of Maryland, Baltimore County</th>\n",
       "      <td>351-400</td>\n",
       "      <td>United States of America</td>\n",
       "      <td>16.9</td>\n",
       "      <td>34.4</td>\n",
       "      <td>15.0</td>\n",
       "      <td>65.9</td>\n",
       "      <td>32.6</td>\n",
       "      <td>-</td>\n",
       "      <td>13,908</td>\n",
       "      <td>18.1</td>\n",
       "      <td>7%</td>\n",
       "      <td>46 : 54</td>\n",
       "      <td>2014</td>\n",
       "    </tr>\n",
       "    <tr>\n",
       "      <th>Queen Mary University of London</th>\n",
       "      <td>107</td>\n",
       "      <td>United Kingdom</td>\n",
       "      <td>32.4</td>\n",
       "      <td>88.6</td>\n",
       "      <td>32.9</td>\n",
       "      <td>88.9</td>\n",
       "      <td>37.1</td>\n",
       "      <td>53.8</td>\n",
       "      <td>14,260</td>\n",
       "      <td>14.0</td>\n",
       "      <td>40%</td>\n",
       "      <td>52 : 48</td>\n",
       "      <td>2015</td>\n",
       "    </tr>\n",
       "    <tr>\n",
       "      <th>University of Maryland, College Park</th>\n",
       "      <td>132</td>\n",
       "      <td>United States of America</td>\n",
       "      <td>36.5</td>\n",
       "      <td>44.8</td>\n",
       "      <td>39.1</td>\n",
       "      <td>83.6</td>\n",
       "      <td>33.2</td>\n",
       "      <td>51.9</td>\n",
       "      <td>31,331</td>\n",
       "      <td>8.4</td>\n",
       "      <td>9%</td>\n",
       "      <td>48 : 52</td>\n",
       "      <td>2015</td>\n",
       "    </tr>\n",
       "    <tr>\n",
       "      <th>William &amp; Mary</th>\n",
       "      <td>201-225</td>\n",
       "      <td>United States of America</td>\n",
       "      <td>36.8</td>\n",
       "      <td>26.5</td>\n",
       "      <td>19.9</td>\n",
       "      <td>78.7</td>\n",
       "      <td>30.0</td>\n",
       "      <td>-</td>\n",
       "      <td>7,867</td>\n",
       "      <td>11.8</td>\n",
       "      <td>7%</td>\n",
       "      <td>54 : 46</td>\n",
       "      <td>2015</td>\n",
       "    </tr>\n",
       "    <tr>\n",
       "      <th>Queen Mary University of London</th>\n",
       "      <td>98</td>\n",
       "      <td>United Kingdom</td>\n",
       "      <td>34.1</td>\n",
       "      <td>93.5</td>\n",
       "      <td>41.3</td>\n",
       "      <td>93.3</td>\n",
       "      <td>36.8</td>\n",
       "      <td>58.5</td>\n",
       "      <td>14,260</td>\n",
       "      <td>14.0</td>\n",
       "      <td>40%</td>\n",
       "      <td>52 : 48</td>\n",
       "      <td>2016</td>\n",
       "    </tr>\n",
       "    <tr>\n",
       "      <th>University of Maryland, College Park</th>\n",
       "      <td>117</td>\n",
       "      <td>United States of America</td>\n",
       "      <td>45.0</td>\n",
       "      <td>43.5</td>\n",
       "      <td>42.1</td>\n",
       "      <td>88.2</td>\n",
       "      <td>32.3</td>\n",
       "      <td>56.7</td>\n",
       "      <td>31,331</td>\n",
       "      <td>8.4</td>\n",
       "      <td>9%</td>\n",
       "      <td>48 : 52</td>\n",
       "      <td>2016</td>\n",
       "    </tr>\n",
       "    <tr>\n",
       "      <th>William &amp; Mary</th>\n",
       "      <td>201-250</td>\n",
       "      <td>United States of America</td>\n",
       "      <td>38.5</td>\n",
       "      <td>26.6</td>\n",
       "      <td>17.5</td>\n",
       "      <td>85.0</td>\n",
       "      <td>29.1</td>\n",
       "      <td>-</td>\n",
       "      <td>7,867</td>\n",
       "      <td>11.8</td>\n",
       "      <td>7%</td>\n",
       "      <td>54 : 46</td>\n",
       "      <td>2016</td>\n",
       "    </tr>\n",
       "    <tr>\n",
       "      <th>University of Maryland, Baltimore County</th>\n",
       "      <td>401-500</td>\n",
       "      <td>United States of America</td>\n",
       "      <td>21.3</td>\n",
       "      <td>28.2</td>\n",
       "      <td>18.2</td>\n",
       "      <td>61.3</td>\n",
       "      <td>31.7</td>\n",
       "      <td>-</td>\n",
       "      <td>13,908</td>\n",
       "      <td>18.1</td>\n",
       "      <td>7%</td>\n",
       "      <td>46 : 54</td>\n",
       "      <td>2016</td>\n",
       "    </tr>\n",
       "  </tbody>\n",
       "</table>\n",
       "</div>"
      ],
      "text/plain": [
       "                                         world_rank                   country  \\\n",
       "university_name                                                                 \n",
       "William & Mary                                   75  United States of America   \n",
       "University of Maryland, College Park             98  United States of America   \n",
       "Queen Mary University of London                 120            United Kingdom   \n",
       "University of Maryland, College Park             94  United States of America   \n",
       "Queen Mary University of London                 127            United Kingdom   \n",
       "William & Mary                                  146  United States of America   \n",
       "University of Maryland, Baltimore County    301-350  United States of America   \n",
       "University of Maryland, College Park             97  United States of America   \n",
       "Queen Mary University of London                 145            United Kingdom   \n",
       "William & Mary                                  184  United States of America   \n",
       "University of Maryland, Baltimore County    301-350  United States of America   \n",
       "University of Maryland, College Park            108  United States of America   \n",
       "Queen Mary University of London                 114            United Kingdom   \n",
       "William & Mary                              201-225  United States of America   \n",
       "University of Maryland, Baltimore County    351-400  United States of America   \n",
       "Queen Mary University of London                 107            United Kingdom   \n",
       "University of Maryland, College Park            132  United States of America   \n",
       "William & Mary                              201-225  United States of America   \n",
       "Queen Mary University of London                  98            United Kingdom   \n",
       "University of Maryland, College Park            117  United States of America   \n",
       "William & Mary                              201-250  United States of America   \n",
       "University of Maryland, Baltimore County    401-500  United States of America   \n",
       "\n",
       "                                          teaching international  research  \\\n",
       "university_name                                                              \n",
       "William & Mary                                53.1          20.9      36.1   \n",
       "University of Maryland, College Park          45.4          35.4      48.6   \n",
       "Queen Mary University of London               39.7          91.0      44.1   \n",
       "University of Maryland, College Park          41.1          35.3      43.6   \n",
       "Queen Mary University of London               29.0          88.8      28.6   \n",
       "William & Mary                                40.0          19.7      18.9   \n",
       "University of Maryland, Baltimore County      17.6          18.6      14.5   \n",
       "University of Maryland, College Park          44.9          40.4      51.4   \n",
       "Queen Mary University of London               33.1          87.0      30.0   \n",
       "William & Mary                                41.3          25.8      22.6   \n",
       "University of Maryland, Baltimore County      19.4          32.6      16.4   \n",
       "University of Maryland, College Park          39.0          42.4      37.2   \n",
       "Queen Mary University of London               31.0          88.0      29.2   \n",
       "William & Mary                                37.2          26.0      18.5   \n",
       "University of Maryland, Baltimore County      16.9          34.4      15.0   \n",
       "Queen Mary University of London               32.4          88.6      32.9   \n",
       "University of Maryland, College Park          36.5          44.8      39.1   \n",
       "William & Mary                                36.8          26.5      19.9   \n",
       "Queen Mary University of London               34.1          93.5      41.3   \n",
       "University of Maryland, College Park          45.0          43.5      42.1   \n",
       "William & Mary                                38.5          26.6      17.5   \n",
       "University of Maryland, Baltimore County      21.3          28.2      18.2   \n",
       "\n",
       "                                          citations income total_score  \\\n",
       "university_name                                                          \n",
       "William & Mary                                 95.6      -        60.4   \n",
       "University of Maryland, College Park           79.2      -        57.2   \n",
       "Queen Mary University of London                73.5   38.9        54.6   \n",
       "University of Maryland, College Park           85.8   28.5        54.5   \n",
       "Queen Mary University of London                83.7   36.6        49.9   \n",
       "William & Mary                                 90.7   27.0        47.0   \n",
       "University of Maryland, Baltimore County       52.8   29.9           -   \n",
       "University of Maryland, College Park           83.9   32.1        57.9   \n",
       "Queen Mary University of London                85.4   42.7        52.1   \n",
       "William & Mary                                 87.1   29.9        48.0   \n",
       "University of Maryland, Baltimore County       65.2   32.6           -   \n",
       "University of Maryland, College Park           84.4   32.1        52.2   \n",
       "Queen Mary University of London                87.0   37.7        51.7   \n",
       "William & Mary                                 73.6   31.9           -   \n",
       "University of Maryland, Baltimore County       65.9   32.6           -   \n",
       "Queen Mary University of London                88.9   37.1        53.8   \n",
       "University of Maryland, College Park           83.6   33.2        51.9   \n",
       "William & Mary                                 78.7   30.0           -   \n",
       "Queen Mary University of London                93.3   36.8        58.5   \n",
       "University of Maryland, College Park           88.2   32.3        56.7   \n",
       "William & Mary                                 85.0   29.1           -   \n",
       "University of Maryland, Baltimore County       61.3   31.7           -   \n",
       "\n",
       "                                         num_students  student_staff_ratio  \\\n",
       "university_name                                                              \n",
       "William & Mary                                  7,867                 11.8   \n",
       "University of Maryland, College Park           31,331                  8.4   \n",
       "Queen Mary University of London                14,260                 14.0   \n",
       "University of Maryland, College Park           31,331                  8.4   \n",
       "Queen Mary University of London                14,260                 14.0   \n",
       "William & Mary                                  7,867                 11.8   \n",
       "University of Maryland, Baltimore County       13,908                 18.1   \n",
       "University of Maryland, College Park           31,331                  8.4   \n",
       "Queen Mary University of London                14,260                 14.0   \n",
       "William & Mary                                  7,867                 11.8   \n",
       "University of Maryland, Baltimore County       13,908                 18.1   \n",
       "University of Maryland, College Park           31,331                  8.4   \n",
       "Queen Mary University of London                14,260                 14.0   \n",
       "William & Mary                                  7,867                 11.8   \n",
       "University of Maryland, Baltimore County       13,908                 18.1   \n",
       "Queen Mary University of London                14,260                 14.0   \n",
       "University of Maryland, College Park           31,331                  8.4   \n",
       "William & Mary                                  7,867                 11.8   \n",
       "Queen Mary University of London                14,260                 14.0   \n",
       "University of Maryland, College Park           31,331                  8.4   \n",
       "William & Mary                                  7,867                 11.8   \n",
       "University of Maryland, Baltimore County       13,908                 18.1   \n",
       "\n",
       "                                         international_students  \\\n",
       "university_name                                                   \n",
       "William & Mary                                               7%   \n",
       "University of Maryland, College Park                         9%   \n",
       "Queen Mary University of London                             40%   \n",
       "University of Maryland, College Park                         9%   \n",
       "Queen Mary University of London                             40%   \n",
       "William & Mary                                               7%   \n",
       "University of Maryland, Baltimore County                     7%   \n",
       "University of Maryland, College Park                         9%   \n",
       "Queen Mary University of London                             40%   \n",
       "William & Mary                                               7%   \n",
       "University of Maryland, Baltimore County                     7%   \n",
       "University of Maryland, College Park                         9%   \n",
       "Queen Mary University of London                             40%   \n",
       "William & Mary                                               7%   \n",
       "University of Maryland, Baltimore County                     7%   \n",
       "Queen Mary University of London                             40%   \n",
       "University of Maryland, College Park                         9%   \n",
       "William & Mary                                               7%   \n",
       "Queen Mary University of London                             40%   \n",
       "University of Maryland, College Park                         9%   \n",
       "William & Mary                                               7%   \n",
       "University of Maryland, Baltimore County                     7%   \n",
       "\n",
       "                                         female_male_ratio  year  \n",
       "university_name                                                   \n",
       "William & Mary                                     54 : 46  2011  \n",
       "University of Maryland, College Park               48 : 52  2011  \n",
       "Queen Mary University of London                    52 : 48  2011  \n",
       "University of Maryland, College Park               48 : 52  2012  \n",
       "Queen Mary University of London                    52 : 48  2012  \n",
       "William & Mary                                     54 : 46  2012  \n",
       "University of Maryland, Baltimore County           46 : 54  2012  \n",
       "University of Maryland, College Park               48 : 52  2013  \n",
       "Queen Mary University of London                    52 : 48  2013  \n",
       "William & Mary                                     54 : 46  2013  \n",
       "University of Maryland, Baltimore County           46 : 54  2013  \n",
       "University of Maryland, College Park               48 : 52  2014  \n",
       "Queen Mary University of London                    52 : 48  2014  \n",
       "William & Mary                                     54 : 46  2014  \n",
       "University of Maryland, Baltimore County           46 : 54  2014  \n",
       "Queen Mary University of London                    52 : 48  2015  \n",
       "University of Maryland, College Park               48 : 52  2015  \n",
       "William & Mary                                     54 : 46  2015  \n",
       "Queen Mary University of London                    52 : 48  2016  \n",
       "University of Maryland, College Park               48 : 52  2016  \n",
       "William & Mary                                     54 : 46  2016  \n",
       "University of Maryland, Baltimore County           46 : 54  2016  "
      ]
     },
     "execution_count": 8,
     "metadata": {},
     "output_type": "execute_result"
    }
   ],
   "source": [
    "#Find WM\n",
    "wm = college.index.str.contains('Mary')\n",
    "college[wm]"
   ]
  },
  {
   "cell_type": "code",
   "execution_count": 9,
   "metadata": {},
   "outputs": [
    {
     "data": {
      "text/html": [
       "<div>\n",
       "<style scoped>\n",
       "    .dataframe tbody tr th:only-of-type {\n",
       "        vertical-align: middle;\n",
       "    }\n",
       "\n",
       "    .dataframe tbody tr th {\n",
       "        vertical-align: top;\n",
       "    }\n",
       "\n",
       "    .dataframe thead th {\n",
       "        text-align: right;\n",
       "    }\n",
       "</style>\n",
       "<table border=\"1\" class=\"dataframe\">\n",
       "  <thead>\n",
       "    <tr style=\"text-align: right;\">\n",
       "      <th></th>\n",
       "      <th>world_rank</th>\n",
       "      <th>country</th>\n",
       "      <th>teaching</th>\n",
       "      <th>international</th>\n",
       "      <th>research</th>\n",
       "      <th>citations</th>\n",
       "      <th>income</th>\n",
       "      <th>total_score</th>\n",
       "      <th>num_students</th>\n",
       "      <th>student_staff_ratio</th>\n",
       "      <th>international_students</th>\n",
       "      <th>female_male_ratio</th>\n",
       "      <th>year</th>\n",
       "    </tr>\n",
       "    <tr>\n",
       "      <th>university_name</th>\n",
       "      <th></th>\n",
       "      <th></th>\n",
       "      <th></th>\n",
       "      <th></th>\n",
       "      <th></th>\n",
       "      <th></th>\n",
       "      <th></th>\n",
       "      <th></th>\n",
       "      <th></th>\n",
       "      <th></th>\n",
       "      <th></th>\n",
       "      <th></th>\n",
       "      <th></th>\n",
       "    </tr>\n",
       "  </thead>\n",
       "  <tbody>\n",
       "    <tr>\n",
       "      <th>William &amp; Mary</th>\n",
       "      <td>75</td>\n",
       "      <td>United States of America</td>\n",
       "      <td>53.1</td>\n",
       "      <td>20.9</td>\n",
       "      <td>36.1</td>\n",
       "      <td>95.6</td>\n",
       "      <td>-</td>\n",
       "      <td>60.4</td>\n",
       "      <td>7,867</td>\n",
       "      <td>11.8</td>\n",
       "      <td>7%</td>\n",
       "      <td>54 : 46</td>\n",
       "      <td>2011</td>\n",
       "    </tr>\n",
       "    <tr>\n",
       "      <th>William &amp; Mary</th>\n",
       "      <td>146</td>\n",
       "      <td>United States of America</td>\n",
       "      <td>40.0</td>\n",
       "      <td>19.7</td>\n",
       "      <td>18.9</td>\n",
       "      <td>90.7</td>\n",
       "      <td>27.0</td>\n",
       "      <td>47.0</td>\n",
       "      <td>7,867</td>\n",
       "      <td>11.8</td>\n",
       "      <td>7%</td>\n",
       "      <td>54 : 46</td>\n",
       "      <td>2012</td>\n",
       "    </tr>\n",
       "    <tr>\n",
       "      <th>William &amp; Mary</th>\n",
       "      <td>184</td>\n",
       "      <td>United States of America</td>\n",
       "      <td>41.3</td>\n",
       "      <td>25.8</td>\n",
       "      <td>22.6</td>\n",
       "      <td>87.1</td>\n",
       "      <td>29.9</td>\n",
       "      <td>48.0</td>\n",
       "      <td>7,867</td>\n",
       "      <td>11.8</td>\n",
       "      <td>7%</td>\n",
       "      <td>54 : 46</td>\n",
       "      <td>2013</td>\n",
       "    </tr>\n",
       "    <tr>\n",
       "      <th>William &amp; Mary</th>\n",
       "      <td>201-225</td>\n",
       "      <td>United States of America</td>\n",
       "      <td>37.2</td>\n",
       "      <td>26.0</td>\n",
       "      <td>18.5</td>\n",
       "      <td>73.6</td>\n",
       "      <td>31.9</td>\n",
       "      <td>-</td>\n",
       "      <td>7,867</td>\n",
       "      <td>11.8</td>\n",
       "      <td>7%</td>\n",
       "      <td>54 : 46</td>\n",
       "      <td>2014</td>\n",
       "    </tr>\n",
       "    <tr>\n",
       "      <th>William &amp; Mary</th>\n",
       "      <td>201-225</td>\n",
       "      <td>United States of America</td>\n",
       "      <td>36.8</td>\n",
       "      <td>26.5</td>\n",
       "      <td>19.9</td>\n",
       "      <td>78.7</td>\n",
       "      <td>30.0</td>\n",
       "      <td>-</td>\n",
       "      <td>7,867</td>\n",
       "      <td>11.8</td>\n",
       "      <td>7%</td>\n",
       "      <td>54 : 46</td>\n",
       "      <td>2015</td>\n",
       "    </tr>\n",
       "    <tr>\n",
       "      <th>William &amp; Mary</th>\n",
       "      <td>201-250</td>\n",
       "      <td>United States of America</td>\n",
       "      <td>38.5</td>\n",
       "      <td>26.6</td>\n",
       "      <td>17.5</td>\n",
       "      <td>85.0</td>\n",
       "      <td>29.1</td>\n",
       "      <td>-</td>\n",
       "      <td>7,867</td>\n",
       "      <td>11.8</td>\n",
       "      <td>7%</td>\n",
       "      <td>54 : 46</td>\n",
       "      <td>2016</td>\n",
       "    </tr>\n",
       "  </tbody>\n",
       "</table>\n",
       "</div>"
      ],
      "text/plain": [
       "                world_rank                   country  teaching international  \\\n",
       "university_name                                                                \n",
       "William & Mary          75  United States of America      53.1          20.9   \n",
       "William & Mary         146  United States of America      40.0          19.7   \n",
       "William & Mary         184  United States of America      41.3          25.8   \n",
       "William & Mary     201-225  United States of America      37.2          26.0   \n",
       "William & Mary     201-225  United States of America      36.8          26.5   \n",
       "William & Mary     201-250  United States of America      38.5          26.6   \n",
       "\n",
       "                 research  citations income total_score num_students  \\\n",
       "university_name                                                        \n",
       "William & Mary       36.1       95.6      -        60.4        7,867   \n",
       "William & Mary       18.9       90.7   27.0        47.0        7,867   \n",
       "William & Mary       22.6       87.1   29.9        48.0        7,867   \n",
       "William & Mary       18.5       73.6   31.9           -        7,867   \n",
       "William & Mary       19.9       78.7   30.0           -        7,867   \n",
       "William & Mary       17.5       85.0   29.1           -        7,867   \n",
       "\n",
       "                 student_staff_ratio international_students female_male_ratio  \\\n",
       "university_name                                                                 \n",
       "William & Mary                  11.8                     7%           54 : 46   \n",
       "William & Mary                  11.8                     7%           54 : 46   \n",
       "William & Mary                  11.8                     7%           54 : 46   \n",
       "William & Mary                  11.8                     7%           54 : 46   \n",
       "William & Mary                  11.8                     7%           54 : 46   \n",
       "William & Mary                  11.8                     7%           54 : 46   \n",
       "\n",
       "                 year  \n",
       "university_name        \n",
       "William & Mary   2011  \n",
       "William & Mary   2012  \n",
       "William & Mary   2013  \n",
       "William & Mary   2014  \n",
       "William & Mary   2015  \n",
       "William & Mary   2016  "
      ]
     },
     "execution_count": 9,
     "metadata": {},
     "output_type": "execute_result"
    }
   ],
   "source": [
    "college.loc['William & Mary']"
   ]
  },
  {
   "cell_type": "code",
   "execution_count": 10,
   "metadata": {},
   "outputs": [
    {
     "data": {
      "text/html": [
       "<div>\n",
       "<style scoped>\n",
       "    .dataframe tbody tr th:only-of-type {\n",
       "        vertical-align: middle;\n",
       "    }\n",
       "\n",
       "    .dataframe tbody tr th {\n",
       "        vertical-align: top;\n",
       "    }\n",
       "\n",
       "    .dataframe thead th {\n",
       "        text-align: right;\n",
       "    }\n",
       "</style>\n",
       "<table border=\"1\" class=\"dataframe\">\n",
       "  <thead>\n",
       "    <tr style=\"text-align: right;\">\n",
       "      <th></th>\n",
       "      <th>world_rank</th>\n",
       "      <th>country</th>\n",
       "      <th>teaching</th>\n",
       "      <th>international</th>\n",
       "      <th>research</th>\n",
       "      <th>citations</th>\n",
       "      <th>income</th>\n",
       "      <th>total_score</th>\n",
       "      <th>num_students</th>\n",
       "      <th>student_staff_ratio</th>\n",
       "      <th>international_students</th>\n",
       "      <th>female_male_ratio</th>\n",
       "      <th>year</th>\n",
       "    </tr>\n",
       "    <tr>\n",
       "      <th>university_name</th>\n",
       "      <th></th>\n",
       "      <th></th>\n",
       "      <th></th>\n",
       "      <th></th>\n",
       "      <th></th>\n",
       "      <th></th>\n",
       "      <th></th>\n",
       "      <th></th>\n",
       "      <th></th>\n",
       "      <th></th>\n",
       "      <th></th>\n",
       "      <th></th>\n",
       "      <th></th>\n",
       "    </tr>\n",
       "  </thead>\n",
       "  <tbody>\n",
       "    <tr>\n",
       "      <th>William &amp; Mary</th>\n",
       "      <td>75</td>\n",
       "      <td>United States of America</td>\n",
       "      <td>53.1</td>\n",
       "      <td>20.9</td>\n",
       "      <td>36.1</td>\n",
       "      <td>95.6</td>\n",
       "      <td>-</td>\n",
       "      <td>60.4</td>\n",
       "      <td>7,867</td>\n",
       "      <td>11.8</td>\n",
       "      <td>7%</td>\n",
       "      <td>54 : 46</td>\n",
       "      <td>2011</td>\n",
       "    </tr>\n",
       "    <tr>\n",
       "      <th>William &amp; Mary</th>\n",
       "      <td>146</td>\n",
       "      <td>United States of America</td>\n",
       "      <td>40.0</td>\n",
       "      <td>19.7</td>\n",
       "      <td>18.9</td>\n",
       "      <td>90.7</td>\n",
       "      <td>27.0</td>\n",
       "      <td>47.0</td>\n",
       "      <td>7,867</td>\n",
       "      <td>11.8</td>\n",
       "      <td>7%</td>\n",
       "      <td>54 : 46</td>\n",
       "      <td>2012</td>\n",
       "    </tr>\n",
       "    <tr>\n",
       "      <th>William &amp; Mary</th>\n",
       "      <td>184</td>\n",
       "      <td>United States of America</td>\n",
       "      <td>41.3</td>\n",
       "      <td>25.8</td>\n",
       "      <td>22.6</td>\n",
       "      <td>87.1</td>\n",
       "      <td>29.9</td>\n",
       "      <td>48.0</td>\n",
       "      <td>7,867</td>\n",
       "      <td>11.8</td>\n",
       "      <td>7%</td>\n",
       "      <td>54 : 46</td>\n",
       "      <td>2013</td>\n",
       "    </tr>\n",
       "    <tr>\n",
       "      <th>William &amp; Mary</th>\n",
       "      <td>201-225</td>\n",
       "      <td>United States of America</td>\n",
       "      <td>37.2</td>\n",
       "      <td>26.0</td>\n",
       "      <td>18.5</td>\n",
       "      <td>73.6</td>\n",
       "      <td>31.9</td>\n",
       "      <td>-</td>\n",
       "      <td>7,867</td>\n",
       "      <td>11.8</td>\n",
       "      <td>7%</td>\n",
       "      <td>54 : 46</td>\n",
       "      <td>2014</td>\n",
       "    </tr>\n",
       "    <tr>\n",
       "      <th>William &amp; Mary</th>\n",
       "      <td>201-225</td>\n",
       "      <td>United States of America</td>\n",
       "      <td>36.8</td>\n",
       "      <td>26.5</td>\n",
       "      <td>19.9</td>\n",
       "      <td>78.7</td>\n",
       "      <td>30.0</td>\n",
       "      <td>-</td>\n",
       "      <td>7,867</td>\n",
       "      <td>11.8</td>\n",
       "      <td>7%</td>\n",
       "      <td>54 : 46</td>\n",
       "      <td>2015</td>\n",
       "    </tr>\n",
       "    <tr>\n",
       "      <th>William &amp; Mary</th>\n",
       "      <td>201-250</td>\n",
       "      <td>United States of America</td>\n",
       "      <td>38.5</td>\n",
       "      <td>26.6</td>\n",
       "      <td>17.5</td>\n",
       "      <td>85.0</td>\n",
       "      <td>29.1</td>\n",
       "      <td>-</td>\n",
       "      <td>7,867</td>\n",
       "      <td>11.8</td>\n",
       "      <td>7%</td>\n",
       "      <td>54 : 46</td>\n",
       "      <td>2016</td>\n",
       "    </tr>\n",
       "  </tbody>\n",
       "</table>\n",
       "</div>"
      ],
      "text/plain": [
       "                world_rank                   country  teaching international  \\\n",
       "university_name                                                                \n",
       "William & Mary          75  United States of America      53.1          20.9   \n",
       "William & Mary         146  United States of America      40.0          19.7   \n",
       "William & Mary         184  United States of America      41.3          25.8   \n",
       "William & Mary     201-225  United States of America      37.2          26.0   \n",
       "William & Mary     201-225  United States of America      36.8          26.5   \n",
       "William & Mary     201-250  United States of America      38.5          26.6   \n",
       "\n",
       "                 research  citations income total_score num_students  \\\n",
       "university_name                                                        \n",
       "William & Mary       36.1       95.6      -        60.4        7,867   \n",
       "William & Mary       18.9       90.7   27.0        47.0        7,867   \n",
       "William & Mary       22.6       87.1   29.9        48.0        7,867   \n",
       "William & Mary       18.5       73.6   31.9           -        7,867   \n",
       "William & Mary       19.9       78.7   30.0           -        7,867   \n",
       "William & Mary       17.5       85.0   29.1           -        7,867   \n",
       "\n",
       "                 student_staff_ratio international_students female_male_ratio  \\\n",
       "university_name                                                                 \n",
       "William & Mary                  11.8                     7%           54 : 46   \n",
       "William & Mary                  11.8                     7%           54 : 46   \n",
       "William & Mary                  11.8                     7%           54 : 46   \n",
       "William & Mary                  11.8                     7%           54 : 46   \n",
       "William & Mary                  11.8                     7%           54 : 46   \n",
       "William & Mary                  11.8                     7%           54 : 46   \n",
       "\n",
       "                 year  \n",
       "university_name        \n",
       "William & Mary   2011  \n",
       "William & Mary   2012  \n",
       "William & Mary   2013  \n",
       "William & Mary   2014  \n",
       "William & Mary   2015  \n",
       "William & Mary   2016  "
      ]
     },
     "execution_count": 10,
     "metadata": {},
     "output_type": "execute_result"
    }
   ],
   "source": [
    "college.query('university_name==\"William & Mary\"')"
   ]
  },
  {
   "cell_type": "code",
   "execution_count": 11,
   "metadata": {
    "tags": []
   },
   "outputs": [],
   "source": [
    "#What types of variables do we have here?\n",
    "#Does it make sense to find the average ranking for schools in a particular country?\n",
    "#There are larger issues if you look at the methodology?\n",
    "#Suppose we had zip/postal code...what type of variable would that be?"
   ]
  },
  {
   "cell_type": "markdown",
   "metadata": {
    "tags": []
   },
   "source": [
    "## Summary statistics"
   ]
  },
  {
   "cell_type": "markdown",
   "metadata": {},
   "source": [
    "The most commonly used summary statistics tend to come in two broad categories:\n",
    "\n",
    "1. Measures of central tendency: what is a \"typical\" observation? (mean, median, mode)\n",
    " \n",
    "2. Measures of variability: how spread out is the data around the center? (stdev, IQR)\n",
    "\n",
    "The interquartile range (IQR) is a measure of statistical dispersion, or the spread of the data, in descriptive statistics. Aka the middle 50%."
   ]
  },
  {
   "cell_type": "code",
   "execution_count": 12,
   "metadata": {
    "tags": []
   },
   "outputs": [],
   "source": [
    "import numpy as np\n",
    "import matplotlib.pyplot as plt"
   ]
  },
  {
   "cell_type": "markdown",
   "metadata": {
    "tags": []
   },
   "source": [
    "### Measures of central tendency and histograms"
   ]
  },
  {
   "cell_type": "code",
   "execution_count": 13,
   "metadata": {
    "tags": []
   },
   "outputs": [],
   "source": [
    "#Let's generate some fake data \n",
    "# How many data points do I want?\n",
    "n = 1000000\n",
    "\n",
    "# Set the random seed to make sure we get the same answers\n",
    "np.random.seed(146)\n",
    "x1 = np.random.random(size=n)"
   ]
  },
  {
   "cell_type": "code",
   "execution_count": 14,
   "metadata": {},
   "outputs": [
    {
     "data": {
      "text/plain": [
       "0.5003746329139543"
      ]
     },
     "execution_count": 14,
     "metadata": {},
     "output_type": "execute_result"
    }
   ],
   "source": [
    "np.mean(x1)"
   ]
  },
  {
   "cell_type": "code",
   "execution_count": 15,
   "metadata": {},
   "outputs": [
    {
     "data": {
      "text/plain": [
       "0.5008503639428961"
      ]
     },
     "execution_count": 15,
     "metadata": {},
     "output_type": "execute_result"
    }
   ],
   "source": [
    "np.median(x1)"
   ]
  },
  {
   "cell_type": "code",
   "execution_count": 16,
   "metadata": {
    "tags": []
   },
   "outputs": [],
   "source": [
    "#Let's generate more fake data\n",
    "a = 0.1\n",
    "b = 0.1\n",
    "n = 1000000\n",
    "np.random.seed(100)\n",
    "x2 = np.random.beta(a,b,size=n)"
   ]
  },
  {
   "cell_type": "code",
   "execution_count": 17,
   "metadata": {},
   "outputs": [
    {
     "data": {
      "text/plain": [
       "0.49955765208281727"
      ]
     },
     "execution_count": 17,
     "metadata": {},
     "output_type": "execute_result"
    }
   ],
   "source": [
    "np.mean(x2)"
   ]
  },
  {
   "cell_type": "code",
   "execution_count": 18,
   "metadata": {},
   "outputs": [
    {
     "data": {
      "text/plain": [
       "0.49741088287963087"
      ]
     },
     "execution_count": 18,
     "metadata": {},
     "output_type": "execute_result"
    }
   ],
   "source": [
    "np.median(x2)"
   ]
  },
  {
   "cell_type": "markdown",
   "metadata": {},
   "source": [
    "How similar are these two data sets actually? ALWAYS look at the data - don't make your decisions based on summary statistics alone.  \n",
    "\n",
    "A **histogram** is a good way to explore the distribution of our data. What do we mean by a distribution?"
   ]
  },
  {
   "cell_type": "code",
   "execution_count": 19,
   "metadata": {},
   "outputs": [
    {
     "data": {
      "image/png": "[encoded data removed]",
      "text/plain": [
       "<Figure size 640x480 with 1 Axes>"
      ]
     },
     "metadata": {},
     "output_type": "display_data"
    }
   ],
   "source": [
    "plt.hist(x1, rwidth = 0.75, bins=12) #rwidth: relative width of the bars as a fraction of the bin width\n",
    "ax = plt.gca() #get the current axis\n",
    "[ax.spines[i].set_visible(False) for i in ax.spines] # An axis spine -- the line noting the data area boundaries.\n",
    "plt.tick_params(labelsize = 12, size = 5.5)\n",
    "plt.ylabel('Frequency', fontsize = 14)\n",
    "plt.xlabel('$x_1$', fontsize = 14)\n",
    "plt.show()"
   ]
  },
  {
   "cell_type": "code",
   "execution_count": 20,
   "metadata": {},
   "outputs": [
    {
     "data": {
      "image/png": "[encoded data removed]",
      "text/plain": [
       "<Figure size 640x480 with 1 Axes>"
      ]
     },
     "metadata": {},
     "output_type": "display_data"
    }
   ],
   "source": [
    "plt.hist(x2, rwidth = 0.95)\n",
    "ax = plt.gca()\n",
    "[ax.spines[i].set_visible(False) for i in ax.spines]\n",
    "plt.tick_params(labelsize = 12, size = 0)\n",
    "plt.ylabel('Frequency', fontsize = 14)\n",
    "plt.xlabel('$x_2$', fontsize = 14)\n",
    "plt.show()"
   ]
  },
  {
   "cell_type": "markdown",
   "metadata": {},
   "source": [
    "How would you describe each of these distributions?"
   ]
  },
  {
   "cell_type": "markdown",
   "metadata": {},
   "source": [
    "Now let's look at the mean and median for the number of students in the college data for 2016."
   ]
  },
  {
   "cell_type": "code",
   "execution_count": 21,
   "metadata": {
    "tags": []
   },
   "outputs": [],
   "source": [
    "college_2016 = college[college['year'] == 2016]"
   ]
  },
  {
   "cell_type": "code",
   "execution_count": 22,
   "metadata": {
    "tags": []
   },
   "outputs": [
    {
     "data": {
      "text/html": [
       "<div>\n",
       "<style scoped>\n",
       "    .dataframe tbody tr th:only-of-type {\n",
       "        vertical-align: middle;\n",
       "    }\n",
       "\n",
       "    .dataframe tbody tr th {\n",
       "        vertical-align: top;\n",
       "    }\n",
       "\n",
       "    .dataframe thead th {\n",
       "        text-align: right;\n",
       "    }\n",
       "</style>\n",
       "<table border=\"1\" class=\"dataframe\">\n",
       "  <thead>\n",
       "    <tr style=\"text-align: right;\">\n",
       "      <th></th>\n",
       "      <th>world_rank</th>\n",
       "      <th>country</th>\n",
       "      <th>teaching</th>\n",
       "      <th>international</th>\n",
       "      <th>research</th>\n",
       "      <th>citations</th>\n",
       "      <th>income</th>\n",
       "      <th>total_score</th>\n",
       "      <th>num_students</th>\n",
       "      <th>student_staff_ratio</th>\n",
       "      <th>international_students</th>\n",
       "      <th>female_male_ratio</th>\n",
       "      <th>year</th>\n",
       "    </tr>\n",
       "    <tr>\n",
       "      <th>university_name</th>\n",
       "      <th></th>\n",
       "      <th></th>\n",
       "      <th></th>\n",
       "      <th></th>\n",
       "      <th></th>\n",
       "      <th></th>\n",
       "      <th></th>\n",
       "      <th></th>\n",
       "      <th></th>\n",
       "      <th></th>\n",
       "      <th></th>\n",
       "      <th></th>\n",
       "      <th></th>\n",
       "    </tr>\n",
       "  </thead>\n",
       "  <tbody>\n",
       "    <tr>\n",
       "      <th>California Institute of Technology</th>\n",
       "      <td>1</td>\n",
       "      <td>United States of America</td>\n",
       "      <td>95.6</td>\n",
       "      <td>64.0</td>\n",
       "      <td>97.6</td>\n",
       "      <td>99.8</td>\n",
       "      <td>97.8</td>\n",
       "      <td>95.2</td>\n",
       "      <td>2,243</td>\n",
       "      <td>6.9</td>\n",
       "      <td>27%</td>\n",
       "      <td>33 : 67</td>\n",
       "      <td>2016</td>\n",
       "    </tr>\n",
       "    <tr>\n",
       "      <th>University of Oxford</th>\n",
       "      <td>2</td>\n",
       "      <td>United Kingdom</td>\n",
       "      <td>86.5</td>\n",
       "      <td>94.4</td>\n",
       "      <td>98.9</td>\n",
       "      <td>98.8</td>\n",
       "      <td>73.1</td>\n",
       "      <td>94.2</td>\n",
       "      <td>19,919</td>\n",
       "      <td>11.6</td>\n",
       "      <td>34%</td>\n",
       "      <td>46 : 54</td>\n",
       "      <td>2016</td>\n",
       "    </tr>\n",
       "    <tr>\n",
       "      <th>Stanford University</th>\n",
       "      <td>3</td>\n",
       "      <td>United States of America</td>\n",
       "      <td>92.5</td>\n",
       "      <td>76.3</td>\n",
       "      <td>96.2</td>\n",
       "      <td>99.9</td>\n",
       "      <td>63.3</td>\n",
       "      <td>93.9</td>\n",
       "      <td>15,596</td>\n",
       "      <td>7.8</td>\n",
       "      <td>22%</td>\n",
       "      <td>42 : 58</td>\n",
       "      <td>2016</td>\n",
       "    </tr>\n",
       "    <tr>\n",
       "      <th>University of Cambridge</th>\n",
       "      <td>4</td>\n",
       "      <td>United Kingdom</td>\n",
       "      <td>88.2</td>\n",
       "      <td>91.5</td>\n",
       "      <td>96.7</td>\n",
       "      <td>97.0</td>\n",
       "      <td>55.0</td>\n",
       "      <td>92.8</td>\n",
       "      <td>18,812</td>\n",
       "      <td>11.8</td>\n",
       "      <td>34%</td>\n",
       "      <td>46 : 54</td>\n",
       "      <td>2016</td>\n",
       "    </tr>\n",
       "    <tr>\n",
       "      <th>Massachusetts Institute of Technology</th>\n",
       "      <td>5</td>\n",
       "      <td>United States of America</td>\n",
       "      <td>89.4</td>\n",
       "      <td>84.0</td>\n",
       "      <td>88.6</td>\n",
       "      <td>99.7</td>\n",
       "      <td>95.4</td>\n",
       "      <td>92.0</td>\n",
       "      <td>11,074</td>\n",
       "      <td>9.0</td>\n",
       "      <td>33%</td>\n",
       "      <td>37 : 63</td>\n",
       "      <td>2016</td>\n",
       "    </tr>\n",
       "  </tbody>\n",
       "</table>\n",
       "</div>"
      ],
      "text/plain": [
       "                                      world_rank                   country  \\\n",
       "university_name                                                              \n",
       "California Institute of Technology             1  United States of America   \n",
       "University of Oxford                           2            United Kingdom   \n",
       "Stanford University                            3  United States of America   \n",
       "University of Cambridge                        4            United Kingdom   \n",
       "Massachusetts Institute of Technology          5  United States of America   \n",
       "\n",
       "                                       teaching international  research  \\\n",
       "university_name                                                           \n",
       "California Institute of Technology         95.6          64.0      97.6   \n",
       "University of Oxford                       86.5          94.4      98.9   \n",
       "Stanford University                        92.5          76.3      96.2   \n",
       "University of Cambridge                    88.2          91.5      96.7   \n",
       "Massachusetts Institute of Technology      89.4          84.0      88.6   \n",
       "\n",
       "                                       citations income total_score  \\\n",
       "university_name                                                       \n",
       "California Institute of Technology          99.8   97.8        95.2   \n",
       "University of Oxford                        98.8   73.1        94.2   \n",
       "Stanford University                         99.9   63.3        93.9   \n",
       "University of Cambridge                     97.0   55.0        92.8   \n",
       "Massachusetts Institute of Technology       99.7   95.4        92.0   \n",
       "\n",
       "                                      num_students  student_staff_ratio  \\\n",
       "university_name                                                           \n",
       "California Institute of Technology           2,243                  6.9   \n",
       "University of Oxford                        19,919                 11.6   \n",
       "Stanford University                         15,596                  7.8   \n",
       "University of Cambridge                     18,812                 11.8   \n",
       "Massachusetts Institute of Technology       11,074                  9.0   \n",
       "\n",
       "                                      international_students  \\\n",
       "university_name                                                \n",
       "California Institute of Technology                       27%   \n",
       "University of Oxford                                     34%   \n",
       "Stanford University                                      22%   \n",
       "University of Cambridge                                  34%   \n",
       "Massachusetts Institute of Technology                    33%   \n",
       "\n",
       "                                      female_male_ratio  year  \n",
       "university_name                                                \n",
       "California Institute of Technology              33 : 67  2016  \n",
       "University of Oxford                            46 : 54  2016  \n",
       "Stanford University                             42 : 58  2016  \n",
       "University of Cambridge                         46 : 54  2016  \n",
       "Massachusetts Institute of Technology           37 : 63  2016  "
      ]
     },
     "execution_count": 22,
     "metadata": {},
     "output_type": "execute_result"
    }
   ],
   "source": [
    "college_2016.head()"
   ]
  },
  {
   "cell_type": "code",
   "execution_count": 23,
   "metadata": {
    "tags": []
   },
   "outputs": [
    {
     "data": {
      "text/plain": [
       "count        793\n",
       "unique       791\n",
       "top       23,321\n",
       "freq           2\n",
       "Name: num_students, dtype: object"
      ]
     },
     "execution_count": 23,
     "metadata": {},
     "output_type": "execute_result"
    }
   ],
   "source": [
    "college_2016['num_students'].describe()"
   ]
  },
  {
   "cell_type": "code",
   "execution_count": 24,
   "metadata": {},
   "outputs": [
    {
     "data": {
      "text/plain": [
       "world_rank                 object\n",
       "country                    object\n",
       "teaching                  float64\n",
       "international              object\n",
       "research                  float64\n",
       "citations                 float64\n",
       "income                     object\n",
       "total_score                object\n",
       "num_students               object\n",
       "student_staff_ratio       float64\n",
       "international_students     object\n",
       "female_male_ratio          object\n",
       "year                        int64\n",
       "dtype: object"
      ]
     },
     "execution_count": 24,
     "metadata": {},
     "output_type": "execute_result"
    }
   ],
   "source": [
    "#Why is this happening????? Do you see the problem?\n",
    "college_2016.dtypes"
   ]
  },
  {
   "cell_type": "code",
   "execution_count": 25,
   "metadata": {
    "tags": []
   },
   "outputs": [],
   "source": [
    "#Let's change this in the full data set and then subset again\n",
    "students = college['num_students'].str.replace(',','').astype('float')"
   ]
  },
  {
   "cell_type": "code",
   "execution_count": 26,
   "metadata": {
    "tags": []
   },
   "outputs": [],
   "source": [
    "college['num_students'] = students"
   ]
  },
  {
   "cell_type": "code",
   "execution_count": 27,
   "metadata": {
    "tags": []
   },
   "outputs": [
    {
     "data": {
      "text/html": [
       "<div>\n",
       "<style scoped>\n",
       "    .dataframe tbody tr th:only-of-type {\n",
       "        vertical-align: middle;\n",
       "    }\n",
       "\n",
       "    .dataframe tbody tr th {\n",
       "        vertical-align: top;\n",
       "    }\n",
       "\n",
       "    .dataframe thead th {\n",
       "        text-align: right;\n",
       "    }\n",
       "</style>\n",
       "<table border=\"1\" class=\"dataframe\">\n",
       "  <thead>\n",
       "    <tr style=\"text-align: right;\">\n",
       "      <th></th>\n",
       "      <th>world_rank</th>\n",
       "      <th>country</th>\n",
       "      <th>teaching</th>\n",
       "      <th>international</th>\n",
       "      <th>research</th>\n",
       "      <th>citations</th>\n",
       "      <th>income</th>\n",
       "      <th>total_score</th>\n",
       "      <th>num_students</th>\n",
       "      <th>student_staff_ratio</th>\n",
       "      <th>international_students</th>\n",
       "      <th>female_male_ratio</th>\n",
       "      <th>year</th>\n",
       "    </tr>\n",
       "    <tr>\n",
       "      <th>university_name</th>\n",
       "      <th></th>\n",
       "      <th></th>\n",
       "      <th></th>\n",
       "      <th></th>\n",
       "      <th></th>\n",
       "      <th></th>\n",
       "      <th></th>\n",
       "      <th></th>\n",
       "      <th></th>\n",
       "      <th></th>\n",
       "      <th></th>\n",
       "      <th></th>\n",
       "      <th></th>\n",
       "    </tr>\n",
       "  </thead>\n",
       "  <tbody>\n",
       "    <tr>\n",
       "      <th>Harvard University</th>\n",
       "      <td>1</td>\n",
       "      <td>United States of America</td>\n",
       "      <td>99.7</td>\n",
       "      <td>72.4</td>\n",
       "      <td>98.7</td>\n",
       "      <td>98.8</td>\n",
       "      <td>34.5</td>\n",
       "      <td>96.1</td>\n",
       "      <td>20152.0</td>\n",
       "      <td>8.9</td>\n",
       "      <td>25%</td>\n",
       "      <td>NaN</td>\n",
       "      <td>2011</td>\n",
       "    </tr>\n",
       "    <tr>\n",
       "      <th>California Institute of Technology</th>\n",
       "      <td>2</td>\n",
       "      <td>United States of America</td>\n",
       "      <td>97.7</td>\n",
       "      <td>54.6</td>\n",
       "      <td>98.0</td>\n",
       "      <td>99.9</td>\n",
       "      <td>83.7</td>\n",
       "      <td>96.0</td>\n",
       "      <td>2243.0</td>\n",
       "      <td>6.9</td>\n",
       "      <td>27%</td>\n",
       "      <td>33 : 67</td>\n",
       "      <td>2011</td>\n",
       "    </tr>\n",
       "    <tr>\n",
       "      <th>Massachusetts Institute of Technology</th>\n",
       "      <td>3</td>\n",
       "      <td>United States of America</td>\n",
       "      <td>97.8</td>\n",
       "      <td>82.3</td>\n",
       "      <td>91.4</td>\n",
       "      <td>99.9</td>\n",
       "      <td>87.5</td>\n",
       "      <td>95.6</td>\n",
       "      <td>11074.0</td>\n",
       "      <td>9.0</td>\n",
       "      <td>33%</td>\n",
       "      <td>37 : 63</td>\n",
       "      <td>2011</td>\n",
       "    </tr>\n",
       "  </tbody>\n",
       "</table>\n",
       "</div>"
      ],
      "text/plain": [
       "                                      world_rank                   country  \\\n",
       "university_name                                                              \n",
       "Harvard University                             1  United States of America   \n",
       "California Institute of Technology             2  United States of America   \n",
       "Massachusetts Institute of Technology          3  United States of America   \n",
       "\n",
       "                                       teaching international  research  \\\n",
       "university_name                                                           \n",
       "Harvard University                         99.7          72.4      98.7   \n",
       "California Institute of Technology         97.7          54.6      98.0   \n",
       "Massachusetts Institute of Technology      97.8          82.3      91.4   \n",
       "\n",
       "                                       citations income total_score  \\\n",
       "university_name                                                       \n",
       "Harvard University                          98.8   34.5        96.1   \n",
       "California Institute of Technology          99.9   83.7        96.0   \n",
       "Massachusetts Institute of Technology       99.9   87.5        95.6   \n",
       "\n",
       "                                       num_students  student_staff_ratio  \\\n",
       "university_name                                                            \n",
       "Harvard University                          20152.0                  8.9   \n",
       "California Institute of Technology           2243.0                  6.9   \n",
       "Massachusetts Institute of Technology       11074.0                  9.0   \n",
       "\n",
       "                                      international_students  \\\n",
       "university_name                                                \n",
       "Harvard University                                       25%   \n",
       "California Institute of Technology                       27%   \n",
       "Massachusetts Institute of Technology                    33%   \n",
       "\n",
       "                                      female_male_ratio  year  \n",
       "university_name                                                \n",
       "Harvard University                                  NaN  2011  \n",
       "California Institute of Technology              33 : 67  2011  \n",
       "Massachusetts Institute of Technology           37 : 63  2011  "
      ]
     },
     "execution_count": 27,
     "metadata": {},
     "output_type": "execute_result"
    }
   ],
   "source": [
    "college.head(3)"
   ]
  },
  {
   "cell_type": "code",
   "execution_count": 28,
   "metadata": {
    "tags": []
   },
   "outputs": [],
   "source": [
    "college_2016 = college[college['year'] == 2016]"
   ]
  },
  {
   "cell_type": "code",
   "execution_count": 29,
   "metadata": {},
   "outputs": [
    {
     "data": {
      "text/plain": [
       "world_rank                 object\n",
       "country                    object\n",
       "teaching                  float64\n",
       "international              object\n",
       "research                  float64\n",
       "citations                 float64\n",
       "income                     object\n",
       "total_score                object\n",
       "num_students              float64\n",
       "student_staff_ratio       float64\n",
       "international_students     object\n",
       "female_male_ratio          object\n",
       "year                        int64\n",
       "dtype: object"
      ]
     },
     "execution_count": 29,
     "metadata": {},
     "output_type": "execute_result"
    }
   ],
   "source": [
    "college_2016.dtypes"
   ]
  },
  {
   "cell_type": "code",
   "execution_count": 30,
   "metadata": {},
   "outputs": [
    {
     "data": {
      "text/plain": [
       "24161.264817150062"
      ]
     },
     "execution_count": 30,
     "metadata": {},
     "output_type": "execute_result"
    }
   ],
   "source": [
    "college_2016['num_students'].mean()"
   ]
  },
  {
   "cell_type": "code",
   "execution_count": 31,
   "metadata": {},
   "outputs": [
    {
     "data": {
      "text/plain": [
       "20174.0"
      ]
     },
     "execution_count": 31,
     "metadata": {},
     "output_type": "execute_result"
    }
   ],
   "source": [
    "college_2016['num_students'].median()"
   ]
  },
  {
   "cell_type": "markdown",
   "metadata": {},
   "source": [
    "Based on the values of the mean and the median, do we expect the histogram to be symmetric? Skewed left? Skewed right?"
   ]
  },
  {
   "cell_type": "code",
   "execution_count": 32,
   "metadata": {},
   "outputs": [
    {
     "data": {
      "text/plain": [
       "university_name\n",
       "California Institute of Technology       False\n",
       "University of Oxford                     False\n",
       "Stanford University                      False\n",
       "University of Cambridge                  False\n",
       "Massachusetts Institute of Technology    False\n",
       "                                         ...  \n",
       "Yeungnam University                      False\n",
       "Yıldız Technical University              False\n",
       "Yokohama City University                 False\n",
       "Yokohama National University             False\n",
       "Yuan Ze University                       False\n",
       "Name: num_students, Length: 800, dtype: bool"
      ]
     },
     "execution_count": 32,
     "metadata": {},
     "output_type": "execute_result"
    }
   ],
   "source": [
    "college_2016['num_students'].isnull()"
   ]
  },
  {
   "cell_type": "code",
   "execution_count": 33,
   "metadata": {},
   "outputs": [
    {
     "data": {
      "text/plain": [
       "num_students\n",
       "False    793\n",
       "True       7\n",
       "Name: count, dtype: int64"
      ]
     },
     "execution_count": 33,
     "metadata": {},
     "output_type": "execute_result"
    }
   ],
   "source": [
    "college_2016['num_students'].isnull().value_counts()"
   ]
  },
  {
   "cell_type": "code",
   "execution_count": 34,
   "metadata": {},
   "outputs": [
    {
     "data": {
      "text/plain": [
       "count       793.000000\n",
       "mean      24161.264817\n",
       "std       22569.224842\n",
       "min         462.000000\n",
       "25%       12331.000000\n",
       "50%       20174.000000\n",
       "75%       29700.000000\n",
       "max      379231.000000\n",
       "Name: num_students, dtype: float64"
      ]
     },
     "execution_count": 34,
     "metadata": {},
     "output_type": "execute_result"
    }
   ],
   "source": [
    "college_2016['num_students'].describe()"
   ]
  },
  {
   "cell_type": "code",
   "execution_count": 35,
   "metadata": {},
   "outputs": [
    {
     "name": "stdout",
     "output_type": "stream",
     "text": [
      "<class 'pandas.core.series.Series'>\n",
      "Index: 800 entries, California Institute of Technology to Yuan Ze University\n",
      "Series name: num_students\n",
      "Non-Null Count  Dtype  \n",
      "--------------  -----  \n",
      "793 non-null    float64\n",
      "dtypes: float64(1)\n",
      "memory usage: 44.8+ KB\n"
     ]
    }
   ],
   "source": [
    "college_2016['num_students'].info()"
   ]
  },
  {
   "cell_type": "code",
   "execution_count": 36,
   "metadata": {},
   "outputs": [
    {
     "data": {
      "image/png": "[encoded data removed]",
      "text/plain": [
       "<Figure size 640x480 with 1 Axes>"
      ]
     },
     "metadata": {},
     "output_type": "display_data"
    }
   ],
   "source": [
    "#What happens to missing values?\n",
    "#We might want to mod the bin size here\n",
    "n_bins = 15\n",
    "min_val = college_2016['num_students'].min()\n",
    "max_val = college_2016['num_students'].max()\n",
    "bins = np.linspace(min_val, max_val, n_bins+1)\n",
    "#notice we are making the plot differently here\n",
    "#using a Series method\n",
    "\n",
    "\n",
    "ax = college_2016['num_students'].hist(rwidth = 0.95, bins = bins)\n",
    "[ax.spines[i].set_visible(False) for i in ax.spines]\n",
    "plt.ylabel('Frequency', fontsize = 14)\n",
    "plt.xlabel('Number of Students', fontsize = 14)\n",
    "plt.grid(None)\n",
    "plt.show()\n",
    "\n",
    "\n"
   ]
  },
  {
   "cell_type": "markdown",
   "metadata": {},
   "source": [
    "Whenever you see something like this, where there are a few really large values, and the rest are much smaller, using a **logarithmic** transformation can be useful.  When looking at the log of a number, you are essentially shifting your focus from the actual value of the number to how many digits it has.\n",
    "\n",
    "For example:\n",
    "$$ 123,456,789 \\approx 1.2 \\times 10^8 $$\n",
    "\n",
    "where we're going to be more focused on the exponent (the 8) rather than the exact value of the number.  Let's make the same plot, but this time using $\\log_{10}(\\text{num_students})$ rather than the raw number. "
   ]
  },
  {
   "cell_type": "code",
   "execution_count": 37,
   "metadata": {},
   "outputs": [
    {
     "name": "stdout",
     "output_type": "stream",
     "text": [
      "[1.         1.45789038 1.91578077 2.37367115 2.83156153 3.28945192\n",
      " 3.7473423  4.20523268 4.66312306 5.12101345 5.57890383]\n"
     ]
    }
   ],
   "source": [
    "n_bins = 10\n",
    "min_val = np.log10(college_2016['num_students']).min()\n",
    "max_val = np.log10(college_2016['num_students']).max()\n",
    "bins = np.linspace(1, max_val, n_bins+1)\n",
    "#notice we are making the plot differently here\n",
    "#using a Series method\n",
    "\"\"\"\n",
    "ax = np.log10(college_2016['num_students']).hist(rwidth = 0.95, bins = bins)\n",
    "[ax.spines[i].set_visible(False) for i in ax.spines]\n",
    "plt.ylabel('Frequency', fontsize = 14)\n",
    "plt.xlabel('$log_{10}$'+' Number of Students', fontsize = 14)\n",
    "plt.grid(None)\n",
    "plt.show()\n",
    "\"\"\"\n",
    "print(bins)"
   ]
  },
  {
   "cell_type": "markdown",
   "metadata": {
    "tags": []
   },
   "source": [
    "### Measures of variation (spread)"
   ]
  },
  {
   "cell_type": "markdown",
   "metadata": {},
   "source": [
    "Next, we'll look at some **measures of variation**.  While the goal of means and medians is to give a sense of the \"middle\" of the data, measures of variation tell us how far away from the middle the data tends to be.\n",
    "\n",
    "The most common measure is the variance, which is the average of the squared differences between each data point and the mean.  Mathematically, if $X=\\{x_1,x_2,...,x_N\\}$ is a set of $N$ observations, then:\n",
    "\n",
    "$$Var[X] =  \\frac{1}{N}\\sum_{i=1}^N (x_i-\\mu)^2$$\n",
    "\n",
    "where $\\mu$ is the mean.  You will also often see the symbol $\\sigma^2$ used to denote the variance."
   ]
  },
  {
   "cell_type": "code",
   "execution_count": 38,
   "metadata": {},
   "outputs": [
    {
     "data": {
      "text/plain": [
       "508727577.1606413"
      ]
     },
     "execution_count": 38,
     "metadata": {},
     "output_type": "execute_result"
    }
   ],
   "source": [
    "np.var(college_2016['num_students'])\n",
    "#college_2016['num_students'].var()"
   ]
  },
  {
   "cell_type": "code",
   "execution_count": 39,
   "metadata": {},
   "outputs": [
    {
     "name": "stdout",
     "output_type": "stream",
     "text": [
      "<class 'pandas.core.frame.DataFrame'>\n",
      "Index: 800 entries, California Institute of Technology to Yuan Ze University\n",
      "Data columns (total 13 columns):\n",
      " #   Column                  Non-Null Count  Dtype  \n",
      "---  ------                  --------------  -----  \n",
      " 0   world_rank              800 non-null    object \n",
      " 1   country                 800 non-null    object \n",
      " 2   teaching                800 non-null    float64\n",
      " 3   international           800 non-null    object \n",
      " 4   research                800 non-null    float64\n",
      " 5   citations               800 non-null    float64\n",
      " 6   income                  800 non-null    object \n",
      " 7   total_score             800 non-null    object \n",
      " 8   num_students            793 non-null    float64\n",
      " 9   student_staff_ratio     793 non-null    float64\n",
      " 10  international_students  790 non-null    object \n",
      " 11  female_male_ratio       739 non-null    object \n",
      " 12  year                    800 non-null    int64  \n",
      "dtypes: float64(5), int64(1), object(7)\n",
      "memory usage: 119.8+ KB\n"
     ]
    }
   ],
   "source": [
    "college_2016.info()"
   ]
  },
  {
   "cell_type": "code",
   "execution_count": 40,
   "metadata": {},
   "outputs": [],
   "source": [
    "fil_college_2016 = college_2016[college_2016['num_students'].isnull()==False]"
   ]
  },
  {
   "cell_type": "code",
   "execution_count": 41,
   "metadata": {},
   "outputs": [
    {
     "name": "stdout",
     "output_type": "stream",
     "text": [
      "<class 'pandas.core.frame.DataFrame'>\n",
      "Index: 793 entries, California Institute of Technology to Yuan Ze University\n",
      "Data columns (total 13 columns):\n",
      " #   Column                  Non-Null Count  Dtype  \n",
      "---  ------                  --------------  -----  \n",
      " 0   world_rank              793 non-null    object \n",
      " 1   country                 793 non-null    object \n",
      " 2   teaching                793 non-null    float64\n",
      " 3   international           793 non-null    object \n",
      " 4   research                793 non-null    float64\n",
      " 5   citations               793 non-null    float64\n",
      " 6   income                  793 non-null    object \n",
      " 7   total_score             793 non-null    object \n",
      " 8   num_students            793 non-null    float64\n",
      " 9   student_staff_ratio     793 non-null    float64\n",
      " 10  international_students  790 non-null    object \n",
      " 11  female_male_ratio       739 non-null    object \n",
      " 12  year                    793 non-null    int64  \n",
      "dtypes: float64(5), int64(1), object(7)\n",
      "memory usage: 86.7+ KB\n"
     ]
    }
   ],
   "source": [
    "fil_college_2016.info()"
   ]
  },
  {
   "cell_type": "code",
   "execution_count": 42,
   "metadata": {},
   "outputs": [
    {
     "data": {
      "text/plain": [
       "508727577.1606413"
      ]
     },
     "execution_count": 42,
     "metadata": {},
     "output_type": "execute_result"
    }
   ],
   "source": [
    "np.var(college_2016['num_students'])"
   ]
  },
  {
   "cell_type": "code",
   "execution_count": 43,
   "metadata": {},
   "outputs": [
    {
     "data": {
      "text/plain": [
       "508727577.1606413"
      ]
     },
     "execution_count": 43,
     "metadata": {},
     "output_type": "execute_result"
    }
   ],
   "source": [
    "np.var(fil_college_2016['num_students'])"
   ]
  },
  {
   "cell_type": "code",
   "execution_count": 44,
   "metadata": {},
   "outputs": [
    {
     "data": {
      "text/plain": [
       "509369909.9600865"
      ]
     },
     "execution_count": 44,
     "metadata": {},
     "output_type": "execute_result"
    }
   ],
   "source": [
    "college_2016['num_students'].var()"
   ]
  },
  {
   "cell_type": "code",
   "execution_count": 45,
   "metadata": {},
   "outputs": [
    {
     "data": {
      "text/plain": [
       "509369909.9600865"
      ]
     },
     "execution_count": 45,
     "metadata": {},
     "output_type": "execute_result"
    }
   ],
   "source": [
    "fil_college_2016['num_students'].var()"
   ]
  },
  {
   "cell_type": "code",
   "execution_count": 46,
   "metadata": {
    "tags": []
   },
   "outputs": [
    {
     "data": {
      "text/plain": [
       "508727577.1606413"
      ]
     },
     "execution_count": 46,
     "metadata": {},
     "output_type": "execute_result"
    }
   ],
   "source": [
    "fil_college_2016['num_students'].var()*(len(fil_college_2016['num_students'])-1)/len(fil_college_2016['num_students'])"
   ]
  },
  {
   "cell_type": "code",
   "execution_count": 47,
   "metadata": {},
   "outputs": [
    {
     "data": {
      "text/plain": [
       "508733197.5726364"
      ]
     },
     "execution_count": 47,
     "metadata": {},
     "output_type": "execute_result"
    }
   ],
   "source": [
    "college_2016['num_students'].var()*(len(college_2016['num_students'])-1)/len(college_2016['num_students'])"
   ]
  },
  {
   "cell_type": "code",
   "execution_count": 48,
   "metadata": {},
   "outputs": [],
   "source": [
    "# (referred to the above) why is that?"
   ]
  },
  {
   "cell_type": "markdown",
   "metadata": {},
   "source": [
    "It is common for people to look at the **standard deviation**, which is just the square root of the variance (and is often denoted as $\\sigma$).  The benefit of this is that the standard deviation and the mean have the same physical units, so they are more directly comparable. Note that the variance and standard deviation \"pair with\" the mean - they are the appropriate measures of variation to report when you report the mean."
   ]
  },
  {
   "cell_type": "code",
   "execution_count": 49,
   "metadata": {},
   "outputs": [
    {
     "data": {
      "text/plain": [
       "22554.990072279823"
      ]
     },
     "execution_count": 49,
     "metadata": {},
     "output_type": "execute_result"
    }
   ],
   "source": [
    "np.std(college_2016['num_students'])"
   ]
  },
  {
   "cell_type": "markdown",
   "metadata": {},
   "source": [
    "Taking the ratio of standard deviation / mean is called the **coefficient of variation**."
   ]
  },
  {
   "cell_type": "code",
   "execution_count": 50,
   "metadata": {},
   "outputs": [
    {
     "data": {
      "text/plain": [
       "0.9335185985904977"
      ]
     },
     "execution_count": 50,
     "metadata": {},
     "output_type": "execute_result"
    }
   ],
   "source": [
    "np.std(college_2016['num_students'])/np.mean(college_2016['num_students'])"
   ]
  },
  {
   "cell_type": "markdown",
   "metadata": {
    "tags": []
   },
   "source": [
    "### Quartiles and Box Plots"
   ]
  },
  {
   "cell_type": "markdown",
   "metadata": {},
   "source": [
    "Quartiles are computed by sorting the data and splitting it into 4 equally sized groups (hence \"quart-\", meaning 4).  The numbers reported are the values which split each of these groups (see this [wikipedia page](https://en.wikipedia.org/wiki/Quantile) for some example computations).  In other words, the quartiles of a data set are the 25th, 50th, and 75th percentiles, since those three values divide the data into 4 equally sized groups.\n",
    "\n",
    "Let's compute the quartiles of the number of students in 2016:"
   ]
  },
  {
   "cell_type": "code",
   "execution_count": 51,
   "metadata": {
    "tags": []
   },
   "outputs": [],
   "source": [
    "q = np.quantile(college_2016['num_students'].values, [0.25, 0.5, 0.75])"
   ]
  },
  {
   "cell_type": "code",
   "execution_count": 52,
   "metadata": {
    "tags": []
   },
   "outputs": [
    {
     "name": "stdout",
     "output_type": "stream",
     "text": [
      "[nan nan nan]\n"
     ]
    }
   ],
   "source": [
    "print(q)"
   ]
  },
  {
   "cell_type": "code",
   "execution_count": 53,
   "metadata": {
    "tags": []
   },
   "outputs": [
    {
     "data": {
      "text/plain": [
       "count       793.000000\n",
       "mean      24161.264817\n",
       "std       22569.224842\n",
       "min         462.000000\n",
       "25%       12331.000000\n",
       "50%       20174.000000\n",
       "75%       29700.000000\n",
       "max      379231.000000\n",
       "Name: num_students, dtype: float64"
      ]
     },
     "execution_count": 53,
     "metadata": {},
     "output_type": "execute_result"
    }
   ],
   "source": [
    "college_2016['num_students'].describe()"
   ]
  },
  {
   "cell_type": "code",
   "execution_count": 54,
   "metadata": {
    "tags": []
   },
   "outputs": [
    {
     "data": {
      "text/plain": [
       "7"
      ]
     },
     "execution_count": 54,
     "metadata": {},
     "output_type": "execute_result"
    }
   ],
   "source": [
    "#What is going on????\n",
    "college_2016['num_students'].isnull().sum()"
   ]
  },
  {
   "cell_type": "code",
   "execution_count": 55,
   "metadata": {
    "tags": []
   },
   "outputs": [],
   "source": [
    "students = college_2016['num_students'].dropna()"
   ]
  },
  {
   "cell_type": "code",
   "execution_count": 56,
   "metadata": {
    "tags": []
   },
   "outputs": [
    {
     "data": {
      "text/plain": [
       "university_name\n",
       "California Institute of Technology        2243.0\n",
       "University of Oxford                     19919.0\n",
       "Stanford University                      15596.0\n",
       "University of Cambridge                  18812.0\n",
       "Massachusetts Institute of Technology    11074.0\n",
       "                                          ...   \n",
       "Yeungnam University                      21958.0\n",
       "Yıldız Technical University              31268.0\n",
       "Yokohama City University                  4122.0\n",
       "Yokohama National University             10117.0\n",
       "Yuan Ze University                        8663.0\n",
       "Name: num_students, Length: 793, dtype: float64"
      ]
     },
     "execution_count": 56,
     "metadata": {},
     "output_type": "execute_result"
    }
   ],
   "source": [
    "students"
   ]
  },
  {
   "cell_type": "code",
   "execution_count": 57,
   "metadata": {
    "tags": []
   },
   "outputs": [],
   "source": [
    "q = np.quantile(students, [0.25, 0.5, 0.75])"
   ]
  },
  {
   "cell_type": "code",
   "execution_count": 58,
   "metadata": {
    "tags": []
   },
   "outputs": [
    {
     "name": "stdout",
     "output_type": "stream",
     "text": [
      "[12331. 20174. 29700.]\n"
     ]
    }
   ],
   "source": [
    "print(q)\n",
    "#What does the second number in this list correspond to?"
   ]
  },
  {
   "cell_type": "markdown",
   "metadata": {},
   "source": [
    "Let's look at the citations:"
   ]
  },
  {
   "cell_type": "code",
   "execution_count": 59,
   "metadata": {
    "tags": []
   },
   "outputs": [],
   "source": [
    "q = np.quantile(college_2016['citations'].dropna(), [0.25, 0.5, 0.75, 0.93])"
   ]
  },
  {
   "cell_type": "code",
   "execution_count": 60,
   "metadata": {
    "tags": []
   },
   "outputs": [
    {
     "data": {
      "text/plain": [
       "array([27.525, 50.3  , 74.9  , 91.507])"
      ]
     },
     "execution_count": 60,
     "metadata": {},
     "output_type": "execute_result"
    }
   ],
   "source": [
    "q"
   ]
  },
  {
   "cell_type": "markdown",
   "metadata": {},
   "source": [
    "Let's make boxplots of both variables:"
   ]
  },
  {
   "cell_type": "markdown",
   "metadata": {},
   "source": [
    "What does this box plot tell you about the data?"
   ]
  },
  {
   "cell_type": "code",
   "execution_count": 61,
   "metadata": {
    "tags": []
   },
   "outputs": [
    {
     "data": {
      "image/png": "[encoded data removed]",
      "text/plain": [
       "<Figure size 400x400 with 1 Axes>"
      ]
     },
     "metadata": {},
     "output_type": "display_data"
    }
   ],
   "source": [
    "plt.figure(figsize=(4,4))\n",
    "plt.boxplot(college_2016['citations'].dropna())\n",
    "ax = plt.gca()\n",
    "[ax.spines[i].set_visible(False) for i in ax.spines]\n",
    "plt.xticks([])\n",
    "plt.yticks(fontsize = 14)\n",
    "plt.grid(linestyle = '--', alpha = 0.5)\n",
    "plt.title('Citations in 2016', fontsize=14)\n",
    "plt.show()"
   ]
  },
  {
   "cell_type": "code",
   "execution_count": 62,
   "metadata": {},
   "outputs": [
    {
     "data": {
      "text/plain": [
       "university_name\n",
       "Yeungnam University             21958.0\n",
       "Yıldız Technical University     31268.0\n",
       "Yokohama City University         4122.0\n",
       "Yokohama National University    10117.0\n",
       "Yuan Ze University               8663.0\n",
       "Name: num_students, dtype: float64"
      ]
     },
     "execution_count": 62,
     "metadata": {},
     "output_type": "execute_result"
    }
   ],
   "source": [
    "college_2016['num_students'].tail()"
   ]
  },
  {
   "cell_type": "markdown",
   "metadata": {},
   "source": [
    "How about this one?"
   ]
  },
  {
   "cell_type": "code",
   "execution_count": 63,
   "metadata": {
    "tags": []
   },
   "outputs": [
    {
     "data": {
      "image/png": "[encoded data removed]",
      "text/plain": [
       "<Figure size 400x400 with 1 Axes>"
      ]
     },
     "metadata": {},
     "output_type": "display_data"
    }
   ],
   "source": [
    "plt.figure(figsize=(4,4))\n",
    "plt.boxplot(college_2016['num_students'].dropna())\n",
    "ax = plt.gca()\n",
    "[ax.spines[i].set_visible(False) for i in ax.spines]\n",
    "plt.xticks([])\n",
    "plt.yticks(fontsize = 14)\n",
    "plt.grid(linestyle = '--', alpha = 0.5)\n",
    "plt.title('Number of students in 2016', fontsize=14)\n",
    "plt.show()"
   ]
  },
  {
   "cell_type": "markdown",
   "metadata": {
    "tags": []
   },
   "source": [
    "## Looking at distributions over a category"
   ]
  },
  {
   "cell_type": "code",
   "execution_count": 64,
   "metadata": {
    "tags": []
   },
   "outputs": [],
   "source": [
    "idx_canada = college['country'] == 'Canada'\n",
    "college_ca = college[idx_canada]"
   ]
  },
  {
   "cell_type": "code",
   "execution_count": 65,
   "metadata": {
    "tags": []
   },
   "outputs": [
    {
     "data": {
      "image/png": "[encoded data removed]",
      "text/plain": [
       "<Figure size 1200x600 with 1 Axes>"
      ]
     },
     "metadata": {},
     "output_type": "display_data"
    }
   ],
   "source": [
    "import seaborn as sns\n",
    "plt.figure(figsize=(12,6))\n",
    "sns.boxplot(x='year', y='num_students', data = college_ca, palette = 'BuPu') #palette = 'BuPu'\n",
    "plt.ylabel('Number of students', fontsize=14)\n",
    "plt.xlabel('')\n",
    "plt.show()\n",
    "\n",
    "# https://medium.com/analytics-vidhya/deep-dive-into-seaborn-palettes-7b5fae5a258e"
   ]
  },
  {
   "cell_type": "markdown",
   "metadata": {},
   "source": [
    "A stripchart is a VERY useful plot to show the spread of your data and also how many data points there are. Here is a stripchart of the same data:"
   ]
  },
  {
   "cell_type": "code",
   "execution_count": 66,
   "metadata": {
    "tags": []
   },
   "outputs": [
    {
     "data": {
      "image/png": "[encoded data removed]",
      "text/plain": [
       "<Figure size 1200x600 with 1 Axes>"
      ]
     },
     "metadata": {},
     "output_type": "display_data"
    }
   ],
   "source": [
    "plt.figure(figsize = [12,6])\n",
    "ax = plt.gca()\n",
    "[ax.spines[i].set_visible(False) for i in ax.spines]\n",
    "sns.stripplot(x = 'year', y = 'num_students', data = college_ca, size = 10, alpha = 0.5,\n",
    "             jitter = True)\n",
    "plt.ylabel('Number of Students', labelpad = 20, fontsize = 14)\n",
    "plt.xlabel('Year', labelpad = 20, fontsize = 14)\n",
    "plt.tick_params(labelsize = 12)\n",
    "plt.grid(axis = 'y', linestyle = '--', alpha = 0.5)\n",
    "plt.show()"
   ]
  },
  {
   "cell_type": "markdown",
   "metadata": {},
   "source": [
    "How does this change the conclusions we might draw from the boxplot?"
   ]
  }
 ],
 "metadata": {
  "kernelspec": {
   "display_name": "Python 3 (ipykernel)",
   "language": "python",
   "name": "python3"
  },
  "language_info": {
   "codemirror_mode": {
    "name": "ipython",
    "version": 3
   },
   "file_extension": ".py",
   "mimetype": "text/x-python",
   "name": "python",
   "nbconvert_exporter": "python",
   "pygments_lexer": "ipython3",
   "version": "3.11.3"
  }
 },
 "nbformat": 4,
 "nbformat_minor": 4
}
