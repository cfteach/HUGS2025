{
 "cells": [
  {
   "cell_type": "markdown",
   "id": "c2e39223-a1d4-46a2-97ff-4d11a9c21b83",
   "metadata": {
    "tags": []
   },
   "source": [
    "# K-means Clustering"
   ]
  },
  {
   "cell_type": "code",
   "execution_count": 1,
   "id": "9199ce7a",
   "metadata": {},
   "outputs": [],
   "source": [
    "import pandas as pd\n",
    "import numpy as np\n",
    "import matplotlib.pyplot as plt\n",
    "from intro_Data_5 import *\n",
    "import matplotlib.pyplot as plt"
   ]
  },
  {
   "cell_type": "code",
   "execution_count": 2,
   "id": "f249d196",
   "metadata": {},
   "outputs": [],
   "source": [
    "from sklearn.cluster import KMeans, kmeans_plusplus"
   ]
  },
  {
   "cell_type": "markdown",
   "id": "5e1b8da8",
   "metadata": {
    "tags": []
   },
   "source": [
    "## 1. Fake data with two features"
   ]
  },
  {
   "cell_type": "code",
   "execution_count": 3,
   "id": "dfaea3a6",
   "metadata": {},
   "outputs": [
    {
     "data": {
      "text/html": [
       "<div>\n",
       "<style scoped>\n",
       "    .dataframe tbody tr th:only-of-type {\n",
       "        vertical-align: middle;\n",
       "    }\n",
       "\n",
       "    .dataframe tbody tr th {\n",
       "        vertical-align: top;\n",
       "    }\n",
       "\n",
       "    .dataframe thead th {\n",
       "        text-align: right;\n",
       "    }\n",
       "</style>\n",
       "<table border=\"1\" class=\"dataframe\">\n",
       "  <thead>\n",
       "    <tr style=\"text-align: right;\">\n",
       "      <th></th>\n",
       "      <th>Var1</th>\n",
       "      <th>Var2</th>\n",
       "    </tr>\n",
       "  </thead>\n",
       "  <tbody>\n",
       "    <tr>\n",
       "      <th>0</th>\n",
       "      <td>-9.482456</td>\n",
       "      <td>3.617581</td>\n",
       "    </tr>\n",
       "    <tr>\n",
       "      <th>1</th>\n",
       "      <td>-7.290632</td>\n",
       "      <td>4.430300</td>\n",
       "    </tr>\n",
       "    <tr>\n",
       "      <th>2</th>\n",
       "      <td>-0.088279</td>\n",
       "      <td>-8.640152</td>\n",
       "    </tr>\n",
       "    <tr>\n",
       "      <th>3</th>\n",
       "      <td>-7.275795</td>\n",
       "      <td>3.132772</td>\n",
       "    </tr>\n",
       "    <tr>\n",
       "      <th>4</th>\n",
       "      <td>-8.252843</td>\n",
       "      <td>2.989601</td>\n",
       "    </tr>\n",
       "  </tbody>\n",
       "</table>\n",
       "</div>"
      ],
      "text/plain": [
       "       Var1      Var2\n",
       "0 -9.482456  3.617581\n",
       "1 -7.290632  4.430300\n",
       "2 -0.088279 -8.640152\n",
       "3 -7.275795  3.132772\n",
       "4 -8.252843  2.989601"
      ]
     },
     "execution_count": 3,
     "metadata": {},
     "output_type": "execute_result"
    }
   ],
   "source": [
    "# Read the data\n",
    "data = pd.read_csv('data/test_data_kmeans.csv')\n",
    "data.head()"
   ]
  },
  {
   "cell_type": "code",
   "execution_count": 4,
   "id": "fcf08573",
   "metadata": {},
   "outputs": [
    {
     "data": {
      "text/plain": [
       "<matplotlib.collections.PathCollection at 0x7ff6c4201c60>"
      ]
     },
     "execution_count": 4,
     "metadata": {},
     "output_type": "execute_result"
    },
    {
     "data": {
      "image/png": "[encoded data removed]",
      "text/plain": [
       "<Figure size 640x480 with 1 Axes>"
      ]
     },
     "metadata": {},
     "output_type": "display_data"
    }
   ],
   "source": [
    "plt.scatter(data['Var1'], data['Var2'], alpha = 1.)"
   ]
  },
  {
   "cell_type": "code",
   "execution_count": 5,
   "id": "829b8781-3eb3-4709-83c5-a1c0f4f797a7",
   "metadata": {},
   "outputs": [
    {
     "data": {
      "text/html": [
       "<style>#sk-container-id-1 {color: black;background-color: white;}#sk-container-id-1 pre{padding: 0;}#sk-container-id-1 div.sk-toggleable {background-color: white;}#sk-container-id-1 label.sk-toggleable__label {cursor: pointer;display: block;width: 100%;margin-bottom: 0;padding: 0.3em;box-sizing: border-box;text-align: center;}#sk-container-id-1 label.sk-toggleable__label-arrow:before {content: \"▸\";float: left;margin-right: 0.25em;color: #696969;}#sk-container-id-1 label.sk-toggleable__label-arrow:hover:before {color: black;}#sk-container-id-1 div.sk-estimator:hover label.sk-toggleable__label-arrow:before {color: black;}#sk-container-id-1 div.sk-toggleable__content {max-height: 0;max-width: 0;overflow: hidden;text-align: left;background-color: #f0f8ff;}#sk-container-id-1 div.sk-toggleable__content pre {margin: 0.2em;color: black;border-radius: 0.25em;background-color: #f0f8ff;}#sk-container-id-1 input.sk-toggleable__control:checked~div.sk-toggleable__content {max-height: 200px;max-width: 100%;overflow: auto;}#sk-container-id-1 input.sk-toggleable__control:checked~label.sk-toggleable__label-arrow:before {content: \"▾\";}#sk-container-id-1 div.sk-estimator input.sk-toggleable__control:checked~label.sk-toggleable__label {background-color: #d4ebff;}#sk-container-id-1 div.sk-label input.sk-toggleable__control:checked~label.sk-toggleable__label {background-color: #d4ebff;}#sk-container-id-1 input.sk-hidden--visually {border: 0;clip: rect(1px 1px 1px 1px);clip: rect(1px, 1px, 1px, 1px);height: 1px;margin: -1px;overflow: hidden;padding: 0;position: absolute;width: 1px;}#sk-container-id-1 div.sk-estimator {font-family: monospace;background-color: #f0f8ff;border: 1px dotted black;border-radius: 0.25em;box-sizing: border-box;margin-bottom: 0.5em;}#sk-container-id-1 div.sk-estimator:hover {background-color: #d4ebff;}#sk-container-id-1 div.sk-parallel-item::after {content: \"\";width: 100%;border-bottom: 1px solid gray;flex-grow: 1;}#sk-container-id-1 div.sk-label:hover label.sk-toggleable__label {background-color: #d4ebff;}#sk-container-id-1 div.sk-serial::before {content: \"\";position: absolute;border-left: 1px solid gray;box-sizing: border-box;top: 0;bottom: 0;left: 50%;z-index: 0;}#sk-container-id-1 div.sk-serial {display: flex;flex-direction: column;align-items: center;background-color: white;padding-right: 0.2em;padding-left: 0.2em;position: relative;}#sk-container-id-1 div.sk-item {position: relative;z-index: 1;}#sk-container-id-1 div.sk-parallel {display: flex;align-items: stretch;justify-content: center;background-color: white;position: relative;}#sk-container-id-1 div.sk-item::before, #sk-container-id-1 div.sk-parallel-item::before {content: \"\";position: absolute;border-left: 1px solid gray;box-sizing: border-box;top: 0;bottom: 0;left: 50%;z-index: -1;}#sk-container-id-1 div.sk-parallel-item {display: flex;flex-direction: column;z-index: 1;position: relative;background-color: white;}#sk-container-id-1 div.sk-parallel-item:first-child::after {align-self: flex-end;width: 50%;}#sk-container-id-1 div.sk-parallel-item:last-child::after {align-self: flex-start;width: 50%;}#sk-container-id-1 div.sk-parallel-item:only-child::after {width: 0;}#sk-container-id-1 div.sk-dashed-wrapped {border: 1px dashed gray;margin: 0 0.4em 0.5em 0.4em;box-sizing: border-box;padding-bottom: 0.4em;background-color: white;}#sk-container-id-1 div.sk-label label {font-family: monospace;font-weight: bold;display: inline-block;line-height: 1.2em;}#sk-container-id-1 div.sk-label-container {text-align: center;}#sk-container-id-1 div.sk-container {/* jupyter's `normalize.less` sets `[hidden] { display: none; }` but bootstrap.min.css set `[hidden] { display: none !important; }` so we also need the `!important` here to be able to override the default hidden behavior on the sphinx rendered scikit-learn.org. See: https://github.com/scikit-learn/scikit-learn/issues/21755 */display: inline-block !important;position: relative;}#sk-container-id-1 div.sk-text-repr-fallback {display: none;}</style><div id=\"sk-container-id-1\" class=\"sk-top-container\"><div class=\"sk-text-repr-fallback\"><pre>KMeans(n_clusters=4, n_init=10, random_state=146)</pre><b>In a Jupyter environment, please rerun this cell to show the HTML representation or trust the notebook. <br />On GitHub, the HTML representation is unable to render, please try loading this page with nbviewer.org.</b></div><div class=\"sk-container\" hidden><div class=\"sk-item\"><div class=\"sk-estimator sk-toggleable\"><input class=\"sk-toggleable__control sk-hidden--visually\" id=\"sk-estimator-id-1\" type=\"checkbox\" checked><label for=\"sk-estimator-id-1\" class=\"sk-toggleable__label sk-toggleable__label-arrow\">KMeans</label><div class=\"sk-toggleable__content\"><pre>KMeans(n_clusters=4, n_init=10, random_state=146)</pre></div></div></div></div></div>"
      ],
      "text/plain": [
       "KMeans(n_clusters=4, n_init=10, random_state=146)"
      ]
     },
     "execution_count": 5,
     "metadata": {},
     "output_type": "execute_result"
    }
   ],
   "source": [
    "# Do K-means with n_clusters=4\n",
    "\n",
    "from sklearn.cluster import KMeans\n",
    "\n",
    "X = data.values\n",
    "\n",
    "\n",
    "km = KMeans(n_clusters=4, random_state=146, n_init=10) #K-means++ initialization is used by default\n",
    "km.fit(X) # what is this doing?\n",
    "\n"
   ]
  },
  {
   "cell_type": "code",
   "execution_count": 6,
   "id": "cb03ae06-156d-4654-949b-32d46d937d62",
   "metadata": {},
   "outputs": [
    {
     "data": {
      "text/plain": [
       "array([[-2.54799703,  2.22426148],\n",
       "       [ 8.38539231,  8.31476255],\n",
       "       [-2.24195689, -8.2834242 ],\n",
       "       [-9.20306789,  3.81787074]])"
      ]
     },
     "execution_count": 6,
     "metadata": {},
     "output_type": "execute_result"
    }
   ],
   "source": [
    "# get cluster centers\n",
    "km.cluster_centers_"
   ]
  },
  {
   "cell_type": "code",
   "execution_count": 7,
   "id": "648a95ab-77f1-4b71-a3cb-e9f7bea5e829",
   "metadata": {},
   "outputs": [
    {
     "data": {
      "text/plain": [
       "array([3, 3, 2, 3, 3, 3, 3, 3, 0, 1, 1, 2, 0, 2, 1, 3, 2, 1, 1, 2, 1, 1,\n",
       "       2, 1, 2, 3, 3, 0, 0, 2, 0, 1, 3, 2, 0, 3, 0, 0, 3, 0, 1, 0, 3, 2,\n",
       "       1, 1, 3, 2, 2, 3, 1, 2, 2, 3, 2, 2, 3, 2, 0, 1, 0, 0, 2, 2, 1, 2,\n",
       "       0, 0, 0, 2, 1, 2, 3, 3, 1, 2, 1, 3, 0, 0, 0, 0, 1, 0, 2, 2, 1, 1,\n",
       "       3, 3, 0, 1, 1, 0, 0, 3, 1, 1, 0, 3], dtype=int32)"
      ]
     },
     "execution_count": 7,
     "metadata": {},
     "output_type": "execute_result"
    }
   ],
   "source": [
    "# get predicted groups\n",
    "groups = km.predict(X)\n",
    "groups"
   ]
  },
  {
   "cell_type": "code",
   "execution_count": 8,
   "id": "0bd0cc98-fecb-4e57-a835-a7d0b64dd71a",
   "metadata": {},
   "outputs": [
    {
     "data": {
      "text/plain": [
       "array([3, 3, 2, 3, 3, 3, 3, 3, 0, 1, 1, 2, 0, 2, 1, 3, 2, 1, 1, 2, 1, 1,\n",
       "       2, 1, 2, 3, 3, 0, 0, 2, 0, 1, 3, 2, 0, 3, 0, 0, 3, 0, 1, 0, 3, 2,\n",
       "       1, 1, 3, 2, 2, 3, 1, 2, 2, 3, 2, 2, 3, 2, 0, 1, 0, 0, 2, 2, 1, 2,\n",
       "       0, 0, 0, 2, 1, 2, 3, 3, 1, 2, 1, 3, 0, 0, 0, 0, 1, 0, 2, 2, 1, 1,\n",
       "       3, 3, 0, 1, 1, 0, 0, 3, 1, 1, 0, 3], dtype=int32)"
      ]
     },
     "execution_count": 8,
     "metadata": {},
     "output_type": "execute_result"
    }
   ],
   "source": [
    "# An alternative way\n",
    "groups = km.labels_\n",
    "groups"
   ]
  },
  {
   "cell_type": "code",
   "execution_count": 9,
   "id": "1f0e77ea-47c8-410e-8906-0e7c12e8c01a",
   "metadata": {},
   "outputs": [
    {
     "data": {
      "text/plain": [
       "(<Figure size 600x600 with 1 Axes>, <Axes: xlabel='x', ylabel='y'>)"
      ]
     },
     "execution_count": 9,
     "metadata": {},
     "output_type": "execute_result"
    },
    {
     "data": {
      "image/png": "[encoded data removed]",
      "text/plain": [
       "<Figure size 600x600 with 1 Axes>"
      ]
     },
     "metadata": {},
     "output_type": "display_data"
    }
   ],
   "source": [
    "plot_groups(X, groups, colors = get_colors(4))"
   ]
  },
  {
   "cell_type": "code",
   "execution_count": 10,
   "id": "285e9dcf-2772-429b-86bf-74dfee58e94e",
   "metadata": {},
   "outputs": [
    {
     "data": {
      "text/plain": [
       "-360.83330039841513"
      ]
     },
     "execution_count": 10,
     "metadata": {},
     "output_type": "execute_result"
    }
   ],
   "source": [
    "km.score(X) # what is the score?"
   ]
  },
  {
   "cell_type": "markdown",
   "id": "1888d86e-122e-4df7-a962-2d0af4233da8",
   "metadata": {},
   "source": [
    "It returns the <b>negative of inertia</b>. Inertia is the mean squared distance between each instance and its closest centroid, also called <b>within cluster variance</b>."
   ]
  },
  {
   "cell_type": "markdown",
   "id": "1b178295-78ca-49ee-8d64-10eaa8fa0186",
   "metadata": {},
   "source": [
    "### Tuning n_clusters using km.score()"
   ]
  },
  {
   "cell_type": "code",
   "execution_count": 11,
   "id": "8e915086",
   "metadata": {},
   "outputs": [
    {
     "data": {
      "text/plain": [
       "[-8028.849618957128,\n",
       " -3296.1089936530784,\n",
       " -946.2027826444734,\n",
       " -360.83330039841513,\n",
       " -314.3878257968411,\n",
       " -276.7255467439338,\n",
       " -240.59615125385656,\n",
       " -210.03855457029013,\n",
       " -186.03636024336996,\n",
       " -168.33765515579287]"
      ]
     },
     "execution_count": 11,
     "metadata": {},
     "output_type": "execute_result"
    }
   ],
   "source": [
    "# Get scores for a range of n_clusters\n",
    "scores=[]\n",
    "k_range = np.arange(1,11)\n",
    "for k in k_range:\n",
    "    km = KMeans(n_clusters=k, random_state=146, n_init=10) \n",
    "    km.fit(X)\n",
    "    scores.append(km.score(X))\n",
    "scores"
   ]
  },
  {
   "cell_type": "code",
   "execution_count": 12,
   "id": "62350d6b",
   "metadata": {},
   "outputs": [
    {
     "ename": "NameError",
     "evalue": "name 'S' is not defined",
     "output_type": "error",
     "traceback": [
      "\u001b[0;31m---------------------------------------------------------------------------\u001b[0m",
      "\u001b[0;31mNameError\u001b[0m                                 Traceback (most recent call last)",
      "Cell \u001b[0;32mIn[12], line 3\u001b[0m\n\u001b[1;32m      1\u001b[0m \u001b[38;5;66;03m# Plot the score-n_clusters curve\u001b[39;00m\n\u001b[0;32m----> 3\u001b[0m plt\u001b[38;5;241m.\u001b[39mplot(k_range, scores, \u001b[43mS\u001b[49m)\n\u001b[1;32m      4\u001b[0m plt\u001b[38;5;241m.\u001b[39mxlabel(\u001b[38;5;124m'\u001b[39m\u001b[38;5;124mn_clusters\u001b[39m\u001b[38;5;124m'\u001b[39m)\n\u001b[1;32m      5\u001b[0m plt\u001b[38;5;241m.\u001b[39mxticks(k_range)\n",
      "\u001b[0;31mNameError\u001b[0m: name 'S' is not defined"
     ]
    }
   ],
   "source": [
    "# Plot the score-n_clusters curve\n",
    "\n",
    "plt.plot(k_range, scores, S)\n",
    "plt.xlabel('n_clusters')\n",
    "plt.xticks(k_range)\n",
    "plt.ylabel('Score')\n",
    "plt.show()"
   ]
  },
  {
   "cell_type": "markdown",
   "id": "dcd2420b-6dca-401a-8fe6-ec30caca79ac",
   "metadata": {
    "tags": []
   },
   "source": [
    "Let's take a look at this:\n",
    "\n",
    "https://en.wikipedia.org/wiki/Elbow_method_(clustering) "
   ]
  },
  {
   "cell_type": "code",
   "execution_count": 13,
   "id": "e39eb620",
   "metadata": {},
   "outputs": [
    {
     "data": {
      "image/png": "[encoded data removed]",
      "text/plain": [
       "<Figure size 640x480 with 1 Axes>"
      ]
     },
     "metadata": {},
     "output_type": "display_data"
    }
   ],
   "source": [
    "# Visualize initialized centroids with K-Means++\n",
    "\n",
    "centers_init, indices = kmeans_plusplus(X, n_clusters=4, random_state=200)\n",
    "\n",
    "\n",
    "plt.scatter(X[:,0],X[:,1], alpha = 0.5)\n",
    "plt.scatter(centers_init[:, 0], centers_init[:, 1], c=\"r\", s=80, marker = 'd', alpha = 0.5)\n",
    "plt.title(\"K-Means++ Initialization\")\n",
    "plt.xticks([])\n",
    "plt.yticks([])\n",
    "plt.show()\n"
   ]
  },
  {
   "cell_type": "code",
   "execution_count": 14,
   "id": "3ad92873-84d9-47e7-9340-96abc88e23ab",
   "metadata": {
    "tags": []
   },
   "outputs": [
    {
     "name": "stdout",
     "output_type": "stream",
     "text": [
      "(4, 2) (4,)\n",
      "[26 50 69 78]\n",
      "[[-8.49022399  3.67831587]\n",
      " [ 7.94771132  8.56400121]\n",
      " [-2.10869974 -7.02313428]\n",
      " [-2.858053    1.2629213 ]]\n"
     ]
    }
   ],
   "source": [
    "print(np.shape(centers_init), np.shape(indices))\n",
    "print(indices)\n",
    "print(centers_init)"
   ]
  },
  {
   "cell_type": "markdown",
   "id": "d031d72e",
   "metadata": {
    "tags": []
   },
   "source": [
    "## 2. Real data and combining dimension reduction methods"
   ]
  },
  {
   "cell_type": "code",
   "execution_count": 15,
   "id": "76538319",
   "metadata": {},
   "outputs": [
    {
     "data": {
      "text/html": [
       "<div>\n",
       "<style scoped>\n",
       "    .dataframe tbody tr th:only-of-type {\n",
       "        vertical-align: middle;\n",
       "    }\n",
       "\n",
       "    .dataframe tbody tr th {\n",
       "        vertical-align: top;\n",
       "    }\n",
       "\n",
       "    .dataframe thead th {\n",
       "        text-align: right;\n",
       "    }\n",
       "</style>\n",
       "<table border=\"1\" class=\"dataframe\">\n",
       "  <thead>\n",
       "    <tr style=\"text-align: right;\">\n",
       "      <th></th>\n",
       "      <th>alcohol</th>\n",
       "      <th>malic_acid</th>\n",
       "      <th>ash</th>\n",
       "      <th>alcalinity_of_ash</th>\n",
       "      <th>magnesium</th>\n",
       "      <th>total_phenols</th>\n",
       "      <th>flavanoids</th>\n",
       "      <th>nonflavanoid_phenols</th>\n",
       "      <th>proanthocyanins</th>\n",
       "      <th>color_intensity</th>\n",
       "      <th>hue</th>\n",
       "      <th>od280/od315_of_diluted_wines</th>\n",
       "      <th>proline</th>\n",
       "    </tr>\n",
       "  </thead>\n",
       "  <tbody>\n",
       "    <tr>\n",
       "      <th>0</th>\n",
       "      <td>14.23</td>\n",
       "      <td>1.71</td>\n",
       "      <td>2.43</td>\n",
       "      <td>15.6</td>\n",
       "      <td>127.0</td>\n",
       "      <td>2.80</td>\n",
       "      <td>3.06</td>\n",
       "      <td>0.28</td>\n",
       "      <td>2.29</td>\n",
       "      <td>5.64</td>\n",
       "      <td>1.04</td>\n",
       "      <td>3.92</td>\n",
       "      <td>1065.0</td>\n",
       "    </tr>\n",
       "    <tr>\n",
       "      <th>1</th>\n",
       "      <td>13.20</td>\n",
       "      <td>1.78</td>\n",
       "      <td>2.14</td>\n",
       "      <td>11.2</td>\n",
       "      <td>100.0</td>\n",
       "      <td>2.65</td>\n",
       "      <td>2.76</td>\n",
       "      <td>0.26</td>\n",
       "      <td>1.28</td>\n",
       "      <td>4.38</td>\n",
       "      <td>1.05</td>\n",
       "      <td>3.40</td>\n",
       "      <td>1050.0</td>\n",
       "    </tr>\n",
       "    <tr>\n",
       "      <th>2</th>\n",
       "      <td>13.16</td>\n",
       "      <td>2.36</td>\n",
       "      <td>2.67</td>\n",
       "      <td>18.6</td>\n",
       "      <td>101.0</td>\n",
       "      <td>2.80</td>\n",
       "      <td>3.24</td>\n",
       "      <td>0.30</td>\n",
       "      <td>2.81</td>\n",
       "      <td>5.68</td>\n",
       "      <td>1.03</td>\n",
       "      <td>3.17</td>\n",
       "      <td>1185.0</td>\n",
       "    </tr>\n",
       "    <tr>\n",
       "      <th>3</th>\n",
       "      <td>14.37</td>\n",
       "      <td>1.95</td>\n",
       "      <td>2.50</td>\n",
       "      <td>16.8</td>\n",
       "      <td>113.0</td>\n",
       "      <td>3.85</td>\n",
       "      <td>3.49</td>\n",
       "      <td>0.24</td>\n",
       "      <td>2.18</td>\n",
       "      <td>7.80</td>\n",
       "      <td>0.86</td>\n",
       "      <td>3.45</td>\n",
       "      <td>1480.0</td>\n",
       "    </tr>\n",
       "    <tr>\n",
       "      <th>4</th>\n",
       "      <td>13.24</td>\n",
       "      <td>2.59</td>\n",
       "      <td>2.87</td>\n",
       "      <td>21.0</td>\n",
       "      <td>118.0</td>\n",
       "      <td>2.80</td>\n",
       "      <td>2.69</td>\n",
       "      <td>0.39</td>\n",
       "      <td>1.82</td>\n",
       "      <td>4.32</td>\n",
       "      <td>1.04</td>\n",
       "      <td>2.93</td>\n",
       "      <td>735.0</td>\n",
       "    </tr>\n",
       "  </tbody>\n",
       "</table>\n",
       "</div>"
      ],
      "text/plain": [
       "   alcohol  malic_acid   ash  alcalinity_of_ash  magnesium  total_phenols   \n",
       "0    14.23        1.71  2.43               15.6      127.0           2.80  \\\n",
       "1    13.20        1.78  2.14               11.2      100.0           2.65   \n",
       "2    13.16        2.36  2.67               18.6      101.0           2.80   \n",
       "3    14.37        1.95  2.50               16.8      113.0           3.85   \n",
       "4    13.24        2.59  2.87               21.0      118.0           2.80   \n",
       "\n",
       "   flavanoids  nonflavanoid_phenols  proanthocyanins  color_intensity   hue   \n",
       "0        3.06                  0.28             2.29             5.64  1.04  \\\n",
       "1        2.76                  0.26             1.28             4.38  1.05   \n",
       "2        3.24                  0.30             2.81             5.68  1.03   \n",
       "3        3.49                  0.24             2.18             7.80  0.86   \n",
       "4        2.69                  0.39             1.82             4.32  1.04   \n",
       "\n",
       "   od280/od315_of_diluted_wines  proline  \n",
       "0                          3.92   1065.0  \n",
       "1                          3.40   1050.0  \n",
       "2                          3.17   1185.0  \n",
       "3                          3.45   1480.0  \n",
       "4                          2.93    735.0  "
      ]
     },
     "execution_count": 15,
     "metadata": {},
     "output_type": "execute_result"
    }
   ],
   "source": [
    "# Read data\n",
    "data = pd.read_csv('data/some_data.csv') \n",
    "data.head()"
   ]
  },
  {
   "cell_type": "code",
   "execution_count": 16,
   "id": "21335ea3",
   "metadata": {},
   "outputs": [],
   "source": [
    "# Do standard scaling (why?)\n",
    "from sklearn.preprocessing import StandardScaler as SS\n",
    "X = SS().fit_transform(data.values)\n"
   ]
  },
  {
   "cell_type": "code",
   "execution_count": 17,
   "id": "fb513938",
   "metadata": {},
   "outputs": [],
   "source": [
    "# Get scores for a range of n_clusters\n",
    "\n",
    "scores0=[]\n",
    "scores1=[]\n",
    "scores2=[]\n",
    "scores3=[]\n",
    "k_range = np.arange(1,11)\n",
    "for k in k_range:\n",
    "    km = KMeans(n_clusters=k, random_state=146, n_init=10, init = 'random')\n",
    "    km.fit(X)\n",
    "    km1 = KMeans(n_clusters=k, random_state=146, n_init=2, init = 'random')\n",
    "    km1.fit(X)    \n",
    "    km2 = KMeans(n_clusters=k, random_state=146, n_init=10, init='k-means++')\n",
    "    km2.fit(X)    \n",
    "    km3 = KMeans(n_clusters=k, random_state=146, n_init='auto', init='k-means++')\n",
    "    km3.fit(X) \n",
    "    scores0.append(km.score(X))\n",
    "    scores1.append(km1.score(X))    \n",
    "    scores2.append(km2.score(X))\n",
    "    scores3.append(km3.score(X))"
   ]
  },
  {
   "cell_type": "code",
   "execution_count": 18,
   "id": "058cc5b7",
   "metadata": {},
   "outputs": [
    {
     "data": {
      "image/png": "[encoded data removed]",
      "text/plain": [
       "<Figure size 640x480 with 1 Axes>"
      ]
     },
     "metadata": {},
     "output_type": "display_data"
    }
   ],
   "source": [
    "# Plot the score-n_clusters curve\n",
    "plt.plot(k_range, scores0, '-xk')\n",
    "plt.plot(k_range, scores1, '--xg')\n",
    "plt.plot(k_range, scores2, '--xb')\n",
    "plt.plot(k_range, scores3, '--xr')\n",
    "plt.xlabel('n_clusters')\n",
    "plt.xticks(k_range)\n",
    "plt.ylabel('Score')\n",
    "plt.show()"
   ]
  },
  {
   "cell_type": "markdown",
   "id": "aff127c3",
   "metadata": {},
   "source": [
    "The `elbow' it's not too 'clear'. Let's try <b>dimension reduction</b> and take a look"
   ]
  },
  {
   "cell_type": "code",
   "execution_count": 19,
   "id": "7dcb6040",
   "metadata": {},
   "outputs": [],
   "source": [
    "from sklearn.decomposition import PCA\n",
    "from sklearn.manifold import TSNE"
   ]
  },
  {
   "cell_type": "code",
   "execution_count": 20,
   "id": "d5c6c9d3",
   "metadata": {},
   "outputs": [
    {
     "data": {
      "text/plain": [
       "<matplotlib.collections.PathCollection at 0x7ff6bc027070>"
      ]
     },
     "execution_count": 20,
     "metadata": {},
     "output_type": "execute_result"
    },
    {
     "data": {
      "image/png": "[encoded data removed]",
      "text/plain": [
       "<Figure size 640x480 with 1 Axes>"
      ]
     },
     "metadata": {},
     "output_type": "display_data"
    }
   ],
   "source": [
    "pca = PCA(n_components=2)\n",
    "pca_X = pca.fit_transform(X)\n",
    "plt.scatter(pca_X[:,0], pca_X[:,1])"
   ]
  },
  {
   "cell_type": "code",
   "execution_count": 21,
   "id": "8e38b0c4",
   "metadata": {},
   "outputs": [
    {
     "data": {
      "text/plain": [
       "<matplotlib.collections.PathCollection at 0x7ff6bbab53c0>"
      ]
     },
     "execution_count": 21,
     "metadata": {},
     "output_type": "execute_result"
    },
    {
     "data": {
      "image/png": "[encoded data removed]",
      "text/plain": [
       "<Figure size 640x480 with 1 Axes>"
      ]
     },
     "metadata": {},
     "output_type": "display_data"
    }
   ],
   "source": [
    "tsne = TSNE(random_state = 146)\n",
    "tsne_X = tsne.fit_transform(X)\n",
    "plt.scatter(tsne_X[:,0], tsne_X[:,1])"
   ]
  },
  {
   "cell_type": "code",
   "execution_count": 22,
   "id": "16b37eb9",
   "metadata": {},
   "outputs": [
    {
     "data": {
      "text/html": [
       "<style>#sk-container-id-2 {color: black;background-color: white;}#sk-container-id-2 pre{padding: 0;}#sk-container-id-2 div.sk-toggleable {background-color: white;}#sk-container-id-2 label.sk-toggleable__label {cursor: pointer;display: block;width: 100%;margin-bottom: 0;padding: 0.3em;box-sizing: border-box;text-align: center;}#sk-container-id-2 label.sk-toggleable__label-arrow:before {content: \"▸\";float: left;margin-right: 0.25em;color: #696969;}#sk-container-id-2 label.sk-toggleable__label-arrow:hover:before {color: black;}#sk-container-id-2 div.sk-estimator:hover label.sk-toggleable__label-arrow:before {color: black;}#sk-container-id-2 div.sk-toggleable__content {max-height: 0;max-width: 0;overflow: hidden;text-align: left;background-color: #f0f8ff;}#sk-container-id-2 div.sk-toggleable__content pre {margin: 0.2em;color: black;border-radius: 0.25em;background-color: #f0f8ff;}#sk-container-id-2 input.sk-toggleable__control:checked~div.sk-toggleable__content {max-height: 200px;max-width: 100%;overflow: auto;}#sk-container-id-2 input.sk-toggleable__control:checked~label.sk-toggleable__label-arrow:before {content: \"▾\";}#sk-container-id-2 div.sk-estimator input.sk-toggleable__control:checked~label.sk-toggleable__label {background-color: #d4ebff;}#sk-container-id-2 div.sk-label input.sk-toggleable__control:checked~label.sk-toggleable__label {background-color: #d4ebff;}#sk-container-id-2 input.sk-hidden--visually {border: 0;clip: rect(1px 1px 1px 1px);clip: rect(1px, 1px, 1px, 1px);height: 1px;margin: -1px;overflow: hidden;padding: 0;position: absolute;width: 1px;}#sk-container-id-2 div.sk-estimator {font-family: monospace;background-color: #f0f8ff;border: 1px dotted black;border-radius: 0.25em;box-sizing: border-box;margin-bottom: 0.5em;}#sk-container-id-2 div.sk-estimator:hover {background-color: #d4ebff;}#sk-container-id-2 div.sk-parallel-item::after {content: \"\";width: 100%;border-bottom: 1px solid gray;flex-grow: 1;}#sk-container-id-2 div.sk-label:hover label.sk-toggleable__label {background-color: #d4ebff;}#sk-container-id-2 div.sk-serial::before {content: \"\";position: absolute;border-left: 1px solid gray;box-sizing: border-box;top: 0;bottom: 0;left: 50%;z-index: 0;}#sk-container-id-2 div.sk-serial {display: flex;flex-direction: column;align-items: center;background-color: white;padding-right: 0.2em;padding-left: 0.2em;position: relative;}#sk-container-id-2 div.sk-item {position: relative;z-index: 1;}#sk-container-id-2 div.sk-parallel {display: flex;align-items: stretch;justify-content: center;background-color: white;position: relative;}#sk-container-id-2 div.sk-item::before, #sk-container-id-2 div.sk-parallel-item::before {content: \"\";position: absolute;border-left: 1px solid gray;box-sizing: border-box;top: 0;bottom: 0;left: 50%;z-index: -1;}#sk-container-id-2 div.sk-parallel-item {display: flex;flex-direction: column;z-index: 1;position: relative;background-color: white;}#sk-container-id-2 div.sk-parallel-item:first-child::after {align-self: flex-end;width: 50%;}#sk-container-id-2 div.sk-parallel-item:last-child::after {align-self: flex-start;width: 50%;}#sk-container-id-2 div.sk-parallel-item:only-child::after {width: 0;}#sk-container-id-2 div.sk-dashed-wrapped {border: 1px dashed gray;margin: 0 0.4em 0.5em 0.4em;box-sizing: border-box;padding-bottom: 0.4em;background-color: white;}#sk-container-id-2 div.sk-label label {font-family: monospace;font-weight: bold;display: inline-block;line-height: 1.2em;}#sk-container-id-2 div.sk-label-container {text-align: center;}#sk-container-id-2 div.sk-container {/* jupyter's `normalize.less` sets `[hidden] { display: none; }` but bootstrap.min.css set `[hidden] { display: none !important; }` so we also need the `!important` here to be able to override the default hidden behavior on the sphinx rendered scikit-learn.org. See: https://github.com/scikit-learn/scikit-learn/issues/21755 */display: inline-block !important;position: relative;}#sk-container-id-2 div.sk-text-repr-fallback {display: none;}</style><div id=\"sk-container-id-2\" class=\"sk-top-container\"><div class=\"sk-text-repr-fallback\"><pre>KMeans(n_clusters=3, n_init=&#x27;auto&#x27;)</pre><b>In a Jupyter environment, please rerun this cell to show the HTML representation or trust the notebook. <br />On GitHub, the HTML representation is unable to render, please try loading this page with nbviewer.org.</b></div><div class=\"sk-container\" hidden><div class=\"sk-item\"><div class=\"sk-estimator sk-toggleable\"><input class=\"sk-toggleable__control sk-hidden--visually\" id=\"sk-estimator-id-2\" type=\"checkbox\" checked><label for=\"sk-estimator-id-2\" class=\"sk-toggleable__label sk-toggleable__label-arrow\">KMeans</label><div class=\"sk-toggleable__content\"><pre>KMeans(n_clusters=3, n_init=&#x27;auto&#x27;)</pre></div></div></div></div></div>"
      ],
      "text/plain": [
       "KMeans(n_clusters=3, n_init='auto')"
      ]
     },
     "execution_count": 22,
     "metadata": {},
     "output_type": "execute_result"
    }
   ],
   "source": [
    "#Let's try 3 and shade in the points on PCA and tSNE\n",
    "km = KMeans(n_clusters=3, n_init='auto')\n",
    "km.fit(X)"
   ]
  },
  {
   "cell_type": "code",
   "execution_count": 23,
   "id": "d48cc701",
   "metadata": {},
   "outputs": [
    {
     "data": {
      "text/plain": [
       "array([0, 0, 0, 0, 0, 0, 0, 0, 0, 0, 0, 0, 0, 0, 0, 0, 0, 0, 0, 0, 0, 0,\n",
       "       0, 0, 0, 0, 0, 0, 0, 0, 0, 0, 0, 0, 0, 0, 0, 0, 0, 0, 0, 0, 0, 0,\n",
       "       0, 0, 0, 0, 0, 0, 0, 0, 0, 0, 0, 0, 0, 0, 0, 1, 1, 2, 1, 1, 1, 1,\n",
       "       1, 1, 1, 1, 1, 1, 1, 0, 1, 1, 1, 1, 1, 1, 1, 1, 1, 2, 1, 1, 1, 1,\n",
       "       1, 1, 1, 1, 1, 1, 1, 0, 1, 1, 1, 1, 1, 1, 1, 1, 1, 1, 1, 1, 1, 1,\n",
       "       1, 1, 1, 1, 1, 1, 1, 1, 2, 1, 1, 0, 1, 1, 1, 1, 1, 1, 1, 1, 2, 2,\n",
       "       2, 2, 2, 2, 2, 2, 2, 2, 2, 2, 2, 2, 2, 2, 2, 2, 2, 2, 2, 2, 2, 2,\n",
       "       2, 2, 2, 2, 2, 2, 2, 2, 2, 2, 2, 2, 2, 2, 2, 2, 2, 2, 2, 2, 2, 2,\n",
       "       2, 2], dtype=int32)"
      ]
     },
     "execution_count": 23,
     "metadata": {},
     "output_type": "execute_result"
    }
   ],
   "source": [
    "groups = km.predict(X)\n",
    "groups"
   ]
  },
  {
   "cell_type": "code",
   "execution_count": 24,
   "id": "71b64e85",
   "metadata": {},
   "outputs": [
    {
     "data": {
      "text/plain": [
       "array([[ 0.83523208, -0.30380968,  0.36470604, -0.61019129,  0.5775868 ,\n",
       "         0.88523736,  0.97781956, -0.56208965,  0.58028658,  0.17106348,\n",
       "         0.47398365,  0.77924711,  1.12518529],\n",
       "       [-0.92607185, -0.39404154, -0.49451676,  0.17060184, -0.49171185,\n",
       "        -0.07598265,  0.02081257, -0.03353357,  0.0582655 , -0.90191402,\n",
       "         0.46180361,  0.27076419, -0.75384618],\n",
       "       [ 0.16490746,  0.87154706,  0.18689833,  0.52436746, -0.07547277,\n",
       "        -0.97933029, -1.21524764,  0.72606354, -0.77970639,  0.94153874,\n",
       "        -1.16478865, -1.29241163, -0.40708796]])"
      ]
     },
     "execution_count": 24,
     "metadata": {},
     "output_type": "execute_result"
    }
   ],
   "source": [
    "km.cluster_centers_"
   ]
  },
  {
   "cell_type": "code",
   "execution_count": 25,
   "id": "de887716",
   "metadata": {},
   "outputs": [
    {
     "data": {
      "text/plain": [
       "(<Figure size 600x600 with 1 Axes>, <Axes: xlabel='x', ylabel='y'>)"
      ]
     },
     "execution_count": 25,
     "metadata": {},
     "output_type": "execute_result"
    },
    {
     "data": {
      "image/png": "[encoded data removed]",
      "text/plain": [
       "<Figure size 600x600 with 1 Axes>"
      ]
     },
     "metadata": {},
     "output_type": "display_data"
    }
   ],
   "source": [
    "# Plot the clusters and the centroids (using first two PCs of PCA) \n",
    "\n",
    "fig,ax = plot_groups(pca_X, groups, colors = ['red','blue','green'], labels = ['PC1','PC2'], alpha = 0.5)\n",
    "plot_groups(pca.fit_transform(km.cluster_centers_), np.unique(groups), colors = ['grey']*3, ax=ax, s= 100,\n",
    "           alpha = 1)"
   ]
  },
  {
   "cell_type": "code",
   "execution_count": 26,
   "id": "5bf2f601",
   "metadata": {},
   "outputs": [
    {
     "data": {
      "image/png": "[encoded data removed]",
      "text/plain": [
       "<Figure size 600x600 with 1 Axes>"
      ]
     },
     "metadata": {},
     "output_type": "display_data"
    }
   ],
   "source": [
    "# Plot the clusters using TSNE\n",
    "\n",
    "fig, ax = plot_groups(tsne_X, groups, colors = ['red','blue','green'], labels = ['TSNE1','TSNE2'], alpha = 0.5)\n",
    "\n",
    "# plt.xticks([])\n",
    "# plt.yticks([])"
   ]
  },
  {
   "cell_type": "markdown",
   "id": "96c64c80-01e6-4d8f-bbca-4db25cf8c76c",
   "metadata": {},
   "source": [
    "Actually we do know how many groups there are and which points go in which group....let's see if they match the clusters"
   ]
  },
  {
   "cell_type": "code",
   "execution_count": 27,
   "id": "5d673f2c",
   "metadata": {},
   "outputs": [
    {
     "data": {
      "text/plain": [
       "array([0, 0, 0, 0, 0, 0, 0, 0, 0, 0, 0, 0, 0, 0, 0, 0, 0, 0, 0, 0, 0, 0,\n",
       "       0, 0, 0, 0, 0, 0, 0, 0, 0, 0, 0, 0, 0, 0, 0, 0, 0, 0, 0, 0, 0, 0,\n",
       "       0, 0, 0, 0, 0, 0, 0, 0, 0, 0, 0, 0, 0, 0, 0, 1, 1, 2, 1, 1, 1, 1,\n",
       "       1, 1, 1, 1, 1, 1, 1, 0, 1, 1, 1, 1, 1, 1, 1, 1, 1, 2, 1, 1, 1, 1,\n",
       "       1, 1, 1, 1, 1, 1, 1, 0, 1, 1, 1, 1, 1, 1, 1, 1, 1, 1, 1, 1, 1, 1,\n",
       "       1, 1, 1, 1, 1, 1, 1, 1, 2, 1, 1, 0, 1, 1, 1, 1, 1, 1, 1, 1, 2, 2,\n",
       "       2, 2, 2, 2, 2, 2, 2, 2, 2, 2, 2, 2, 2, 2, 2, 2, 2, 2, 2, 2, 2, 2,\n",
       "       2, 2, 2, 2, 2, 2, 2, 2, 2, 2, 2, 2, 2, 2, 2, 2, 2, 2, 2, 2, 2, 2,\n",
       "       2, 2], dtype=int32)"
      ]
     },
     "execution_count": 27,
     "metadata": {},
     "output_type": "execute_result"
    }
   ],
   "source": [
    "groups"
   ]
  },
  {
   "cell_type": "code",
   "execution_count": 28,
   "id": "ebd61c84",
   "metadata": {},
   "outputs": [
    {
     "data": {
      "text/plain": [
       "array([0, 0, 0, 0, 0, 0, 0, 0, 0, 0, 0, 0, 0, 0, 0, 0, 0, 0, 0, 0, 0, 0,\n",
       "       0, 0, 0, 0, 0, 0, 0, 0, 0, 0, 0, 0, 0, 0, 0, 0, 0, 0, 0, 0, 0, 0,\n",
       "       0, 0, 0, 0, 0, 0, 0, 0, 0, 0, 0, 0, 0, 0, 0, 1, 1, 1, 1, 1, 1, 1,\n",
       "       1, 1, 1, 1, 1, 1, 1, 1, 1, 1, 1, 1, 1, 1, 1, 1, 1, 1, 1, 1, 1, 1,\n",
       "       1, 1, 1, 1, 1, 1, 1, 1, 1, 1, 1, 1, 1, 1, 1, 1, 1, 1, 1, 1, 1, 1,\n",
       "       1, 1, 1, 1, 1, 1, 1, 1, 1, 1, 1, 1, 1, 1, 1, 1, 1, 1, 1, 1, 2, 2,\n",
       "       2, 2, 2, 2, 2, 2, 2, 2, 2, 2, 2, 2, 2, 2, 2, 2, 2, 2, 2, 2, 2, 2,\n",
       "       2, 2, 2, 2, 2, 2, 2, 2, 2, 2, 2, 2, 2, 2, 2, 2, 2, 2, 2, 2, 2, 2,\n",
       "       2, 2])"
      ]
     },
     "execution_count": 28,
     "metadata": {},
     "output_type": "execute_result"
    }
   ],
   "source": [
    "real_groups = pd.read_csv('data/Metadata.csv', index_col=0)\n",
    "real_groups = real_groups['0'].values\n",
    "real_groups"
   ]
  },
  {
   "cell_type": "code",
   "execution_count": null,
   "id": "55d2a693",
   "metadata": {},
   "outputs": [],
   "source": [
    "conf_matrix, accuracy = compare_classes(real_groups, groups)\n",
    "conf_matrix"
   ]
  },
  {
   "cell_type": "markdown",
   "id": "30eccbf7-3a44-4b30-bcd6-e258556d2afd",
   "metadata": {},
   "source": [
    "Anything wrong?"
   ]
  },
  {
   "cell_type": "code",
   "execution_count": 29,
   "id": "5f665fb1",
   "metadata": {},
   "outputs": [],
   "source": [
    "# The labels of groups 1 and 2 are reversed. Let's switch them over.\n",
    "#temp = groups == 0\n",
    "\n",
    "change2 = groups == 2\n",
    "\n",
    "change1 = groups == 1\n",
    "\n",
    "#groups[temp] = 2\n",
    "groups[change2] = 1\n",
    "groups[change1] = 2\n",
    "\n"
   ]
  },
  {
   "cell_type": "code",
   "execution_count": 30,
   "id": "37f43f2c",
   "metadata": {},
   "outputs": [
    {
     "name": "stdout",
     "output_type": "stream",
     "text": [
      "Test accuracy = 0.35\n"
     ]
    },
    {
     "data": {
      "text/html": [
       "<div>\n",
       "<style scoped>\n",
       "    .dataframe tbody tr th:only-of-type {\n",
       "        vertical-align: middle;\n",
       "    }\n",
       "\n",
       "    .dataframe tbody tr th {\n",
       "        vertical-align: top;\n",
       "    }\n",
       "\n",
       "    .dataframe thead th {\n",
       "        text-align: right;\n",
       "    }\n",
       "</style>\n",
       "<table border=\"1\" class=\"dataframe\">\n",
       "  <thead>\n",
       "    <tr style=\"text-align: right;\">\n",
       "      <th>Predicted</th>\n",
       "      <th>0</th>\n",
       "      <th>1</th>\n",
       "      <th>2</th>\n",
       "    </tr>\n",
       "    <tr>\n",
       "      <th>Actual</th>\n",
       "      <th></th>\n",
       "      <th></th>\n",
       "      <th></th>\n",
       "    </tr>\n",
       "  </thead>\n",
       "  <tbody>\n",
       "    <tr>\n",
       "      <th>0</th>\n",
       "      <td>59</td>\n",
       "      <td>0</td>\n",
       "      <td>0</td>\n",
       "    </tr>\n",
       "    <tr>\n",
       "      <th>1</th>\n",
       "      <td>3</td>\n",
       "      <td>3</td>\n",
       "      <td>65</td>\n",
       "    </tr>\n",
       "    <tr>\n",
       "      <th>2</th>\n",
       "      <td>0</td>\n",
       "      <td>48</td>\n",
       "      <td>0</td>\n",
       "    </tr>\n",
       "  </tbody>\n",
       "</table>\n",
       "</div>"
      ],
      "text/plain": [
       "Predicted   0   1   2\n",
       "Actual               \n",
       "0          59   0   0\n",
       "1           3   3  65\n",
       "2           0  48   0"
      ]
     },
     "execution_count": 30,
     "metadata": {},
     "output_type": "execute_result"
    }
   ],
   "source": [
    "conf_matrix, accuracy = compare_classes(real_groups, groups)\n",
    "conf_matrix"
   ]
  },
  {
   "cell_type": "markdown",
   "id": "166e162e-5f92-4a81-af64-6abaf2095d34",
   "metadata": {},
   "source": [
    "The above is just to show that the groups in unsupervised learning are usually <b>NOT pre-defined</b>. <br>\n",
    "In practice, we cannot compute confusion matrix for unsupervised learning, since we have no idea what the actual labels are for the groups that the data points belong to."
   ]
  },
  {
   "cell_type": "code",
   "execution_count": null,
   "id": "668b6dd5-63ed-480c-aae4-053216eba48a",
   "metadata": {},
   "outputs": [],
   "source": []
  },
  {
   "cell_type": "markdown",
   "id": "94c8ecc3-01da-4833-baa9-b17e80796cd7",
   "metadata": {},
   "source": [
    "## The DNA dataset "
   ]
  },
  {
   "cell_type": "code",
   "execution_count": 31,
   "id": "c8e4f582-b491-471f-829e-a71823d22c41",
   "metadata": {
    "tags": []
   },
   "outputs": [
    {
     "data": {
      "text/html": [
       "<div>\n",
       "<style scoped>\n",
       "    .dataframe tbody tr th:only-of-type {\n",
       "        vertical-align: middle;\n",
       "    }\n",
       "\n",
       "    .dataframe tbody tr th {\n",
       "        vertical-align: top;\n",
       "    }\n",
       "\n",
       "    .dataframe thead th {\n",
       "        text-align: right;\n",
       "    }\n",
       "</style>\n",
       "<table border=\"1\" class=\"dataframe\">\n",
       "  <thead>\n",
       "    <tr style=\"text-align: right;\">\n",
       "      <th></th>\n",
       "      <th>AAAA</th>\n",
       "      <th>AAAC</th>\n",
       "      <th>AAAT</th>\n",
       "      <th>AAAG</th>\n",
       "      <th>AACA</th>\n",
       "      <th>AACC</th>\n",
       "      <th>AACT</th>\n",
       "      <th>AACG</th>\n",
       "      <th>AATA</th>\n",
       "      <th>AATC</th>\n",
       "      <th>...</th>\n",
       "      <th>GGCT</th>\n",
       "      <th>GGCG</th>\n",
       "      <th>GGTA</th>\n",
       "      <th>GGTC</th>\n",
       "      <th>GGTT</th>\n",
       "      <th>GGTG</th>\n",
       "      <th>GGGA</th>\n",
       "      <th>GGGC</th>\n",
       "      <th>GGGT</th>\n",
       "      <th>GGGG</th>\n",
       "    </tr>\n",
       "  </thead>\n",
       "  <tbody>\n",
       "    <tr>\n",
       "      <th>0</th>\n",
       "      <td>0.003590</td>\n",
       "      <td>0.003675</td>\n",
       "      <td>0.004523</td>\n",
       "      <td>0.002541</td>\n",
       "      <td>0.005437</td>\n",
       "      <td>0.002962</td>\n",
       "      <td>0.003883</td>\n",
       "      <td>0.004101</td>\n",
       "      <td>0.005245</td>\n",
       "      <td>0.005914</td>\n",
       "      <td>...</td>\n",
       "      <td>0.002811</td>\n",
       "      <td>0.003309</td>\n",
       "      <td>0.002535</td>\n",
       "      <td>0.003914</td>\n",
       "      <td>0.002962</td>\n",
       "      <td>0.004354</td>\n",
       "      <td>0.002910</td>\n",
       "      <td>0.001840</td>\n",
       "      <td>0.002707</td>\n",
       "      <td>0.001785</td>\n",
       "    </tr>\n",
       "    <tr>\n",
       "      <th>1</th>\n",
       "      <td>0.003195</td>\n",
       "      <td>0.003714</td>\n",
       "      <td>0.003834</td>\n",
       "      <td>0.002509</td>\n",
       "      <td>0.005379</td>\n",
       "      <td>0.003127</td>\n",
       "      <td>0.003652</td>\n",
       "      <td>0.004227</td>\n",
       "      <td>0.004291</td>\n",
       "      <td>0.006100</td>\n",
       "      <td>...</td>\n",
       "      <td>0.002825</td>\n",
       "      <td>0.003506</td>\n",
       "      <td>0.002371</td>\n",
       "      <td>0.004111</td>\n",
       "      <td>0.003127</td>\n",
       "      <td>0.004668</td>\n",
       "      <td>0.003233</td>\n",
       "      <td>0.001972</td>\n",
       "      <td>0.002921</td>\n",
       "      <td>0.001995</td>\n",
       "    </tr>\n",
       "    <tr>\n",
       "      <th>2</th>\n",
       "      <td>0.003269</td>\n",
       "      <td>0.004386</td>\n",
       "      <td>0.005131</td>\n",
       "      <td>0.002317</td>\n",
       "      <td>0.006207</td>\n",
       "      <td>0.003393</td>\n",
       "      <td>0.003807</td>\n",
       "      <td>0.003434</td>\n",
       "      <td>0.006910</td>\n",
       "      <td>0.007365</td>\n",
       "      <td>...</td>\n",
       "      <td>0.001945</td>\n",
       "      <td>0.002441</td>\n",
       "      <td>0.002317</td>\n",
       "      <td>0.003393</td>\n",
       "      <td>0.003393</td>\n",
       "      <td>0.004345</td>\n",
       "      <td>0.002897</td>\n",
       "      <td>0.001200</td>\n",
       "      <td>0.002938</td>\n",
       "      <td>0.002441</td>\n",
       "    </tr>\n",
       "    <tr>\n",
       "      <th>3</th>\n",
       "      <td>0.003142</td>\n",
       "      <td>0.004164</td>\n",
       "      <td>0.003300</td>\n",
       "      <td>0.001964</td>\n",
       "      <td>0.006442</td>\n",
       "      <td>0.002907</td>\n",
       "      <td>0.004085</td>\n",
       "      <td>0.004557</td>\n",
       "      <td>0.005264</td>\n",
       "      <td>0.006285</td>\n",
       "      <td>...</td>\n",
       "      <td>0.002121</td>\n",
       "      <td>0.003614</td>\n",
       "      <td>0.001493</td>\n",
       "      <td>0.004399</td>\n",
       "      <td>0.002907</td>\n",
       "      <td>0.003849</td>\n",
       "      <td>0.002514</td>\n",
       "      <td>0.002043</td>\n",
       "      <td>0.002593</td>\n",
       "      <td>0.002121</td>\n",
       "    </tr>\n",
       "    <tr>\n",
       "      <th>4</th>\n",
       "      <td>0.004763</td>\n",
       "      <td>0.003297</td>\n",
       "      <td>0.006137</td>\n",
       "      <td>0.002473</td>\n",
       "      <td>0.005404</td>\n",
       "      <td>0.003114</td>\n",
       "      <td>0.003297</td>\n",
       "      <td>0.003252</td>\n",
       "      <td>0.007007</td>\n",
       "      <td>0.006183</td>\n",
       "      <td>...</td>\n",
       "      <td>0.002473</td>\n",
       "      <td>0.002977</td>\n",
       "      <td>0.002107</td>\n",
       "      <td>0.003114</td>\n",
       "      <td>0.003114</td>\n",
       "      <td>0.004488</td>\n",
       "      <td>0.002244</td>\n",
       "      <td>0.002107</td>\n",
       "      <td>0.002610</td>\n",
       "      <td>0.002244</td>\n",
       "    </tr>\n",
       "  </tbody>\n",
       "</table>\n",
       "<p>5 rows × 256 columns</p>\n",
       "</div>"
      ],
      "text/plain": [
       "       AAAA      AAAC      AAAT      AAAG      AACA      AACC      AACT   \n",
       "0  0.003590  0.003675  0.004523  0.002541  0.005437  0.002962  0.003883  \\\n",
       "1  0.003195  0.003714  0.003834  0.002509  0.005379  0.003127  0.003652   \n",
       "2  0.003269  0.004386  0.005131  0.002317  0.006207  0.003393  0.003807   \n",
       "3  0.003142  0.004164  0.003300  0.001964  0.006442  0.002907  0.004085   \n",
       "4  0.004763  0.003297  0.006137  0.002473  0.005404  0.003114  0.003297   \n",
       "\n",
       "       AACG      AATA      AATC  ...      GGCT      GGCG      GGTA      GGTC   \n",
       "0  0.004101  0.005245  0.005914  ...  0.002811  0.003309  0.002535  0.003914  \\\n",
       "1  0.004227  0.004291  0.006100  ...  0.002825  0.003506  0.002371  0.004111   \n",
       "2  0.003434  0.006910  0.007365  ...  0.001945  0.002441  0.002317  0.003393   \n",
       "3  0.004557  0.005264  0.006285  ...  0.002121  0.003614  0.001493  0.004399   \n",
       "4  0.003252  0.007007  0.006183  ...  0.002473  0.002977  0.002107  0.003114   \n",
       "\n",
       "       GGTT      GGTG      GGGA      GGGC      GGGT      GGGG  \n",
       "0  0.002962  0.004354  0.002910  0.001840  0.002707  0.001785  \n",
       "1  0.003127  0.004668  0.003233  0.001972  0.002921  0.001995  \n",
       "2  0.003393  0.004345  0.002897  0.001200  0.002938  0.002441  \n",
       "3  0.002907  0.003849  0.002514  0.002043  0.002593  0.002121  \n",
       "4  0.003114  0.004488  0.002244  0.002107  0.002610  0.002244  \n",
       "\n",
       "[5 rows x 256 columns]"
      ]
     },
     "execution_count": 31,
     "metadata": {},
     "output_type": "execute_result"
    }
   ],
   "source": [
    "full_data = pd.read_csv('data/DNA_full_data.csv')\n",
    "full_data.head()"
   ]
  },
  {
   "cell_type": "code",
   "execution_count": 32,
   "id": "9bc17c44-f8c9-4caf-a47d-a941c4a75a88",
   "metadata": {
    "tags": []
   },
   "outputs": [],
   "source": [
    "#pca_Full = pca.fit_transform(SS().fit_transform(full_data.values))\n",
    "pca_Full = pca.fit_transform(full_data.values)"
   ]
  },
  {
   "cell_type": "code",
   "execution_count": 33,
   "id": "3a92e468-0fb8-402e-994f-3ea5f048c0cb",
   "metadata": {
    "tags": []
   },
   "outputs": [
    {
     "data": {
      "text/plain": [
       "<matplotlib.collections.PathCollection at 0x7ff6f82c5e40>"
      ]
     },
     "execution_count": 33,
     "metadata": {},
     "output_type": "execute_result"
    },
    {
     "data": {
      "image/png": "[encoded data removed]",
      "text/plain": [
       "<Figure size 640x480 with 1 Axes>"
      ]
     },
     "metadata": {},
     "output_type": "display_data"
    }
   ],
   "source": [
    "plt.scatter(pca_Full[:,0], pca_Full[:,1])"
   ]
  },
  {
   "cell_type": "code",
   "execution_count": 34,
   "id": "bdbfb0b4-b716-4525-a897-b8c275f6a8c7",
   "metadata": {
    "tags": []
   },
   "outputs": [],
   "source": [
    "# Get scores for a range of n_clusters\n",
    "\n",
    "scorespca=[]\n",
    "k_range = np.arange(1,11)\n",
    "for k in k_range:\n",
    "    km = KMeans(n_clusters=k, random_state=146, n_init=10)\n",
    "    km.fit(X)\n",
    "    scorespca.append(km.score(X))"
   ]
  },
  {
   "cell_type": "code",
   "execution_count": 35,
   "id": "f7b474e3-7c43-4b46-8bb8-61fdc4f2cc63",
   "metadata": {
    "tags": []
   },
   "outputs": [
    {
     "data": {
      "image/png": "[encoded data removed]",
      "text/plain": [
       "<Figure size 640x480 with 1 Axes>"
      ]
     },
     "metadata": {},
     "output_type": "display_data"
    }
   ],
   "source": [
    "# Plot the score-n_clusters curve\n",
    "plt.plot(k_range, scorespca, '-xk')\n",
    "plt.xlabel('n_clusters')\n",
    "plt.xticks(k_range)\n",
    "plt.ylabel('Score')\n",
    "plt.show()"
   ]
  },
  {
   "cell_type": "code",
   "execution_count": 36,
   "id": "845306d0-8792-4137-8b01-65e57eaed733",
   "metadata": {
    "tags": []
   },
   "outputs": [],
   "source": [
    "km = KMeans(n_clusters = 3, random_state = 146, n_init=10)"
   ]
  },
  {
   "cell_type": "code",
   "execution_count": null,
   "id": "cd687a21-9006-4b84-9221-e2214a0b282e",
   "metadata": {
    "tags": []
   },
   "outputs": [],
   "source": [
    "km.fit(full_data.values)"
   ]
  },
  {
   "cell_type": "code",
   "execution_count": null,
   "id": "61f9c649-844b-4314-90bb-99a376847fe2",
   "metadata": {
    "tags": []
   },
   "outputs": [],
   "source": [
    "full_predictions = km.predict(full_data.values)"
   ]
  },
  {
   "cell_type": "code",
   "execution_count": null,
   "id": "9b23f589-6ba3-4554-bbc3-18251959cb0b",
   "metadata": {
    "tags": []
   },
   "outputs": [],
   "source": [
    "full_predictions"
   ]
  },
  {
   "cell_type": "code",
   "execution_count": null,
   "id": "0f6b969b-e51c-4a7c-9b74-e698c07f6afd",
   "metadata": {
    "tags": []
   },
   "outputs": [],
   "source": [
    "km.labels_"
   ]
  },
  {
   "cell_type": "code",
   "execution_count": null,
   "id": "e3882243-6ee7-4972-ad58-5083636ce459",
   "metadata": {
    "tags": []
   },
   "outputs": [],
   "source": [
    "#Let's just look at the data labels\n",
    "labels = pd.read_csv('data/DNA_labels.csv', index_col = 0)\n",
    "labels"
   ]
  },
  {
   "cell_type": "code",
   "execution_count": null,
   "id": "1371b77a-1db5-4241-9b5d-e9cfe9485e17",
   "metadata": {
    "tags": []
   },
   "outputs": [],
   "source": [
    "np.unique(full_predictions)"
   ]
  },
  {
   "cell_type": "code",
   "execution_count": null,
   "id": "56b1652c-5bd2-4a86-a0c6-0ad42e2e9301",
   "metadata": {
    "tags": []
   },
   "outputs": [],
   "source": [
    "conf_matrix, accuracy = compare_classes(labels['Sequence_ID'].values, full_predictions)\n",
    "conf_matrix"
   ]
  },
  {
   "cell_type": "code",
   "execution_count": null,
   "id": "94f72a5d-fd33-472b-ba94-a92f82640e41",
   "metadata": {
    "tags": []
   },
   "outputs": [],
   "source": [
    "#This tells us which sequences should actually go together\n",
    "mapping = {0:'Halo', 1:'Helico', 2:'Taq'}\n",
    "new_full = pd.Series(full_predictions).apply(lambda x: mapping[x] ).values\n",
    "new_full"
   ]
  },
  {
   "cell_type": "code",
   "execution_count": null,
   "id": "912205cb-95e1-4a33-ab9f-00bdb34fb329",
   "metadata": {
    "tags": []
   },
   "outputs": [],
   "source": [
    "conf_matrix, accuracy = compare_classes(labels['Sequence_ID'].values, new_full)\n",
    "conf_matrix"
   ]
  },
  {
   "cell_type": "code",
   "execution_count": null,
   "id": "4667ce68-bca8-4832-b14e-97f0f6b38e60",
   "metadata": {},
   "outputs": [],
   "source": []
  }
 ],
 "metadata": {
  "kernelspec": {
   "display_name": "Python 3 (ipykernel)",
   "language": "python",
   "name": "python3"
  },
  "language_info": {
   "codemirror_mode": {
    "name": "ipython",
    "version": 3
   },
   "file_extension": ".py",
   "mimetype": "text/x-python",
   "name": "python",
   "nbconvert_exporter": "python",
   "pygments_lexer": "ipython3",
   "version": "3.10.10"
  }
 },
 "nbformat": 4,
 "nbformat_minor": 5
}
