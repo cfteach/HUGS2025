{
 "cells": [
  {
   "cell_type": "markdown",
   "metadata": {},
   "source": [
    "# Regularization (Ridge and Lasso regression)"
   ]
  },
  {
   "cell_type": "markdown",
   "metadata": {
    "tags": []
   },
   "source": [
    "## 1. Regularization on simulated data"
   ]
  },
  {
   "cell_type": "markdown",
   "metadata": {},
   "source": [
    "As you may recall, when doing OLS we are minimizing the sum of squared errors between the model and the data.  The idea of minimizing some quantity is common to many model fitting and optimization problems, and the thing we are minimizing is referred as a **cost function**.\n",
    "\n",
    "For OLS, the cost function is:\n",
    "\n",
    "$$\\sum_{i=1}^N (y_i - \\hat{y}_i)^2$$\n",
    "\n",
    "where $y_i$ is the observed value of the target for observation $i$, and $\\hat{y}_i$ denotes the value predicted by the model.  The techniques we will talk about in this notebook are based on modifications to this cost function."
   ]
  },
  {
   "cell_type": "code",
   "execution_count": null,
   "metadata": {
    "tags": []
   },
   "outputs": [],
   "source": [
    "# Generate simulated data\n",
    "\n",
    "import numpy as np\n",
    "import matplotlib.pyplot as plt\n",
    "\n",
    "n = 10\n",
    "noise_strength = 1\n",
    "np.random.seed(147)\n",
    "noise = np.random.normal(scale=noise_strength, size=(n,1))\n",
    "x = np.random.normal(size=(n,1))\n",
    "y = 1 + 2*x + noise"
   ]
  },
  {
   "cell_type": "code",
   "execution_count": null,
   "metadata": {
    "tags": []
   },
   "outputs": [],
   "source": [
    "# Put simulated x and y into a dataframe\n",
    "\n",
    "import pandas as pd\n",
    "df = pd.DataFrame(columns = ['x','y'])\n",
    "df['x'] = x.ravel()\n",
    "df['y'] = y.ravel()\n",
    "df"
   ]
  },
  {
   "cell_type": "code",
   "execution_count": null,
   "metadata": {
    "tags": []
   },
   "outputs": [],
   "source": [
    "# assign a value of 0.2 to df.loc[4,'y'] \n",
    "\n",
    "df.loc[4,'y'] = 0.2\n",
    "df"
   ]
  },
  {
   "cell_type": "code",
   "execution_count": null,
   "metadata": {
    "tags": []
   },
   "outputs": [],
   "source": [
    "# Generating \"the\" four items \n",
    "#-- use the visualization trick in class to understand what they are\n",
    "\n",
    "idx_test = [1,7]\n",
    "Xtest = df.loc[idx_test,'x']\n",
    "ytest = df.loc[idx_test,'y']\n",
    "Xtrain = df.drop(idx_test)['x']\n",
    "ytrain = df.drop(idx_test)['y']"
   ]
  },
  {
   "cell_type": "code",
   "execution_count": null,
   "metadata": {
    "tags": []
   },
   "outputs": [],
   "source": [
    "Xtrain, ytrain\n",
    "Xtest, ytest"
   ]
  },
  {
   "cell_type": "code",
   "execution_count": null,
   "metadata": {
    "tags": []
   },
   "outputs": [],
   "source": [
    "# plot the train and test data with scatterplot\n",
    "\n",
    "plt.scatter(Xtrain,ytrain, label='Training data', color='k')\n",
    "plt.scatter(Xtest, ytest, label = 'Test data', color = 'blue')\n",
    "#plt.title('Our randomly generated data')\n",
    "plt.xlabel('x')\n",
    "plt.ylabel('y')\n",
    "plt.show()"
   ]
  },
  {
   "cell_type": "code",
   "execution_count": null,
   "metadata": {
    "tags": []
   },
   "outputs": [],
   "source": [
    "# Fit with a normal linear regression model\n",
    "\n",
    "from sklearn.linear_model import LinearRegression as LR, Ridge, Lasso\n",
    "Xtrain = np.array(Xtrain).reshape(-1,1)\n",
    "Xtest = np.array(Xtest).reshape(-1,1)\n",
    "lin_reg = LR()\n",
    "lin_reg.fit(Xtrain, ytrain)\n",
    "\n",
    "# print train and test R^2 values\n",
    "print(lin_reg.score(Xtrain, ytrain))\n",
    "print(lin_reg.score(Xtest, ytest))"
   ]
  },
  {
   "cell_type": "code",
   "execution_count": null,
   "metadata": {
    "tags": []
   },
   "outputs": [],
   "source": [
    "print(lin_reg.intercept_, lin_reg.coef_)"
   ]
  },
  {
   "cell_type": "markdown",
   "metadata": {},
   "source": [
    "<b>Ridge</b> regression step!"
   ]
  },
  {
   "cell_type": "code",
   "execution_count": null,
   "metadata": {
    "tags": []
   },
   "outputs": [],
   "source": [
    "# Ridge regression\n",
    "\n",
    "rid_reg = Ridge(alpha = 2)\n",
    "rid_reg.fit(Xtrain, ytrain)\n",
    "\n",
    "print(rid_reg.score(Xtrain, ytrain))\n",
    "print(rid_reg.score(Xtest,ytest))"
   ]
  },
  {
   "cell_type": "code",
   "execution_count": null,
   "metadata": {
    "tags": []
   },
   "outputs": [],
   "source": [
    "print(rid_reg.intercept_, rid_reg.coef_)"
   ]
  },
  {
   "cell_type": "code",
   "execution_count": null,
   "metadata": {
    "tags": []
   },
   "outputs": [],
   "source": [
    "# Ridge regression with a larger alpha\n",
    "\n",
    "rid_reg2 = Ridge(alpha = 100)\n",
    "rid_reg2.fit(Xtrain, ytrain)\n",
    "\n",
    "print(rid_reg2.score(Xtrain, ytrain))\n",
    "print(rid_reg2.score(Xtest,ytest))"
   ]
  },
  {
   "cell_type": "code",
   "execution_count": null,
   "metadata": {
    "tags": []
   },
   "outputs": [],
   "source": [
    "print(rid_reg2.intercept_, rid_reg2.coef_)"
   ]
  },
  {
   "cell_type": "code",
   "execution_count": null,
   "metadata": {
    "tags": []
   },
   "outputs": [],
   "source": [
    "# Visualize the regular linear regression model and the two Ridge regression models\n",
    "\n",
    "x_range = [min(x), max(x)]\n",
    "\n",
    "# three y_ranges, one for each model\n",
    "y_pred = lin_reg.predict(x_range)\n",
    "y_ridge = rid_reg.predict(x_range)\n",
    "y_ridge2 = rid_reg2.predict(x_range)\n",
    "\n",
    "plt.figure(figsize = (10,6))\n",
    "# plot Train and test data\n",
    "plt.scatter(Xtrain.ravel(),ytrain, label='Train data', color='k')\n",
    "plt.scatter(Xtest.ravel(), ytest, label = 'Test data', color = 'green', s = 100)\n",
    "# plot the models\n",
    "plt.plot(x_range, y_pred, label='Linear_regression', color='r')\n",
    "plt.plot(x_range, y_ridge, label = 'Ridge_alpha_2', color = 'blue', linestyle = '--')\n",
    "plt.plot(x_range, y_ridge2, label = 'Ridge_alpha_100', color = 'grey', linestyle = '-.')\n",
    "#plt.title('')\n",
    "plt.xlabel('x')\n",
    "plt.ylabel('y')\n",
    "plt.legend()\n",
    "plt.show()"
   ]
  },
  {
   "cell_type": "markdown",
   "metadata": {},
   "source": [
    "<b>Lasso</b> regression step!"
   ]
  },
  {
   "cell_type": "code",
   "execution_count": null,
   "metadata": {
    "tags": []
   },
   "outputs": [],
   "source": [
    "# Lasso regression\n",
    "\n",
    "las_reg = Lasso(alpha = 100)\n",
    "las_reg.fit(Xtrain, ytrain)\n",
    "print(las_reg.score(Xtrain, ytrain))\n",
    "print(las_reg.score(Xtest,ytest))"
   ]
  },
  {
   "cell_type": "markdown",
   "metadata": {
    "tags": []
   },
   "source": [
    "## 2. Regularization on real data"
   ]
  },
  {
   "cell_type": "markdown",
   "metadata": {
    "tags": []
   },
   "source": [
    "### 2.1 Regular linear regression"
   ]
  },
  {
   "cell_type": "code",
   "execution_count": 1,
   "metadata": {
    "tags": []
   },
   "outputs": [],
   "source": [
    "#Use pockets data\n",
    "from sklearn.linear_model import LinearRegression as LR\n",
    "from sklearn.model_selection import train_test_split as tts\n",
    "# be sure to upload the intro_Data.py file so that it can be imported\n",
    "from intro_Data import *\n",
    "import pandas as pd\n",
    "import numpy as np\n",
    "import matplotlib.pyplot as plt\n",
    "import seaborn as sns"
   ]
  },
  {
   "cell_type": "code",
   "execution_count": 2,
   "metadata": {
    "tags": []
   },
   "outputs": [
    {
     "name": "stdout",
     "output_type": "stream",
     "text": [
      "Help on function do_Kfold in module intro_Data:\n",
      "\n",
      "do_Kfold(model, X, y, k, scaler=None, random_state=146)\n",
      "\n"
     ]
    }
   ],
   "source": [
    "help(do_Kfold)"
   ]
  },
  {
   "cell_type": "code",
   "execution_count": 3,
   "metadata": {
    "tags": []
   },
   "outputs": [
    {
     "data": {
      "text/html": [
       "<div>\n",
       "<style scoped>\n",
       "    .dataframe tbody tr th:only-of-type {\n",
       "        vertical-align: middle;\n",
       "    }\n",
       "\n",
       "    .dataframe tbody tr th {\n",
       "        vertical-align: top;\n",
       "    }\n",
       "\n",
       "    .dataframe thead th {\n",
       "        text-align: right;\n",
       "    }\n",
       "</style>\n",
       "<table border=\"1\" class=\"dataframe\">\n",
       "  <thead>\n",
       "    <tr style=\"text-align: right;\">\n",
       "      <th></th>\n",
       "      <th>brand</th>\n",
       "      <th>style</th>\n",
       "      <th>menWomen</th>\n",
       "      <th>name</th>\n",
       "      <th>fabric</th>\n",
       "      <th>price</th>\n",
       "      <th>maxHeightFront</th>\n",
       "      <th>minHeightFront</th>\n",
       "      <th>rivetHeightFront</th>\n",
       "      <th>maxWidthFront</th>\n",
       "      <th>minWidthFront</th>\n",
       "      <th>maxHeightBack</th>\n",
       "      <th>minHeightBack</th>\n",
       "      <th>maxWidthBack</th>\n",
       "      <th>minWidthBack</th>\n",
       "      <th>cutout</th>\n",
       "    </tr>\n",
       "  </thead>\n",
       "  <tbody>\n",
       "    <tr>\n",
       "      <th>0</th>\n",
       "      <td>Arizona</td>\n",
       "      <td>skinny</td>\n",
       "      <td>women</td>\n",
       "      <td>Fave Super Skinny</td>\n",
       "      <td>78% cotton, 20% polyester, 2% spandex</td>\n",
       "      <td>42.0</td>\n",
       "      <td>14.5</td>\n",
       "      <td>15.0</td>\n",
       "      <td>6.5</td>\n",
       "      <td>16.5</td>\n",
       "      <td>13.0</td>\n",
       "      <td>15.0</td>\n",
       "      <td>12.2</td>\n",
       "      <td>13.7</td>\n",
       "      <td>12.0</td>\n",
       "      <td>False</td>\n",
       "    </tr>\n",
       "    <tr>\n",
       "      <th>1</th>\n",
       "      <td>Arizona</td>\n",
       "      <td>straight</td>\n",
       "      <td>women</td>\n",
       "      <td>Perfect Boot</td>\n",
       "      <td>78% cotton, 20% polyester, 2% spandex</td>\n",
       "      <td>42.0</td>\n",
       "      <td>14.5</td>\n",
       "      <td>14.0</td>\n",
       "      <td>6.5</td>\n",
       "      <td>16.0</td>\n",
       "      <td>12.5</td>\n",
       "      <td>15.5</td>\n",
       "      <td>12.2</td>\n",
       "      <td>13.0</td>\n",
       "      <td>11.2</td>\n",
       "      <td>False</td>\n",
       "    </tr>\n",
       "    <tr>\n",
       "      <th>2</th>\n",
       "      <td>Ralph Lauren</td>\n",
       "      <td>skinny</td>\n",
       "      <td>women</td>\n",
       "      <td>Modern Skinny Slimming Fit</td>\n",
       "      <td>92% cotton, 7% poly, 1% elastane</td>\n",
       "      <td>89.5</td>\n",
       "      <td>13.0</td>\n",
       "      <td>13.5</td>\n",
       "      <td>6.5</td>\n",
       "      <td>14.5</td>\n",
       "      <td>12.0</td>\n",
       "      <td>15.5</td>\n",
       "      <td>13.0</td>\n",
       "      <td>13.5</td>\n",
       "      <td>12.5</td>\n",
       "      <td>False</td>\n",
       "    </tr>\n",
       "    <tr>\n",
       "      <th>3</th>\n",
       "      <td>Ralph Lauren</td>\n",
       "      <td>straight</td>\n",
       "      <td>women</td>\n",
       "      <td>Premier Straight Slimming Fit</td>\n",
       "      <td>92% cotton, 7% poly, 1% elastane</td>\n",
       "      <td>89.5</td>\n",
       "      <td>13.0</td>\n",
       "      <td>13.5</td>\n",
       "      <td>6.5</td>\n",
       "      <td>14.5</td>\n",
       "      <td>12.0</td>\n",
       "      <td>14.5</td>\n",
       "      <td>13.0</td>\n",
       "      <td>13.0</td>\n",
       "      <td>12.2</td>\n",
       "      <td>False</td>\n",
       "    </tr>\n",
       "    <tr>\n",
       "      <th>4</th>\n",
       "      <td>Uniqlo</td>\n",
       "      <td>skinny</td>\n",
       "      <td>women</td>\n",
       "      <td>Skinny Fit</td>\n",
       "      <td>87% cotton, 9% polyester, 4% spandex</td>\n",
       "      <td>39.9</td>\n",
       "      <td>13.0</td>\n",
       "      <td>13.0</td>\n",
       "      <td>5.5</td>\n",
       "      <td>14.0</td>\n",
       "      <td>11.5</td>\n",
       "      <td>14.0</td>\n",
       "      <td>12.0</td>\n",
       "      <td>14.2</td>\n",
       "      <td>11.7</td>\n",
       "      <td>False</td>\n",
       "    </tr>\n",
       "  </tbody>\n",
       "</table>\n",
       "</div>"
      ],
      "text/plain": [
       "          brand     style menWomen                           name  \\\n",
       "0       Arizona    skinny    women              Fave Super Skinny   \n",
       "1       Arizona  straight    women                   Perfect Boot   \n",
       "2  Ralph Lauren    skinny    women     Modern Skinny Slimming Fit   \n",
       "3  Ralph Lauren  straight    women  Premier Straight Slimming Fit   \n",
       "4        Uniqlo    skinny    women                     Skinny Fit   \n",
       "\n",
       "                                  fabric  price  maxHeightFront  \\\n",
       "0  78% cotton, 20% polyester, 2% spandex   42.0            14.5   \n",
       "1  78% cotton, 20% polyester, 2% spandex   42.0            14.5   \n",
       "2       92% cotton, 7% poly, 1% elastane   89.5            13.0   \n",
       "3       92% cotton, 7% poly, 1% elastane   89.5            13.0   \n",
       "4   87% cotton, 9% polyester, 4% spandex   39.9            13.0   \n",
       "\n",
       "   minHeightFront  rivetHeightFront  maxWidthFront  minWidthFront  \\\n",
       "0            15.0               6.5           16.5           13.0   \n",
       "1            14.0               6.5           16.0           12.5   \n",
       "2            13.5               6.5           14.5           12.0   \n",
       "3            13.5               6.5           14.5           12.0   \n",
       "4            13.0               5.5           14.0           11.5   \n",
       "\n",
       "   maxHeightBack  minHeightBack  maxWidthBack  minWidthBack  cutout  \n",
       "0           15.0           12.2          13.7          12.0   False  \n",
       "1           15.5           12.2          13.0          11.2   False  \n",
       "2           15.5           13.0          13.5          12.5   False  \n",
       "3           14.5           13.0          13.0          12.2   False  \n",
       "4           14.0           12.0          14.2          11.7   False  "
      ]
     },
     "execution_count": 3,
     "metadata": {},
     "output_type": "execute_result"
    }
   ],
   "source": [
    "pockets = pd.read_csv('./data/pockets.csv')\n",
    "pockets.head()"
   ]
  },
  {
   "cell_type": "code",
   "execution_count": 4,
   "metadata": {
    "tags": []
   },
   "outputs": [],
   "source": [
    "# Use maxheightfront as the target and the other numeric variables as features\n",
    "\n",
    "metadata = pockets[['brand','style','menWomen', 'cutout']]\n",
    "X_df = pockets.drop(columns = list(metadata.columns)\n",
    "                          + ['name', 'fabric', 'maxHeightFront'])\n",
    "X = np.array(X_df.values)\n",
    "y = np.array(pockets['maxHeightFront'].values).reshape(-1,1)"
   ]
  },
  {
   "cell_type": "code",
   "execution_count": 8,
   "metadata": {
    "tags": []
   },
   "outputs": [
    {
     "data": {
      "text/plain": [
       "<Axes: >"
      ]
     },
     "execution_count": 8,
     "metadata": {},
     "output_type": "execute_result"
    },
    {
     "data": {
      "image/png": "[encoded data removed]",
      "text/plain": [
       "<Figure size 640x480 with 1 Axes>"
      ]
     },
     "metadata": {},
     "output_type": "display_data"
    }
   ],
   "source": [
    "#Does this data need to be scaled? Not for OLS, but will need later\n",
    "sns.stripplot(data = X_df, orient = 'h')"
   ]
  },
  {
   "cell_type": "code",
   "execution_count": null,
   "metadata": {
    "tags": []
   },
   "outputs": [],
   "source": [
    "help(do_Kfold)"
   ]
  },
  {
   "cell_type": "code",
   "execution_count": 9,
   "metadata": {
    "tags": []
   },
   "outputs": [],
   "source": [
    "# use do_Kfold function to get train/test scores\n",
    "# try without rescaling first\n",
    "lin_reg = LR()\n",
    "train_res, test_res = do_Kfold(lin_reg, X,y,10) "
   ]
  },
  {
   "cell_type": "code",
   "execution_count": 11,
   "metadata": {
    "tags": []
   },
   "outputs": [
    {
     "data": {
      "text/plain": [
       "(10,)"
      ]
     },
     "execution_count": 11,
     "metadata": {},
     "output_type": "execute_result"
    }
   ],
   "source": [
    "np.shape(test_res)"
   ]
  },
  {
   "cell_type": "code",
   "execution_count": 13,
   "metadata": {
    "tags": []
   },
   "outputs": [
    {
     "data": {
      "image/png": "[encoded data removed]",
      "text/plain": [
       "<Figure size 640x480 with 1 Axes>"
      ]
     },
     "metadata": {},
     "output_type": "display_data"
    }
   ],
   "source": [
    "# visualize train/test scores by stripplot\n",
    "\n",
    "import seaborn as sns\n",
    "df = pd.DataFrame(zip(train_res,test_res), columns = ['Train','Test'])\n",
    "sns.stripplot(data = df, size = 10, alpha = 0.8, palette = 'BuPu')\n",
    "plt.axhline(np.mean(test_res), c = 'slategrey', linestyle = '--')\n",
    "plt.show()"
   ]
  },
  {
   "cell_type": "code",
   "execution_count": 12,
   "metadata": {
    "tags": []
   },
   "outputs": [
    {
     "name": "stdout",
     "output_type": "stream",
     "text": [
      "0.6481278808366254 0.6380743980948804\n",
      "0.42150969601454563 0.618056921843455\n"
     ]
    }
   ],
   "source": [
    "print(np.mean(train_res), np.median(train_res))\n",
    "print(np.mean(test_res), np.median(test_res))"
   ]
  },
  {
   "cell_type": "markdown",
   "metadata": {
    "tags": []
   },
   "source": [
    "### 2.2 Ridge regression"
   ]
  },
  {
   "cell_type": "markdown",
   "metadata": {
    "tags": []
   },
   "source": [
    "So, we have a slightly overfit model.  As we've discussed, this can be caused by a model that is too complex (too many parameters), so one solution might be to reduce the complexity of the model.\n",
    "\n",
    "This brings us to **regularization techniques**.  The goal of regularization is to reduce the complexity of the model and possibly prevent (or reduce) overfitting.\n",
    "\n",
    "The first technique we will look at is called **Ridge regression**.  In addition to minimizing the sum of squared errors, Ridge regression also penalizes a model for having more parameters and/or larger parameters.  This is accomplished by modifying the cost function:\n",
    "\n",
    "$$\\sum_{i=1}^N (y_i - \\hat{y}_i)^2 + \\alpha \\sum_{i=1}^p \\beta_i^2 $$\n",
    "\n",
    "The new term in this equation, $\\alpha \\sum_{i=1}^p \\beta_i^2$, is called the **regularization** term.  In words, it just says to square all of the model coefficients, add them together, multiply that sum by some number ($\\alpha$) and then add that to the cost function.  The result of this is that the model will be simultaneously trying to minimize both the sum of the squared errors as well as the number/magnitude of the model's parameters.\n",
    "\n",
    "As a reminder, the equation for our model looks like:\n",
    "\n",
    "$$y = \\beta_0 + \\beta_1x_1 + \\beta_2x_2 + \\cdots + \\beta_p x_p$$\n",
    "\n",
    "and nothing about this has changed - we have only modified the cost function that is going to be minimized.\n",
    "\n",
    "This modification also adds an additional layer of complexity to the fitting and validation procedures.  The number $\\alpha$ is referred to as a **hyperparameter** - which is a number that is not determined during the fitting/training procedure.  Different values of $\\alpha$ will lead to different results, and we will have to find the optimal value ourselves.\n",
    "\n",
    "\n",
    "#### Test Your Understanding:\n",
    "\n",
    "1. What is the purpose of regularization?  What are we trying to accomplish with this particular data/model?\n",
    "2. What is a regularization term?\n",
    "3. What is a hyperparameter?\n",
    "4. How our results are going to be different after we apply regularization?\n",
    "5. How do you think we are going to go about finding the optimal value for the hyperparameter $\\alpha$?\n",
    "\n",
    "___\n",
    "\n",
    "#### Planning our approach\n",
    "\n",
    "Since there will be a few more steps involved here, it will be useful to think about what we need to do before we start writing code.  Carefully planning out your approach and listing out what will need to be done can save you a lot of time in the long run.\n",
    "\n",
    "Here's what we will need to do:\n",
    "\n",
    "1. Determine some range of values for $\\alpha$ to test the model\n",
    "2. For each value in that range...\n",
    "3. Do $K$-Fold validation\n",
    "4. Compare training and testing scores to determine where the model is the least overfit\n",
    "5. If the best performance occurs for the minimum or maximum alpha we looked at, adjust the range of values we are considering and repeat the process.\n",
    "\n",
    "It's also going to be important to standardize our features for these models, since the relative size of each of the variables will impact the coefficient estimates, which are now built into the cost function.  If we do not standardize our data, then some coefficients might end up being minimized simply due to the units they were measured in, rather than their actual predictive power in the model.  \n",
    "\n",
    "Since the testing data is data that is being used to simulate new data that we did not have when training the model, when standardizing, **we should compute the mean and standard deviation from only the training data**.  We will then apply the same transformation to the testing data - but we will not include the testing data when we compute the mean and standard deviation."
   ]
  },
  {
   "cell_type": "markdown",
   "metadata": {},
   "source": [
    "In order to determine what value of $\\alpha$ gives the best performance, we're just going to scan through a range of values.  There is usually going to be some trial and error involved in things like this, and there's no guarantee that we'll start anywhere close to the best answer!\n",
    "\n",
    "Let's pause to think about our next steps a little more:\n",
    "\n",
    "- For each value of $\\alpha$ we're going to do a $K$-fold validation\n",
    "- For each $K$-fold validation, we're going to get a list of training and testing scores\n",
    "- That could potentially be a lot of info to keep track of!\n",
    "- Instead of storing all the scores from each validation run, I'll keep track of the averages\n",
    "\n",
    "We'll make a plot to examine our results and use it to guide our next steps throughout this process.  We can plot the $\\alpha$ values on the x-axis, and the average training/testing scores on the y-axis."
   ]
  },
  {
   "cell_type": "code",
   "execution_count": 14,
   "metadata": {
    "tags": []
   },
   "outputs": [],
   "source": [
    "from sklearn.linear_model import Ridge\n",
    "from sklearn.preprocessing import StandardScaler as SS"
   ]
  },
  {
   "cell_type": "code",
   "execution_count": 17,
   "metadata": {
    "tags": []
   },
   "outputs": [],
   "source": [
    "# search the best alpha value\n",
    "\n",
    "a_range = np.linspace(10,20,100)\n",
    "k = 10\n",
    "ss = SS()\n",
    "\n",
    "avg_tr_score=[]\n",
    "avg_te_score=[]\n",
    "\n",
    "for a in a_range:\n",
    "    rid_reg = Ridge(alpha=a)\n",
    "    train_scores, test_scores = do_Kfold(rid_reg, X, y, k, ss)\n",
    "    \n",
    "    avg_tr_score.append(np.mean(train_scores))\n",
    "    avg_te_score.append(np.mean(test_scores))\n",
    "    #print(a, np.mean(test_scores))"
   ]
  },
  {
   "cell_type": "code",
   "execution_count": 18,
   "metadata": {
    "tags": []
   },
   "outputs": [
    {
     "data": {
      "image/png": "[encoded data removed]",
      "text/plain": [
       "<Figure size 800x800 with 1 Axes>"
      ]
     },
     "metadata": {},
     "output_type": "display_data"
    }
   ],
   "source": [
    "# plot the score-alpha curve\n",
    "\n",
    "plt.figure(figsize=(8,8))\n",
    "#plt.plot(a_range, avg_tr_score, color='k', label='Training')\n",
    "plt.plot(a_range, avg_te_score, color='r', label='Testing')\n",
    "plt.xlabel('$\\\\alpha$', fontsize=14)\n",
    "plt.ylabel('Avg. $R^2$', fontsize=14)\n",
    "#plt.legend()\n",
    "plt.show()"
   ]
  },
  {
   "cell_type": "code",
   "execution_count": 19,
   "metadata": {
    "tags": []
   },
   "outputs": [
    {
     "name": "stdout",
     "output_type": "stream",
     "text": [
      "Optimal alpha in the range tested:  12.02020202020202\n",
      "Avg. training score at this value:  0.6344576593800286\n",
      "Avg. testing score at this value:  0.44258643208744763\n"
     ]
    }
   ],
   "source": [
    "# Get the optimal hyperparameter alpha and its corresponding scores\n",
    "\n",
    "idx_max = np.argmax(avg_te_score)\n",
    "\n",
    "print('Optimal alpha in the range tested: ', a_range[idx_max])\n",
    "print('Avg. training score at this value: ', avg_tr_score[idx_max])\n",
    "print('Avg. testing score at this value: ', avg_te_score[idx_max])"
   ]
  },
  {
   "cell_type": "markdown",
   "metadata": {},
   "source": [
    "After a bit of searching, we've managed to increase the model performance a bit.  The training score is still similar to the OLS solution, but we've managed to increase the testing score a bit.  It's a small improvement, but an improvement nonetheless!\n",
    "\n",
    "To reinforce what exactly is going on here, let's take a look at the <b>model coefficients</b> compared to the OLS solution.  I'll make a plot showing how the coefficients are changing as we adjust $\\alpha$.  We will fit both types of models to the full data set - this is what you would do in practice after KFold validation...though we did make one mistake - we should have set aside some data to test that model on!"
   ]
  },
  {
   "cell_type": "code",
   "execution_count": 25,
   "metadata": {
    "tags": []
   },
   "outputs": [
    {
     "data": {
      "text/plain": [
       "array([-0.35161376,  1.92356316,  1.4028077 , -0.36014987,  1.37946072,\n",
       "        1.66568514,  0.17595748, -0.36056614, -1.21507708])"
      ]
     },
     "execution_count": 25,
     "metadata": {},
     "output_type": "execute_result"
    }
   ],
   "source": [
    "# fit an OLS model and get coefficients\n",
    "\n",
    "Xs = ss.fit_transform(X)\n",
    "lin_reg.fit(Xs,y)\n",
    "lin_coefs = lin_reg.coef_[0]\n",
    "\n",
    "lin_coefs"
   ]
  },
  {
   "cell_type": "code",
   "execution_count": 27,
   "metadata": {
    "tags": []
   },
   "outputs": [
    {
     "data": {
      "text/plain": [
       "array([-0.27768022,  1.72217699,  1.14585851, -0.05468923,  1.04316768,\n",
       "        1.15328581,  0.49688341, -0.36724293, -0.75164045])"
      ]
     },
     "execution_count": 27,
     "metadata": {},
     "output_type": "execute_result"
    }
   ],
   "source": [
    "# fit a Ridge model and get coefficients\n",
    "\n",
    "rid_reg = Ridge(alpha = a_range[idx_max])\n",
    "rid_reg.fit(Xs, y)\n",
    "rid_coefs = rid_reg.coef_[0]\n",
    "\n",
    "rid_coefs"
   ]
  },
  {
   "cell_type": "code",
   "execution_count": 28,
   "metadata": {
    "tags": []
   },
   "outputs": [
    {
     "data": {
      "text/html": [
       "<div>\n",
       "<style scoped>\n",
       "    .dataframe tbody tr th:only-of-type {\n",
       "        vertical-align: middle;\n",
       "    }\n",
       "\n",
       "    .dataframe tbody tr th {\n",
       "        vertical-align: top;\n",
       "    }\n",
       "\n",
       "    .dataframe thead th {\n",
       "        text-align: right;\n",
       "    }\n",
       "</style>\n",
       "<table border=\"1\" class=\"dataframe\">\n",
       "  <thead>\n",
       "    <tr style=\"text-align: right;\">\n",
       "      <th></th>\n",
       "      <th>OLS</th>\n",
       "      <th>Ridge</th>\n",
       "    </tr>\n",
       "  </thead>\n",
       "  <tbody>\n",
       "    <tr>\n",
       "      <th>price</th>\n",
       "      <td>-0.351614</td>\n",
       "      <td>-0.277680</td>\n",
       "    </tr>\n",
       "    <tr>\n",
       "      <th>minHeightFront</th>\n",
       "      <td>1.923563</td>\n",
       "      <td>1.722177</td>\n",
       "    </tr>\n",
       "    <tr>\n",
       "      <th>rivetHeightFront</th>\n",
       "      <td>1.402808</td>\n",
       "      <td>1.145859</td>\n",
       "    </tr>\n",
       "    <tr>\n",
       "      <th>maxWidthFront</th>\n",
       "      <td>-0.360150</td>\n",
       "      <td>-0.054689</td>\n",
       "    </tr>\n",
       "    <tr>\n",
       "      <th>minWidthFront</th>\n",
       "      <td>1.379461</td>\n",
       "      <td>1.043168</td>\n",
       "    </tr>\n",
       "    <tr>\n",
       "      <th>maxHeightBack</th>\n",
       "      <td>1.665685</td>\n",
       "      <td>1.153286</td>\n",
       "    </tr>\n",
       "    <tr>\n",
       "      <th>minHeightBack</th>\n",
       "      <td>0.175957</td>\n",
       "      <td>0.496883</td>\n",
       "    </tr>\n",
       "    <tr>\n",
       "      <th>maxWidthBack</th>\n",
       "      <td>-0.360566</td>\n",
       "      <td>-0.367243</td>\n",
       "    </tr>\n",
       "    <tr>\n",
       "      <th>minWidthBack</th>\n",
       "      <td>-1.215077</td>\n",
       "      <td>-0.751640</td>\n",
       "    </tr>\n",
       "  </tbody>\n",
       "</table>\n",
       "</div>"
      ],
      "text/plain": [
       "                       OLS     Ridge\n",
       "price            -0.351614 -0.277680\n",
       "minHeightFront    1.923563  1.722177\n",
       "rivetHeightFront  1.402808  1.145859\n",
       "maxWidthFront    -0.360150 -0.054689\n",
       "minWidthFront     1.379461  1.043168\n",
       "maxHeightBack     1.665685  1.153286\n",
       "minHeightBack     0.175957  0.496883\n",
       "maxWidthBack     -0.360566 -0.367243\n",
       "minWidthBack     -1.215077 -0.751640"
      ]
     },
     "execution_count": 28,
     "metadata": {},
     "output_type": "execute_result"
    }
   ],
   "source": [
    "# get the side-by-side comparison of coefficients\n",
    "\n",
    "compare = pd.DataFrame(data=zip(lin_coefs,rid_coefs),index=X_df.columns,\n",
    "                      columns = ['OLS','Ridge'])\n",
    "compare"
   ]
  },
  {
   "cell_type": "code",
   "execution_count": 29,
   "metadata": {
    "tags": []
   },
   "outputs": [],
   "source": [
    "# get coefficients for a range of alpha values\n",
    "\n",
    "a_range = np.linspace(0,1000,100)\n",
    "rid_coefs = []\n",
    "for a in a_range:\n",
    "    rid_reg = Ridge(alpha=a)\n",
    "    rid_reg.fit(Xs,y)\n",
    "    rid_coefs.append(rid_reg.coef_[0])"
   ]
  },
  {
   "cell_type": "code",
   "execution_count": 34,
   "metadata": {
    "tags": []
   },
   "outputs": [
    {
     "data": {
      "image/png": "[encoded data removed]",
      "text/plain": [
       "<Figure size 1200x600 with 1 Axes>"
      ]
     },
     "metadata": {},
     "output_type": "display_data"
    }
   ],
   "source": [
    "# visualize coefficients-alpha relation (one line for each coefficient beta_i)\n",
    "\n",
    "plt.figure(figsize=(12,6))\n",
    "plt.plot(a_range, rid_coefs, linewidth = 2)\n",
    "plt.axhline(0, linewidth = 4, c = 'black', linestyle = '--', alpha = 0.5)\n",
    "plt.scatter([0]*len(lin_coefs), lin_coefs)\n",
    "plt.xlabel('$\\\\alpha$', fontsize=14)\n",
    "plt.ylabel('Coefficients', fontsize=14)\n",
    "plt.legend(X_df.columns, bbox_to_anchor=[1,0.5], loc='center left')\n",
    "plt.show()"
   ]
  },
  {
   "cell_type": "markdown",
   "metadata": {
    "tags": []
   },
   "source": [
    "### 2.3 Lasso regression"
   ]
  },
  {
   "cell_type": "markdown",
   "metadata": {},
   "source": [
    "Lasso regression is very similar to Ridge regression, although the results can be quite a bit different!  The only difference between the two methods is the regularization term.  For Lasso, the cost function is:\n",
    "\n",
    "$$\\sum_{i=1}^N (y_i - \\hat{y}_i)^2 + \\alpha \\sum_{i=1}^p |\\beta_i| $$\n",
    "\n",
    "That is, instead of squaring the coefficients, we are taking their absolute value.  Although this might not seem like a big difference, it has a very interesting consequence:\n",
    " - Lasso can set some of the model coefficients to zero, effectively removing variables from your model.\n",
    " \n",
    "The implementation, however, is identical:"
   ]
  },
  {
   "cell_type": "code",
   "execution_count": null,
   "metadata": {
    "tags": []
   },
   "outputs": [],
   "source": [
    "from sklearn.linear_model import Lasso"
   ]
  },
  {
   "cell_type": "code",
   "execution_count": null,
   "metadata": {
    "tags": []
   },
   "outputs": [],
   "source": [
    "# optimal alpha value search\n",
    "\n",
    "a_range = np.linspace(1e-5,0.2,100)\n",
    "k = 10\n",
    "ss = SS()\n",
    "\n",
    "avg_tr_score=[]\n",
    "avg_te_score=[]\n",
    "\n",
    "for a in a_range:\n",
    "    las_reg = Lasso(alpha=a)\n",
    "    train_scores, test_scores = do_Kfold(las_reg, X, y, k, ss)\n",
    "    \n",
    "    avg_tr_score.append(np.mean(train_scores))\n",
    "    avg_te_score.append(np.mean(test_scores))"
   ]
  },
  {
   "cell_type": "code",
   "execution_count": null,
   "metadata": {
    "tags": []
   },
   "outputs": [],
   "source": [
    "# plot score-alpha value curve\n",
    "\n",
    "plt.figure(figsize=(8,8))\n",
    "#plt.plot(a_range, avg_tr_score, color='k', label='Training')\n",
    "plt.plot(a_range, avg_te_score, color='r', label='Testing')\n",
    "plt.xlabel('$\\\\alpha$', fontsize=14)\n",
    "plt.ylabel('Avg. $R^2$', fontsize=14)\n",
    "plt.legend()\n",
    "plt.show()"
   ]
  },
  {
   "cell_type": "code",
   "execution_count": null,
   "metadata": {
    "tags": []
   },
   "outputs": [],
   "source": [
    "# find the optimal alpha and its corresponding scores\n",
    "\n",
    "idx_max = np.argmax(avg_te_score)\n",
    "\n",
    "print('Optimal alpha in the range tested: ', a_range[idx_max])\n",
    "print('Avg. training score at this value: ', avg_tr_score[idx_max])\n",
    "print('Avg. testing score at this value: ', avg_te_score[idx_max])"
   ]
  },
  {
   "cell_type": "code",
   "execution_count": null,
   "metadata": {
    "tags": []
   },
   "outputs": [],
   "source": [
    "# find the coefficients of the Lasso model with the optimal alpha\n",
    "\n",
    "las_reg = Lasso(alpha = a_range[idx_max])\n",
    "las_reg.fit(Xs, y)\n",
    "las_coefs =las_reg.coef_\n",
    "las_coefs"
   ]
  },
  {
   "cell_type": "code",
   "execution_count": null,
   "metadata": {
    "tags": []
   },
   "outputs": [],
   "source": [
    "# add las_coefs as an additional column to compare\n",
    "\n",
    "compare['Lasso'] = las_coefs\n",
    "compare"
   ]
  },
  {
   "cell_type": "code",
   "execution_count": null,
   "metadata": {
    "tags": []
   },
   "outputs": [],
   "source": [
    "# Get coefficents of Lasso models for a range of alpha values\n",
    "\n",
    "a_range = np.linspace(1e-6,10,100)\n",
    "las_coefs = []\n",
    "for a in a_range:\n",
    "    las_reg = Lasso(alpha=a)\n",
    "    las_reg.fit(Xs,y)\n",
    "    las_coefs.append(las_reg.coef_)"
   ]
  },
  {
   "cell_type": "code",
   "execution_count": null,
   "metadata": {
    "tags": []
   },
   "outputs": [],
   "source": [
    "# visualize the coefficients-alpha relation\n",
    "\n",
    "plt.figure(figsize=(12,6))\n",
    "plt.plot(a_range, las_coefs)\n",
    "plt.scatter([0]*len(lin_coefs), lin_coefs)\n",
    "plt.xlabel('$\\\\alpha$', fontsize=14)\n",
    "plt.ylabel('Coefficients', fontsize=14)\n",
    "plt.legend(X_df.columns, bbox_to_anchor=[1,0.5], loc='center left')\n",
    "plt.show()"
   ]
  },
  {
   "cell_type": "code",
   "execution_count": null,
   "metadata": {
    "tags": []
   },
   "outputs": [],
   "source": [
    "# what's the relation between coefficients and correlation?\n",
    "\n",
    "X_numeric = X_df.copy()\n",
    "X_numeric['target'] = y\n",
    "\n",
    "X_numeric.corr()"
   ]
  },
  {
   "cell_type": "code",
   "execution_count": null,
   "metadata": {},
   "outputs": [],
   "source": []
  }
 ],
 "metadata": {
  "kernelspec": {
   "display_name": "Python 3 (ipykernel)",
   "language": "python",
   "name": "python3"
  },
  "language_info": {
   "codemirror_mode": {
    "name": "ipython",
    "version": 3
   },
   "file_extension": ".py",
   "mimetype": "text/x-python",
   "name": "python",
   "nbconvert_exporter": "python",
   "pygments_lexer": "ipython3",
   "version": "3.10.10"
  }
 },
 "nbformat": 4,
 "nbformat_minor": 4
}
