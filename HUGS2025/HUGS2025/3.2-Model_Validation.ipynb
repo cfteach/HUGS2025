{
 "cells": [
  {
   "cell_type": "markdown",
   "metadata": {
    "tags": []
   },
   "source": [
    "## Model Validation"
   ]
  },
  {
   "cell_type": "markdown",
   "metadata": {
    "tags": []
   },
   "source": [
    "### 1. Validation and overfitting"
   ]
  },
  {
   "cell_type": "markdown",
   "metadata": {
    "tags": []
   },
   "source": [
    "#### 1.1 Generate fake data points and split them into train/validation\n",
    "How do we know a model we created would be any good if we applied it to data other than the data that the model was trained on?  \n",
    "\n",
    "We are going to create some fake data, and use 80% of the data to build a model, and the other 20% to validate it."
   ]
  },
  {
   "cell_type": "code",
   "execution_count": 1,
   "metadata": {
    "tags": []
   },
   "outputs": [
    {
     "data": {
      "image/png": "[encoded data removed]",
      "text/plain": [
       "<Figure size 640x480 with 1 Axes>"
      ]
     },
     "metadata": {},
     "output_type": "display_data"
    }
   ],
   "source": [
    "#Generate 10 fake data points \n",
    "\n",
    "import numpy as np\n",
    "import pandas as pd\n",
    "import matplotlib.pyplot as plt\n",
    "\n",
    "n_total = 10 #number of data points\n",
    "n_for_valid = 2 #number of data points we will use from here as a validation set\n",
    "\n",
    "#range of the x values\n",
    "x_min = -10\n",
    "x_max = 10\n",
    "#generate 10 evenly distributed x values\n",
    "x = np.linspace(-10,10,n_total)\n",
    "\n",
    "np.random.seed(146)\n",
    "#generate 10 y values using normal distribution\n",
    "y = np.random.normal(size=n_total)\n",
    "\n",
    "#make a scatterplot\n",
    "plt.scatter(x,y)\n",
    "plt.show()"
   ]
  },
  {
   "cell_type": "code",
   "execution_count": 2,
   "metadata": {
    "tags": []
   },
   "outputs": [
    {
     "data": {
      "text/html": [
       "<div>\n",
       "<style scoped>\n",
       "    .dataframe tbody tr th:only-of-type {\n",
       "        vertical-align: middle;\n",
       "    }\n",
       "\n",
       "    .dataframe tbody tr th {\n",
       "        vertical-align: top;\n",
       "    }\n",
       "\n",
       "    .dataframe thead th {\n",
       "        text-align: right;\n",
       "    }\n",
       "</style>\n",
       "<table border=\"1\" class=\"dataframe\">\n",
       "  <thead>\n",
       "    <tr style=\"text-align: right;\">\n",
       "      <th></th>\n",
       "      <th>x</th>\n",
       "      <th>y</th>\n",
       "    </tr>\n",
       "  </thead>\n",
       "  <tbody>\n",
       "    <tr>\n",
       "      <th>0</th>\n",
       "      <td>-10.000000</td>\n",
       "      <td>2.396479</td>\n",
       "    </tr>\n",
       "    <tr>\n",
       "      <th>1</th>\n",
       "      <td>-7.777778</td>\n",
       "      <td>-0.038103</td>\n",
       "    </tr>\n",
       "    <tr>\n",
       "      <th>2</th>\n",
       "      <td>-5.555556</td>\n",
       "      <td>-1.053523</td>\n",
       "    </tr>\n",
       "    <tr>\n",
       "      <th>3</th>\n",
       "      <td>-3.333333</td>\n",
       "      <td>-0.881304</td>\n",
       "    </tr>\n",
       "    <tr>\n",
       "      <th>4</th>\n",
       "      <td>-1.111111</td>\n",
       "      <td>0.688067</td>\n",
       "    </tr>\n",
       "    <tr>\n",
       "      <th>5</th>\n",
       "      <td>1.111111</td>\n",
       "      <td>-0.284121</td>\n",
       "    </tr>\n",
       "    <tr>\n",
       "      <th>6</th>\n",
       "      <td>3.333333</td>\n",
       "      <td>-1.524334</td>\n",
       "    </tr>\n",
       "    <tr>\n",
       "      <th>7</th>\n",
       "      <td>5.555556</td>\n",
       "      <td>0.696851</td>\n",
       "    </tr>\n",
       "    <tr>\n",
       "      <th>8</th>\n",
       "      <td>7.777778</td>\n",
       "      <td>-0.031495</td>\n",
       "    </tr>\n",
       "    <tr>\n",
       "      <th>9</th>\n",
       "      <td>10.000000</td>\n",
       "      <td>0.207307</td>\n",
       "    </tr>\n",
       "  </tbody>\n",
       "</table>\n",
       "</div>"
      ],
      "text/plain": [
       "           x         y\n",
       "0 -10.000000  2.396479\n",
       "1  -7.777778 -0.038103\n",
       "2  -5.555556 -1.053523\n",
       "3  -3.333333 -0.881304\n",
       "4  -1.111111  0.688067\n",
       "5   1.111111 -0.284121\n",
       "6   3.333333 -1.524334\n",
       "7   5.555556  0.696851\n",
       "8   7.777778 -0.031495\n",
       "9  10.000000  0.207307"
      ]
     },
     "execution_count": 2,
     "metadata": {},
     "output_type": "execute_result"
    }
   ],
   "source": [
    "#Build a dataframe using x and y\n",
    "\n",
    "data = pd.DataFrame(columns=['x','y'])\n",
    "data['x'] = x\n",
    "data['y'] = y\n",
    "\n",
    "data"
   ]
  },
  {
   "cell_type": "code",
   "execution_count": 3,
   "metadata": {
    "tags": []
   },
   "outputs": [
    {
     "data": {
      "text/plain": [
       "array([1, 6])"
      ]
     },
     "execution_count": 3,
     "metadata": {},
     "output_type": "execute_result"
    }
   ],
   "source": [
    "#Generate indices for validation data\n",
    "#np.random.seed(48)\n",
    "idx_valid = np.random.choice(n_total, n_for_valid, replace=False)\n",
    "idx_valid"
   ]
  },
  {
   "cell_type": "code",
   "execution_count": 4,
   "metadata": {
    "tags": []
   },
   "outputs": [
    {
     "data": {
      "text/html": [
       "<div>\n",
       "<style scoped>\n",
       "    .dataframe tbody tr th:only-of-type {\n",
       "        vertical-align: middle;\n",
       "    }\n",
       "\n",
       "    .dataframe tbody tr th {\n",
       "        vertical-align: top;\n",
       "    }\n",
       "\n",
       "    .dataframe thead th {\n",
       "        text-align: right;\n",
       "    }\n",
       "</style>\n",
       "<table border=\"1\" class=\"dataframe\">\n",
       "  <thead>\n",
       "    <tr style=\"text-align: right;\">\n",
       "      <th></th>\n",
       "      <th>x</th>\n",
       "      <th>y</th>\n",
       "    </tr>\n",
       "  </thead>\n",
       "  <tbody>\n",
       "    <tr>\n",
       "      <th>1</th>\n",
       "      <td>-7.777778</td>\n",
       "      <td>-0.038103</td>\n",
       "    </tr>\n",
       "    <tr>\n",
       "      <th>6</th>\n",
       "      <td>3.333333</td>\n",
       "      <td>-1.524334</td>\n",
       "    </tr>\n",
       "  </tbody>\n",
       "</table>\n",
       "</div>"
      ],
      "text/plain": [
       "          x         y\n",
       "1 -7.777778 -0.038103\n",
       "6  3.333333 -1.524334"
      ]
     },
     "execution_count": 4,
     "metadata": {},
     "output_type": "execute_result"
    }
   ],
   "source": [
    "#Get validation data\n",
    "\n",
    "data_valid = data.iloc[idx_valid]\n",
    "data_valid"
   ]
  },
  {
   "cell_type": "code",
   "execution_count": 5,
   "metadata": {
    "tags": []
   },
   "outputs": [
    {
     "data": {
      "text/html": [
       "<div>\n",
       "<style scoped>\n",
       "    .dataframe tbody tr th:only-of-type {\n",
       "        vertical-align: middle;\n",
       "    }\n",
       "\n",
       "    .dataframe tbody tr th {\n",
       "        vertical-align: top;\n",
       "    }\n",
       "\n",
       "    .dataframe thead th {\n",
       "        text-align: right;\n",
       "    }\n",
       "</style>\n",
       "<table border=\"1\" class=\"dataframe\">\n",
       "  <thead>\n",
       "    <tr style=\"text-align: right;\">\n",
       "      <th></th>\n",
       "      <th>x</th>\n",
       "      <th>y</th>\n",
       "    </tr>\n",
       "  </thead>\n",
       "  <tbody>\n",
       "    <tr>\n",
       "      <th>0</th>\n",
       "      <td>-10.000000</td>\n",
       "      <td>2.396479</td>\n",
       "    </tr>\n",
       "    <tr>\n",
       "      <th>2</th>\n",
       "      <td>-5.555556</td>\n",
       "      <td>-1.053523</td>\n",
       "    </tr>\n",
       "    <tr>\n",
       "      <th>3</th>\n",
       "      <td>-3.333333</td>\n",
       "      <td>-0.881304</td>\n",
       "    </tr>\n",
       "    <tr>\n",
       "      <th>4</th>\n",
       "      <td>-1.111111</td>\n",
       "      <td>0.688067</td>\n",
       "    </tr>\n",
       "    <tr>\n",
       "      <th>5</th>\n",
       "      <td>1.111111</td>\n",
       "      <td>-0.284121</td>\n",
       "    </tr>\n",
       "    <tr>\n",
       "      <th>7</th>\n",
       "      <td>5.555556</td>\n",
       "      <td>0.696851</td>\n",
       "    </tr>\n",
       "    <tr>\n",
       "      <th>8</th>\n",
       "      <td>7.777778</td>\n",
       "      <td>-0.031495</td>\n",
       "    </tr>\n",
       "    <tr>\n",
       "      <th>9</th>\n",
       "      <td>10.000000</td>\n",
       "      <td>0.207307</td>\n",
       "    </tr>\n",
       "  </tbody>\n",
       "</table>\n",
       "</div>"
      ],
      "text/plain": [
       "           x         y\n",
       "0 -10.000000  2.396479\n",
       "2  -5.555556 -1.053523\n",
       "3  -3.333333 -0.881304\n",
       "4  -1.111111  0.688067\n",
       "5   1.111111 -0.284121\n",
       "7   5.555556  0.696851\n",
       "8   7.777778 -0.031495\n",
       "9  10.000000  0.207307"
      ]
     },
     "execution_count": 5,
     "metadata": {},
     "output_type": "execute_result"
    }
   ],
   "source": [
    "#Get train data\n",
    "\n",
    "data = data.drop(index=idx_valid)\n",
    "data"
   ]
  },
  {
   "cell_type": "markdown",
   "metadata": {
    "tags": []
   },
   "source": [
    "#### 1.2 Fit $y$ and $x$ with a polinomial model\n",
    "Next, we use a polinomial relationship to model $y$ and $x$ as follows (called polinomial kernel). Note that it is still a linear regression because its linear w.r.t. the parameters $\\beta_0$ to $\\beta_p$! \n",
    "\n",
    "$$y = \\beta_0 + \\beta_1 x + \\beta_2 x^2 + \\beta_3 x^3 + \\cdots + \\beta_p x^p$$\n",
    "\n",
    "So, even though there's a single variable, we're essentially creating more variables by considering higher powers of $x$."
   ]
  },
  {
   "cell_type": "code",
   "execution_count": 6,
   "metadata": {
    "tags": []
   },
   "outputs": [
    {
     "data": {
      "text/plain": [
       "(8, 8)"
      ]
     },
     "execution_count": 6,
     "metadata": {},
     "output_type": "execute_result"
    }
   ],
   "source": [
    "#Transform x into polinomial features\n",
    "\n",
    "from sklearn.preprocessing import PolynomialFeatures as PF\n",
    "p = PF(degree=7)\n",
    "\n",
    "X_poly = p.fit_transform(data['x'].values.reshape(-1,1))\n",
    "X_poly\n",
    "\n",
    "np.shape(X_poly)"
   ]
  },
  {
   "cell_type": "code",
   "execution_count": 14,
   "metadata": {
    "tags": []
   },
   "outputs": [],
   "source": [
    "#X_poly"
   ]
  },
  {
   "cell_type": "code",
   "execution_count": 7,
   "metadata": {
    "tags": []
   },
   "outputs": [
    {
     "name": "stdout",
     "output_type": "stream",
     "text": [
      "1.0\n",
      "[ 0.00000000e+00 -5.14711391e-01 -1.87481603e-01  6.46847341e-02\n",
      "  6.99711763e-03 -1.73998563e-03 -5.03439849e-05  1.13366357e-05]\n",
      "0.42286164098726636\n"
     ]
    }
   ],
   "source": [
    "#Perform linear regression\n",
    "\n",
    "from sklearn.linear_model import LinearRegression as LR\n",
    "lin_reg = LR()\n",
    "lin_reg.fit(X_poly, data['y'])\n",
    "print(lin_reg.score(X_poly, data['y']))\n",
    "print(lin_reg.coef_)\n",
    "print(lin_reg.intercept_)"
   ]
  },
  {
   "cell_type": "code",
   "execution_count": 8,
   "metadata": {
    "tags": []
   },
   "outputs": [
    {
     "data": {
      "image/png": "[encoded data removed]",
      "text/plain": [
       "<Figure size 640x480 with 1 Axes>"
      ]
     },
     "metadata": {},
     "output_type": "display_data"
    }
   ],
   "source": [
    "# Visualize overfitting\n",
    "\n",
    "# The range of x values I want to plot\n",
    "x_range = np.linspace(x_min*1.1, x_max*1.1, 1000)\n",
    "# Compute the powers of x, to plug into the model\n",
    "x_range_poly = p.fit_transform(x_range.reshape(-1,1))\n",
    "# Compute the y values, for the x values above\n",
    "y_pred = lin_reg.predict(x_range_poly)\n",
    "\n",
    "#three plots: 1) Train data, 2) Validation data, 3) the model\n",
    "plt.scatter(data['x'], data['y'], label='Training Data', color='k')\n",
    "plt.scatter(data_valid['x'], data_valid['y'], label='Validation Data', color='blue')\n",
    "plt.plot(x_range, y_pred, color='r', label='Model')\n",
    "plt.legend(bbox_to_anchor=[1,0.5], loc='center left')\n",
    "plt.ylim([-10,10])\n",
    "plt.show()"
   ]
  },
  {
   "cell_type": "markdown",
   "metadata": {
    "tags": []
   },
   "source": [
    "#### 1.3 Validation"
   ]
  },
  {
   "cell_type": "code",
   "execution_count": 9,
   "metadata": {
    "tags": []
   },
   "outputs": [
    {
     "data": {
      "text/plain": [
       "array([ 7.11617033, -0.84966531])"
      ]
     },
     "execution_count": 9,
     "metadata": {},
     "output_type": "execute_result"
    }
   ],
   "source": [
    "#Check predicted y values in validation set\n",
    "\n",
    "X_valid_poly = p.fit_transform(data_valid['x'].values.reshape(-1,1))\n",
    "y_valid_pred = lin_reg.predict(X_valid_poly)\n",
    "y_valid_pred"
   ]
  },
  {
   "cell_type": "markdown",
   "metadata": {},
   "source": [
    "The <b>validation</b> step!"
   ]
  },
  {
   "cell_type": "code",
   "execution_count": 10,
   "metadata": {
    "tags": []
   },
   "outputs": [
    {
     "data": {
      "text/plain": [
       "-45.75560981156517"
      ]
     },
     "execution_count": 10,
     "metadata": {},
     "output_type": "execute_result"
    }
   ],
   "source": [
    "lin_reg.score(X_valid_poly, data_valid['y'])"
   ]
  },
  {
   "cell_type": "markdown",
   "metadata": {},
   "source": [
    "Is that even possible???"
   ]
  },
  {
   "cell_type": "markdown",
   "metadata": {},
   "source": [
    "So - we have an extremely negative $R^2$ score on the test data, even though we had a perfect score on the training data.\n",
    "\n",
    "This is an example of a model that is _extremely_ **overfit**. (By the way - there is actually no pattern to be found in this data.  The $y$ values have nothing to do with the $x$ values).\n",
    "\n",
    "An overfit model is typically characterized by performing extremely well on the data used to train it, while performing poorly on new data.  That is to say, the model has basically memorized the information it was given, but hasn't really discovered the underlying \"pattern\", so it's unable to generalize its knoweledge to new situations.\n",
    "\n",
    "An overfit student would be one who memorizes all the material in a class, can repeat it verbatim and gets straight A's, but is unable to adapt their knowledge to new situations in life.\n",
    "\n",
    "In more technical terms, we speak about the internal validity and external validity of a model:\n",
    "- **Internal validity** refers to how accurate a model's predictions are on the data it was trained on\n",
    "- **External validity** refers to accurate a model's predictions are on data it was not trained on, i.e., how well it generalizes to new data.\n",
    "- An **overfit** model will tend to have a much lower external vs internal validity.\n",
    "- An **underfit** model will tend to have both types of validity being rather low.\n",
    "\n",
    "Since new data is, by definition, data we do not have yet, the best we can do is to pretend that some of our data is not available yet, and then go through a process like we did above.  The goal is to develop an expectation for how well our model _might_ generalize to new data.  This will help you from deploying some code or spending a whole lot of time on a model that was doomed to fail from the get-go!"
   ]
  },
  {
   "cell_type": "markdown",
   "metadata": {
    "tags": []
   },
   "source": [
    "### 2. The effect of different train/validation splits"
   ]
  },
  {
   "cell_type": "code",
   "execution_count": 17,
   "metadata": {
    "tags": []
   },
   "outputs": [
    {
     "data": {
      "text/html": [
       "<div>\n",
       "<style scoped>\n",
       "    .dataframe tbody tr th:only-of-type {\n",
       "        vertical-align: middle;\n",
       "    }\n",
       "\n",
       "    .dataframe tbody tr th {\n",
       "        vertical-align: top;\n",
       "    }\n",
       "\n",
       "    .dataframe thead th {\n",
       "        text-align: right;\n",
       "    }\n",
       "</style>\n",
       "<table border=\"1\" class=\"dataframe\">\n",
       "  <thead>\n",
       "    <tr style=\"text-align: right;\">\n",
       "      <th></th>\n",
       "      <th>Cement (component 1)(kg in a m^3 mixture)</th>\n",
       "      <th>Blast Furnace Slag (component 2)(kg in a m^3 mixture)</th>\n",
       "      <th>Fly Ash (component 3)(kg in a m^3 mixture)</th>\n",
       "      <th>Water  (component 4)(kg in a m^3 mixture)</th>\n",
       "      <th>Superplasticizer (component 5)(kg in a m^3 mixture)</th>\n",
       "      <th>Coarse Aggregate  (component 6)(kg in a m^3 mixture)</th>\n",
       "      <th>Fine Aggregate (component 7)(kg in a m^3 mixture)</th>\n",
       "      <th>Age (day)</th>\n",
       "      <th>Concrete compressive strength(MPa, megapascals)</th>\n",
       "    </tr>\n",
       "  </thead>\n",
       "  <tbody>\n",
       "    <tr>\n",
       "      <th>1025</th>\n",
       "      <td>276.4</td>\n",
       "      <td>116.0</td>\n",
       "      <td>90.3</td>\n",
       "      <td>179.6</td>\n",
       "      <td>8.9</td>\n",
       "      <td>870.1</td>\n",
       "      <td>768.3</td>\n",
       "      <td>28</td>\n",
       "      <td>44.284354</td>\n",
       "    </tr>\n",
       "    <tr>\n",
       "      <th>1026</th>\n",
       "      <td>322.2</td>\n",
       "      <td>0.0</td>\n",
       "      <td>115.6</td>\n",
       "      <td>196.0</td>\n",
       "      <td>10.4</td>\n",
       "      <td>817.9</td>\n",
       "      <td>813.4</td>\n",
       "      <td>28</td>\n",
       "      <td>31.178794</td>\n",
       "    </tr>\n",
       "    <tr>\n",
       "      <th>1027</th>\n",
       "      <td>148.5</td>\n",
       "      <td>139.4</td>\n",
       "      <td>108.6</td>\n",
       "      <td>192.7</td>\n",
       "      <td>6.1</td>\n",
       "      <td>892.4</td>\n",
       "      <td>780.0</td>\n",
       "      <td>28</td>\n",
       "      <td>23.696601</td>\n",
       "    </tr>\n",
       "    <tr>\n",
       "      <th>1028</th>\n",
       "      <td>159.1</td>\n",
       "      <td>186.7</td>\n",
       "      <td>0.0</td>\n",
       "      <td>175.6</td>\n",
       "      <td>11.3</td>\n",
       "      <td>989.6</td>\n",
       "      <td>788.9</td>\n",
       "      <td>28</td>\n",
       "      <td>32.768036</td>\n",
       "    </tr>\n",
       "    <tr>\n",
       "      <th>1029</th>\n",
       "      <td>260.9</td>\n",
       "      <td>100.5</td>\n",
       "      <td>78.3</td>\n",
       "      <td>200.6</td>\n",
       "      <td>8.6</td>\n",
       "      <td>864.5</td>\n",
       "      <td>761.5</td>\n",
       "      <td>28</td>\n",
       "      <td>32.401235</td>\n",
       "    </tr>\n",
       "  </tbody>\n",
       "</table>\n",
       "</div>"
      ],
      "text/plain": [
       "      Cement (component 1)(kg in a m^3 mixture)  \\\n",
       "1025                                      276.4   \n",
       "1026                                      322.2   \n",
       "1027                                      148.5   \n",
       "1028                                      159.1   \n",
       "1029                                      260.9   \n",
       "\n",
       "      Blast Furnace Slag (component 2)(kg in a m^3 mixture)  \\\n",
       "1025                                              116.0       \n",
       "1026                                                0.0       \n",
       "1027                                              139.4       \n",
       "1028                                              186.7       \n",
       "1029                                              100.5       \n",
       "\n",
       "      Fly Ash (component 3)(kg in a m^3 mixture)  \\\n",
       "1025                                        90.3   \n",
       "1026                                       115.6   \n",
       "1027                                       108.6   \n",
       "1028                                         0.0   \n",
       "1029                                        78.3   \n",
       "\n",
       "      Water  (component 4)(kg in a m^3 mixture)  \\\n",
       "1025                                      179.6   \n",
       "1026                                      196.0   \n",
       "1027                                      192.7   \n",
       "1028                                      175.6   \n",
       "1029                                      200.6   \n",
       "\n",
       "      Superplasticizer (component 5)(kg in a m^3 mixture)  \\\n",
       "1025                                                8.9     \n",
       "1026                                               10.4     \n",
       "1027                                                6.1     \n",
       "1028                                               11.3     \n",
       "1029                                                8.6     \n",
       "\n",
       "      Coarse Aggregate  (component 6)(kg in a m^3 mixture)  \\\n",
       "1025                                              870.1      \n",
       "1026                                              817.9      \n",
       "1027                                              892.4      \n",
       "1028                                              989.6      \n",
       "1029                                              864.5      \n",
       "\n",
       "      Fine Aggregate (component 7)(kg in a m^3 mixture)  Age (day)  \\\n",
       "1025                                              768.3         28   \n",
       "1026                                              813.4         28   \n",
       "1027                                              780.0         28   \n",
       "1028                                              788.9         28   \n",
       "1029                                              761.5         28   \n",
       "\n",
       "      Concrete compressive strength(MPa, megapascals)   \n",
       "1025                                         44.284354  \n",
       "1026                                         31.178794  \n",
       "1027                                         23.696601  \n",
       "1028                                         32.768036  \n",
       "1029                                         32.401235  "
      ]
     },
     "execution_count": 17,
     "metadata": {},
     "output_type": "execute_result"
    }
   ],
   "source": [
    "concrete = pd.read_excel('./data/Concrete_Data.xls')\n",
    "concrete.tail()"
   ]
  },
  {
   "cell_type": "code",
   "execution_count": 12,
   "metadata": {
    "tags": []
   },
   "outputs": [
    {
     "data": {
      "text/html": [
       "<div>\n",
       "<style scoped>\n",
       "    .dataframe tbody tr th:only-of-type {\n",
       "        vertical-align: middle;\n",
       "    }\n",
       "\n",
       "    .dataframe tbody tr th {\n",
       "        vertical-align: top;\n",
       "    }\n",
       "\n",
       "    .dataframe thead th {\n",
       "        text-align: right;\n",
       "    }\n",
       "</style>\n",
       "<table border=\"1\" class=\"dataframe\">\n",
       "  <thead>\n",
       "    <tr style=\"text-align: right;\">\n",
       "      <th></th>\n",
       "      <th>Cement</th>\n",
       "      <th>Blast_Furnace_Slag</th>\n",
       "      <th>Fly_Ash</th>\n",
       "      <th>Water</th>\n",
       "      <th>Superplasticizer</th>\n",
       "      <th>Coarse_Aggregate</th>\n",
       "      <th>Fine_Aggregate</th>\n",
       "      <th>Age</th>\n",
       "      <th>Concrete_compressive_strength</th>\n",
       "    </tr>\n",
       "  </thead>\n",
       "  <tbody>\n",
       "    <tr>\n",
       "      <th>0</th>\n",
       "      <td>540.0</td>\n",
       "      <td>0.0</td>\n",
       "      <td>0.0</td>\n",
       "      <td>162.0</td>\n",
       "      <td>2.5</td>\n",
       "      <td>1040.0</td>\n",
       "      <td>676.0</td>\n",
       "      <td>28</td>\n",
       "      <td>79.986111</td>\n",
       "    </tr>\n",
       "    <tr>\n",
       "      <th>1</th>\n",
       "      <td>540.0</td>\n",
       "      <td>0.0</td>\n",
       "      <td>0.0</td>\n",
       "      <td>162.0</td>\n",
       "      <td>2.5</td>\n",
       "      <td>1055.0</td>\n",
       "      <td>676.0</td>\n",
       "      <td>28</td>\n",
       "      <td>61.887366</td>\n",
       "    </tr>\n",
       "    <tr>\n",
       "      <th>2</th>\n",
       "      <td>332.5</td>\n",
       "      <td>142.5</td>\n",
       "      <td>0.0</td>\n",
       "      <td>228.0</td>\n",
       "      <td>0.0</td>\n",
       "      <td>932.0</td>\n",
       "      <td>594.0</td>\n",
       "      <td>270</td>\n",
       "      <td>40.269535</td>\n",
       "    </tr>\n",
       "    <tr>\n",
       "      <th>3</th>\n",
       "      <td>332.5</td>\n",
       "      <td>142.5</td>\n",
       "      <td>0.0</td>\n",
       "      <td>228.0</td>\n",
       "      <td>0.0</td>\n",
       "      <td>932.0</td>\n",
       "      <td>594.0</td>\n",
       "      <td>365</td>\n",
       "      <td>41.052780</td>\n",
       "    </tr>\n",
       "    <tr>\n",
       "      <th>4</th>\n",
       "      <td>198.6</td>\n",
       "      <td>132.4</td>\n",
       "      <td>0.0</td>\n",
       "      <td>192.0</td>\n",
       "      <td>0.0</td>\n",
       "      <td>978.4</td>\n",
       "      <td>825.5</td>\n",
       "      <td>360</td>\n",
       "      <td>44.296075</td>\n",
       "    </tr>\n",
       "  </tbody>\n",
       "</table>\n",
       "</div>"
      ],
      "text/plain": [
       "   Cement  Blast_Furnace_Slag  Fly_Ash  Water  Superplasticizer  \\\n",
       "0   540.0                 0.0      0.0  162.0               2.5   \n",
       "1   540.0                 0.0      0.0  162.0               2.5   \n",
       "2   332.5               142.5      0.0  228.0               0.0   \n",
       "3   332.5               142.5      0.0  228.0               0.0   \n",
       "4   198.6               132.4      0.0  192.0               0.0   \n",
       "\n",
       "   Coarse_Aggregate  Fine_Aggregate  Age  Concrete_compressive_strength  \n",
       "0            1040.0           676.0   28                      79.986111  \n",
       "1            1055.0           676.0   28                      61.887366  \n",
       "2             932.0           594.0  270                      40.269535  \n",
       "3             932.0           594.0  365                      41.052780  \n",
       "4             978.4           825.5  360                      44.296075  "
      ]
     },
     "execution_count": 12,
     "metadata": {},
     "output_type": "execute_result"
    }
   ],
   "source": [
    "#Simplify column names\n",
    "\n",
    "concrete.columns = [item.split('(')[0].rstrip().replace(' ','_') for item in concrete.columns]\n",
    "concrete.head()"
   ]
  },
  {
   "cell_type": "code",
   "execution_count": 13,
   "metadata": {
    "tags": []
   },
   "outputs": [],
   "source": [
    "# Get X and y\n",
    "\n",
    "X = np.array(concrete.drop(columns = 'Concrete_compressive_strength'))\n",
    "y = concrete['Concrete_compressive_strength'].values"
   ]
  },
  {
   "cell_type": "code",
   "execution_count": 14,
   "metadata": {
    "tags": []
   },
   "outputs": [
    {
     "name": "stdout",
     "output_type": "stream",
     "text": [
      "Internal validity (R^2) : 0.66\n",
      "External validity (R^2) : 0.53\n"
     ]
    }
   ],
   "source": [
    "# Do a train/test split using sklearn, tts is very important! \n",
    "\n",
    "from sklearn.model_selection import train_test_split as tts\n",
    "Xtrain,Xvalid,ytrain,yvalid = tts(X,y, test_size=0.4, shuffle=True, random_state = 1)\n",
    "lin_reg.fit(Xtrain,ytrain)\n",
    "\n",
    "print('Internal validity (R^2) :', format(lin_reg.score(Xtrain,ytrain), '.2f'))\n",
    "print('External validity (R^2) :', format(lin_reg.score(Xvalid,yvalid), '.2f'))"
   ]
  },
  {
   "cell_type": "code",
   "execution_count": 15,
   "metadata": {
    "tags": []
   },
   "outputs": [
    {
     "name": "stdout",
     "output_type": "stream",
     "text": [
      "Internal validity (R^2) : 0.62\n",
      "External validity (R^2) : 0.60\n"
     ]
    }
   ],
   "source": [
    "# Do another train/test split with a different random_state\n",
    "\n",
    "Xtrain,Xvalid,ytrain,yvalid = tts(X,y, test_size=0.4, shuffle=True, random_state = 146)\n",
    "lin_reg.fit(Xtrain,ytrain)\n",
    "\n",
    "print('Internal validity (R^2) :', format(lin_reg.score(Xtrain,ytrain), '.2f'))\n",
    "print('External validity (R^2) :', format(lin_reg.score(Xvalid,yvalid), '.2f'))"
   ]
  },
  {
   "cell_type": "markdown",
   "metadata": {
    "tags": []
   },
   "source": [
    "### 3. k-fold cross validation"
   ]
  },
  {
   "cell_type": "markdown",
   "metadata": {},
   "source": [
    "What if you just happened to pick a particular random_state which gave us unusually high or low results, and only did this validation once?  Do you think we could be misled about how good or bad our model is?  Like, what if you flipped a coin 10 times and got 10 heads... are you sure the coin is broken, or should you perhaps flip it 10 more times (or maybe 100 more times) to check?\n",
    "\n",
    "This brings us to a concept called **$K$-fold cross validation**, and here's how it goes:\n",
    "\n",
    "1. Split your data into $K$ equally sized groups (you pick this number).  These groups are called **folds**.\n",
    "2. Use the first fold as your validation data, and the remining $K-1$ folds as your training data, and then check the scores.\n",
    "4. Use the second fold as your validation data, and the remaining $K-1$ folds as your training data.\n",
    "5. Repeat this process $K$ times, using each of the $K$ folds as your validation data exactly once.\n",
    "6. Now look at the average of the results, or perhaps a histogram of the results.  This will provide an estimate of how well you should expect your model to perform on new data.\n",
    "\n",
    "Make sense?  As usual, there is a library that will make the coding a little easier for us."
   ]
  },
  {
   "cell_type": "code",
   "execution_count": 16,
   "metadata": {
    "tags": []
   },
   "outputs": [
    {
     "data": {
      "text/plain": [
       "(1030, 8)"
      ]
     },
     "execution_count": 16,
     "metadata": {},
     "output_type": "execute_result"
    }
   ],
   "source": [
    "X.shape"
   ]
  },
  {
   "cell_type": "code",
   "execution_count": 27,
   "metadata": {
    "tags": []
   },
   "outputs": [],
   "source": [
    "#Generate K folds of data, note that we are still using the Concrete data\n",
    "from sklearn.model_selection import KFold\n",
    "kf = KFold(n_splits = 5, random_state=146, shuffle=True)\n",
    "\n",
    "train_scores = []\n",
    "validation_scores = []\n",
    "\n",
    "\n",
    "for idxTrain,idxValid in kf.split(X):\n",
    "    \n",
    "    \n",
    "    #Get train and validation data by indices\n",
    "    Xtrain = X[idxTrain,:]\n",
    "    Xvalid = X[idxValid,:]\n",
    "    ytrain = y[idxTrain]\n",
    "    yvalid = y[idxValid]\n",
    "    \n",
    "    lin_reg.fit(Xtrain,ytrain)\n",
    "    \n",
    "    #Store R^2 of train and validation sets\n",
    "    train_scores.append(lin_reg.score(Xtrain,ytrain))\n",
    "    validation_scores.append(lin_reg.score(Xvalid,yvalid))"
   ]
  },
  {
   "cell_type": "code",
   "execution_count": 28,
   "metadata": {
    "tags": []
   },
   "outputs": [
    {
     "name": "stdout",
     "output_type": "stream",
     "text": [
      "Average for train: 0.62\n",
      "Average for validation: 0.60\n"
     ]
    }
   ],
   "source": [
    "#Print average R^2 values\n",
    "\n",
    "print('Average for train:', format(np.mean(train_scores),'.2f'))\n",
    "print('Average for validation:', format(np.mean(validation_scores), '.2f'))"
   ]
  },
  {
   "cell_type": "code",
   "execution_count": 29,
   "metadata": {
    "tags": []
   },
   "outputs": [
    {
     "data": {
      "image/png": "[encoded data removed]",
      "text/plain": [
       "<Figure size 640x480 with 1 Axes>"
      ]
     },
     "metadata": {},
     "output_type": "display_data"
    }
   ],
   "source": [
    "# Visualize R^2 of train and validation data via histogram\n",
    "\n",
    "min_r2 = min(min(validation_scores), min(train_scores))\n",
    "max_r2 = max(max(validation_scores), max(train_scores))\n",
    "\n",
    "#max_r2 = 0.65\n",
    "\n",
    "n_bins = 25\n",
    "my_bins = np.linspace(min_r2, max_r2, n_bins+1)\n",
    "\n",
    "#Two histograms: one for R^2 of training data, one for R^2 of validation data\n",
    "plt.hist(train_scores, label='Training Scores', color='blue', bins=my_bins, alpha=0.5, rwidth=0.95)\n",
    "plt.hist(validation_scores, label='Validation Scores', color='red', bins=my_bins, alpha=0.5, rwidth=0.95)\n",
    "plt.legend()\n",
    "plt.show()"
   ]
  },
  {
   "cell_type": "code",
   "execution_count": 30,
   "metadata": {
    "tags": []
   },
   "outputs": [
    {
     "data": {
      "image/png": "[encoded data removed]",
      "text/plain": [
       "<Figure size 800x800 with 1 Axes>"
      ]
     },
     "metadata": {},
     "output_type": "display_data"
    }
   ],
   "source": [
    "#Visualize R^2 of train and validation data via scatterplot\n",
    "\n",
    "plt.figure(figsize=(8,8))\n",
    "plt.scatter(train_scores, validation_scores, alpha=0.5, ec='k')\n",
    "plt.xlabel('Training Score', fontsize=14)\n",
    "plt.ylabel('Validation Score', fontsize=14)\n",
    "plt.xlim([0,1])\n",
    "plt.ylim([0,1])\n",
    "#plt.ylim([min(validation_scores), 1])\n",
    "plt.show()"
   ]
  },
  {
   "cell_type": "markdown",
   "metadata": {
    "tags": []
   },
   "source": [
    "### 4. The iris data example"
   ]
  },
  {
   "cell_type": "code",
   "execution_count": 31,
   "metadata": {},
   "outputs": [],
   "source": [
    "# Load data from sklearn\n",
    "\n",
    "from sklearn.datasets import load_iris\n",
    "data = load_iris()"
   ]
  },
  {
   "cell_type": "code",
   "execution_count": 32,
   "metadata": {},
   "outputs": [
    {
     "data": {
      "text/html": [
       "<div>\n",
       "<style scoped>\n",
       "    .dataframe tbody tr th:only-of-type {\n",
       "        vertical-align: middle;\n",
       "    }\n",
       "\n",
       "    .dataframe tbody tr th {\n",
       "        vertical-align: top;\n",
       "    }\n",
       "\n",
       "    .dataframe thead th {\n",
       "        text-align: right;\n",
       "    }\n",
       "</style>\n",
       "<table border=\"1\" class=\"dataframe\">\n",
       "  <thead>\n",
       "    <tr style=\"text-align: right;\">\n",
       "      <th></th>\n",
       "      <th>sepal length (cm)</th>\n",
       "      <th>sepal width (cm)</th>\n",
       "      <th>petal length (cm)</th>\n",
       "      <th>petal width (cm)</th>\n",
       "    </tr>\n",
       "  </thead>\n",
       "  <tbody>\n",
       "    <tr>\n",
       "      <th>0</th>\n",
       "      <td>5.1</td>\n",
       "      <td>3.5</td>\n",
       "      <td>1.4</td>\n",
       "      <td>0.2</td>\n",
       "    </tr>\n",
       "    <tr>\n",
       "      <th>1</th>\n",
       "      <td>4.9</td>\n",
       "      <td>3.0</td>\n",
       "      <td>1.4</td>\n",
       "      <td>0.2</td>\n",
       "    </tr>\n",
       "    <tr>\n",
       "      <th>2</th>\n",
       "      <td>4.7</td>\n",
       "      <td>3.2</td>\n",
       "      <td>1.3</td>\n",
       "      <td>0.2</td>\n",
       "    </tr>\n",
       "    <tr>\n",
       "      <th>3</th>\n",
       "      <td>4.6</td>\n",
       "      <td>3.1</td>\n",
       "      <td>1.5</td>\n",
       "      <td>0.2</td>\n",
       "    </tr>\n",
       "    <tr>\n",
       "      <th>4</th>\n",
       "      <td>5.0</td>\n",
       "      <td>3.6</td>\n",
       "      <td>1.4</td>\n",
       "      <td>0.2</td>\n",
       "    </tr>\n",
       "  </tbody>\n",
       "</table>\n",
       "</div>"
      ],
      "text/plain": [
       "   sepal length (cm)  sepal width (cm)  petal length (cm)  petal width (cm)\n",
       "0                5.1               3.5                1.4               0.2\n",
       "1                4.9               3.0                1.4               0.2\n",
       "2                4.7               3.2                1.3               0.2\n",
       "3                4.6               3.1                1.5               0.2\n",
       "4                5.0               3.6                1.4               0.2"
      ]
     },
     "execution_count": 32,
     "metadata": {},
     "output_type": "execute_result"
    }
   ],
   "source": [
    "# Get data, put into dataframe\n",
    "\n",
    "X = data.data\n",
    "X_names = data.feature_names\n",
    "X_df = pd.DataFrame(X, columns = X_names)\n",
    "X_df.head()"
   ]
  },
  {
   "cell_type": "code",
   "execution_count": 34,
   "metadata": {},
   "outputs": [],
   "source": [
    "# Split into X and y\n",
    "\n",
    "X = np.array(X_df.drop(columns = 'petal width (cm)'))\n",
    "y = np.array(X_df['petal width (cm)'])"
   ]
  },
  {
   "cell_type": "code",
   "execution_count": 40,
   "metadata": {},
   "outputs": [
    {
     "name": "stdout",
     "output_type": "stream",
     "text": [
      "Internal validity (R^2) : 0.94\n",
      "External validity (R^2) : 0.94\n"
     ]
    }
   ],
   "source": [
    "# Try a random train/test split\n",
    "\n",
    "from sklearn.model_selection import train_test_split as tts\n",
    "Xtrain,Xvalid,ytrain,yvalid = tts(X,y,test_size=0.4, shuffle=True, random_state = 146)\n",
    "lin_reg.fit(Xtrain,ytrain)\n",
    "\n",
    "print('Internal validity (R^2) :', format(lin_reg.score(Xtrain,ytrain), '.2f'))\n",
    "print('External validity (R^2) :', format(lin_reg.score(Xvalid,yvalid), '.2f'))"
   ]
  },
  {
   "cell_type": "code",
   "execution_count": 41,
   "metadata": {},
   "outputs": [],
   "source": [
    "# k-fold cross validation, same as the above\n",
    "\n",
    "from sklearn.model_selection import KFold\n",
    "kf = KFold(n_splits = 5, random_state=146, shuffle=True)\n",
    "\n",
    "train_scores = []\n",
    "validation_scores = []\n",
    "\n",
    "for idxTrain,idxValid in kf.split(X):\n",
    "    #print(idxTrain)\n",
    "    #print(idxValid)\n",
    "    #break\n",
    "    Xtrain = X[idxTrain,:]\n",
    "    Xvalid = X[idxValid, :]\n",
    "    ytrain = y[idxTrain]\n",
    "    yvalid = y[idxValid]\n",
    "    \n",
    "    lin_reg.fit(Xtrain,ytrain)\n",
    "    \n",
    "    train_scores.append(lin_reg.score(Xtrain,ytrain))\n",
    "    validation_scores.append(lin_reg.score(Xvalid,yvalid))"
   ]
  },
  {
   "cell_type": "code",
   "execution_count": 42,
   "metadata": {},
   "outputs": [
    {
     "name": "stdout",
     "output_type": "stream",
     "text": [
      "Average for train: 0.94\n",
      "Average for validation: 0.94\n"
     ]
    }
   ],
   "source": [
    "print('Average for train:', format(np.mean(train_scores),'.2f'))\n",
    "print('Average for validation:', format(np.mean (validation_scores), '.2f'))"
   ]
  },
  {
   "cell_type": "code",
   "execution_count": 43,
   "metadata": {},
   "outputs": [
    {
     "data": {
      "image/png": "[encoded data removed]",
      "text/plain": [
       "<Figure size 640x480 with 1 Axes>"
      ]
     },
     "metadata": {},
     "output_type": "display_data"
    }
   ],
   "source": [
    "# Visualize as histogram\n",
    "\n",
    "min_r2 = min(min(validation_scores), min(train_scores))\n",
    "max_r2 = 1\n",
    "\n",
    "n_bins = 15\n",
    "my_bins = np.linspace(min_r2, max_r2, n_bins+1)\n",
    "\n",
    "plt.hist(train_scores, label='Training Scores', color='blue', bins=my_bins, alpha=0.5, rwidth=0.95)\n",
    "plt.hist(validation_scores, label='Validation Scores', color='red', bins=my_bins, alpha=0.5, rwidth=0.95)\n",
    "plt.legend()\n",
    "plt.show()"
   ]
  },
  {
   "cell_type": "code",
   "execution_count": 44,
   "metadata": {},
   "outputs": [
    {
     "data": {
      "image/png": "[encoded data removed]",
      "text/plain": [
       "<Figure size 800x800 with 1 Axes>"
      ]
     },
     "metadata": {},
     "output_type": "display_data"
    }
   ],
   "source": [
    "#Visualize as scatterplot \n",
    "\n",
    "plt.figure(figsize=(8,8))\n",
    "plt.scatter(train_scores, validation_scores, alpha=0.5, ec='k')\n",
    "plt.xlabel('Training Score', fontsize=14)\n",
    "plt.ylabel('Validation Score', fontsize=14)\n",
    "plt.xlim([0,1])\n",
    "#plt.ylim([min(validation_scores), 1])\n",
    "plt.show()"
   ]
  },
  {
   "cell_type": "code",
   "execution_count": null,
   "metadata": {},
   "outputs": [],
   "source": [
    "#DoKFold function"
   ]
  }
 ],
 "metadata": {
  "kernelspec": {
   "display_name": "Python 3 (ipykernel)",
   "language": "python",
   "name": "python3"
  },
  "language_info": {
   "codemirror_mode": {
    "name": "ipython",
    "version": 3
   },
   "file_extension": ".py",
   "mimetype": "text/x-python",
   "name": "python",
   "nbconvert_exporter": "python",
   "pygments_lexer": "ipython3",
   "version": "3.11.3"
  }
 },
 "nbformat": 4,
 "nbformat_minor": 4
}
